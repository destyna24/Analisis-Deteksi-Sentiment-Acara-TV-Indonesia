{
 "cells": [
  {
   "cell_type": "markdown",
   "metadata": {
    "id": "Pu3rvTl2FUXv"
   },
   "source": [
    "# Analisis Deteksi Sentiment Acara TV Indonesia dengan Membandingkan Algoritma Machine Learning dan Fine Tuning Bert Tensorflow\n",
    "\n",
    "- Latar belakang = Acara televisi yang beragam disajikan di berbagai stasiun televisi memiliki tingkat kualitas yang berbeda-beda. Sentimen masyarakat dapat dijadikan sebagai salah satu indikator oleh stasiun televisi untuk menentukan kualitas suatu acara. Pada twitter dapat dilakukan proses penggalian informasi mengenai sentimen masyarakat terhadap kualitas acara yang ditayangkan. Salah satu teknik penggalian informasi pada twitter adalah analisis sentimen. Pada  projek kali ini dilakukan analisis deteksi sentimen acara tv dengan algoritma machine learning dan transfer learning.\n",
    "- Tujuan \n",
    "> 1. Mengetahui cara kerja dalam menganalisis sentimen dengan python\n",
    "> 2. Mengetahui proses dalam klasifikasi sentimen di NLP dengan metode Algoritma Machine Learning dan Fine Tuning Bert Tensorflow\n",
    "> 3. Mengetahui perbandingan algoritma dari segi proses komputasi dan akurasi\n",
    "> 4. Program mampu melakukan analisis deteksi sentimen acara tv berdasarkan kalimatnya\n",
    "- Urgensi = Membuat Analisis Deteksi Sentiment Acara TV Indonesia dengan Membandingkan proses komputasi dan akurasi dari Algoritma Machine Learning dengan Fine Tuning Bert Tensorflow"
   ]
  },
  {
   "cell_type": "markdown",
   "metadata": {
    "id": "-7AeNtJgthJC"
   },
   "source": [
    "# Machine Learning "
   ]
  },
  {
   "cell_type": "markdown",
   "metadata": {
    "id": "NNEooT13tp-L"
   },
   "source": [
    "# 01 Import Library"
   ]
  },
  {
   "cell_type": "code",
   "execution_count": 1,
   "metadata": {
    "id": "tr8Ps55ut0h4"
   },
   "outputs": [],
   "source": [
    "import pandas as pd\n",
    "import numpy as np\n",
    "import matplotlib.pyplot as plt\n",
    "\n",
    "# Untuk mempermudah, simpan setiap objek agar dapat digunakan untuk pemodelan maupun deployment. Gunakan library Pickle\n",
    "import pickle\n",
    "\n",
    "%matplotlib inline"
   ]
  },
  {
   "cell_type": "code",
   "execution_count": 2,
   "metadata": {
    "colab": {
     "base_uri": "https://localhost:8080/"
    },
    "id": "6J2HoM2It-n0",
    "outputId": "ce153049-8990-4c18-f1a1-3bbbba27956a"
   },
   "outputs": [
    {
     "name": "stdout",
     "output_type": "stream",
     "text": [
      "Collecting sastrawi\n",
      "  Downloading Sastrawi-1.0.1-py2.py3-none-any.whl (209 kB)\n",
      "Installing collected packages: sastrawi\n",
      "Successfully installed sastrawi-1.0.1\n"
     ]
    }
   ],
   "source": [
    "# Install library Sastrawi\n",
    "!pip install sastrawi"
   ]
  },
  {
   "cell_type": "code",
   "execution_count": 3,
   "metadata": {
    "colab": {
     "base_uri": "https://localhost:8080/"
    },
    "id": "81ERpGuUuA6E",
    "outputId": "971cde32-e764-45ff-c14c-afcd133e9069"
   },
   "outputs": [
    {
     "name": "stderr",
     "output_type": "stream",
     "text": [
      "[nltk_data] Downloading package stopwords to\n",
      "[nltk_data]     C:\\Users\\HP\\AppData\\Roaming\\nltk_data...\n",
      "[nltk_data]   Unzipping corpora\\stopwords.zip.\n"
     ]
    },
    {
     "data": {
      "text/plain": [
       "True"
      ]
     },
     "execution_count": 3,
     "metadata": {},
     "output_type": "execute_result"
    }
   ],
   "source": [
    "import nltk\n",
    "nltk.download('stopwords')"
   ]
  },
  {
   "cell_type": "markdown",
   "metadata": {
    "id": "XWb8U_GAuEsH"
   },
   "source": [
    "# 02 Data Acquisition\n",
    "Penjelasan Sentiment\n",
    "\n",
    "0: SMS Negative\n",
    "1: SMS Positive"
   ]
  },
  {
   "cell_type": "code",
   "execution_count": 4,
   "metadata": {
    "colab": {
     "base_uri": "https://localhost:8080/",
     "height": 206
    },
    "id": "Gpo8KbdIuA8d",
    "outputId": "d1b31a75-6165-4252-9e9c-930280f689be"
   },
   "outputs": [
    {
     "data": {
      "text/html": [
       "<div>\n",
       "<style scoped>\n",
       "    .dataframe tbody tr th:only-of-type {\n",
       "        vertical-align: middle;\n",
       "    }\n",
       "\n",
       "    .dataframe tbody tr th {\n",
       "        vertical-align: top;\n",
       "    }\n",
       "\n",
       "    .dataframe thead th {\n",
       "        text-align: right;\n",
       "    }\n",
       "</style>\n",
       "<table border=\"1\" class=\"dataframe\">\n",
       "  <thead>\n",
       "    <tr style=\"text-align: right;\">\n",
       "      <th></th>\n",
       "      <th>Id</th>\n",
       "      <th>Sentiment</th>\n",
       "      <th>Acara TV</th>\n",
       "      <th>Jumlah Retweet</th>\n",
       "      <th>Text Tweet</th>\n",
       "    </tr>\n",
       "  </thead>\n",
       "  <tbody>\n",
       "    <tr>\n",
       "      <th>0</th>\n",
       "      <td>1</td>\n",
       "      <td>positive</td>\n",
       "      <td>HitamPutihTransTV</td>\n",
       "      <td>12</td>\n",
       "      <td>Undang @N_ShaniJKT48 ke hitamputih, pemenang S...</td>\n",
       "    </tr>\n",
       "    <tr>\n",
       "      <th>1</th>\n",
       "      <td>2</td>\n",
       "      <td>positive</td>\n",
       "      <td>HitamPutihTransTV</td>\n",
       "      <td>6</td>\n",
       "      <td>Selamat berbuka puasa Semoga amal ibadah hari ...</td>\n",
       "    </tr>\n",
       "    <tr>\n",
       "      <th>2</th>\n",
       "      <td>3</td>\n",
       "      <td>positive</td>\n",
       "      <td>HitamPutihTransTV</td>\n",
       "      <td>9</td>\n",
       "      <td>Ada nih di trans7 hitam putih, dia dpt penghar...</td>\n",
       "    </tr>\n",
       "    <tr>\n",
       "      <th>3</th>\n",
       "      <td>4</td>\n",
       "      <td>positive</td>\n",
       "      <td>HitamPutihTransTV</td>\n",
       "      <td>2</td>\n",
       "      <td>selamat ya mas @adietaufan masuk hitamputih</td>\n",
       "    </tr>\n",
       "    <tr>\n",
       "      <th>4</th>\n",
       "      <td>5</td>\n",
       "      <td>positive</td>\n",
       "      <td>HitamPutihTransTV</td>\n",
       "      <td>1</td>\n",
       "      <td>Asiknya nonton Hitam Putih Trans7</td>\n",
       "    </tr>\n",
       "  </tbody>\n",
       "</table>\n",
       "</div>"
      ],
      "text/plain": [
       "   Id Sentiment           Acara TV  Jumlah Retweet  \\\n",
       "0   1  positive  HitamPutihTransTV              12   \n",
       "1   2  positive  HitamPutihTransTV               6   \n",
       "2   3  positive  HitamPutihTransTV               9   \n",
       "3   4  positive  HitamPutihTransTV               2   \n",
       "4   5  positive  HitamPutihTransTV               1   \n",
       "\n",
       "                                          Text Tweet  \n",
       "0  Undang @N_ShaniJKT48 ke hitamputih, pemenang S...  \n",
       "1  Selamat berbuka puasa Semoga amal ibadah hari ...  \n",
       "2  Ada nih di trans7 hitam putih, dia dpt penghar...  \n",
       "3        selamat ya mas @adietaufan masuk hitamputih  \n",
       "4                  Asiknya nonton Hitam Putih Trans7  "
      ]
     },
     "execution_count": 4,
     "metadata": {},
     "output_type": "execute_result"
    }
   ],
   "source": [
    "dt = pd.read_csv('https://raw.githubusercontent.com/rizalespe/Dataset-Sentimen-Analisis-Bahasa-Indonesia/master/dataset_tweet_sentimen_tayangan_tv.csv')\n",
    "dt.head()"
   ]
  },
  {
   "cell_type": "code",
   "execution_count": 5,
   "metadata": {
    "colab": {
     "base_uri": "https://localhost:8080/"
    },
    "id": "xI8kBo5OuOBt",
    "outputId": "e7186acb-aa33-46bb-dc17-443f96cfadc1"
   },
   "outputs": [
    {
     "name": "stdout",
     "output_type": "stream",
     "text": [
      "<class 'pandas.core.frame.DataFrame'>\n",
      "RangeIndex: 400 entries, 0 to 399\n",
      "Data columns (total 5 columns):\n",
      " #   Column          Non-Null Count  Dtype \n",
      "---  ------          --------------  ----- \n",
      " 0   Id              400 non-null    int64 \n",
      " 1   Sentiment       400 non-null    object\n",
      " 2   Acara TV        400 non-null    object\n",
      " 3   Jumlah Retweet  400 non-null    int64 \n",
      " 4   Text Tweet      400 non-null    object\n",
      "dtypes: int64(2), object(3)\n",
      "memory usage: 15.8+ KB\n"
     ]
    }
   ],
   "source": [
    "dt.info()"
   ]
  },
  {
   "cell_type": "code",
   "execution_count": 6,
   "metadata": {
    "colab": {
     "base_uri": "https://localhost:8080/"
    },
    "id": "TurYpCDkuQGf",
    "outputId": "391a198d-a1d9-484b-f781-ec95a622b54e"
   },
   "outputs": [
    {
     "name": "stdout",
     "output_type": "stream",
     "text": [
      "['HitamPutihTransTV' 'IndonesiaLawyersClubTvOne' 'KickAndyMetroTV'\n",
      " 'MataNajwaMetroTV']\n"
     ]
    }
   ],
   "source": [
    "#Mengetahui nilai kategori dari tiap variabel\n",
    "col = dt.iloc[:,[2]]\n",
    "col\n",
    "for i in col:\n",
    "  print(dt[i].unique())"
   ]
  },
  {
   "cell_type": "code",
   "execution_count": 7,
   "metadata": {
    "colab": {
     "base_uri": "https://localhost:8080/"
    },
    "id": "BJLclmPkuRsu",
    "outputId": "2734adb5-2924-4401-d3b2-ffe3d465ea70"
   },
   "outputs": [
    {
     "name": "stdout",
     "output_type": "stream",
     "text": [
      "IndonesiaLawyersClubTvOne    100\n",
      "MataNajwaMetroTV             100\n",
      "HitamPutihTransTV            100\n",
      "KickAndyMetroTV              100\n",
      "Name: Acara TV, dtype: int64\n"
     ]
    }
   ],
   "source": [
    "#Mengetahui frekuensi tiap kategori dari variabel dataset\n",
    "for i in col:\n",
    "  print(dt[i].value_counts())"
   ]
  },
  {
   "cell_type": "code",
   "execution_count": 8,
   "metadata": {
    "id": "6fGjsJS_uTFX"
   },
   "outputs": [],
   "source": [
    "#Encoding pada sentimet dan acara tv\n",
    "from sklearn.preprocessing import LabelEncoder\n",
    "\n",
    "labelencoder = LabelEncoder()\n",
    "dt['Sentiment'] = labelencoder.fit_transform(dt['Sentiment'])\n",
    "dt['Acara TV'] = labelencoder.fit_transform(dt['Acara TV'])"
   ]
  },
  {
   "cell_type": "code",
   "execution_count": 9,
   "metadata": {
    "colab": {
     "base_uri": "https://localhost:8080/"
    },
    "id": "pr1Ad_91uYD8",
    "outputId": "41c02ef3-12f8-4fb5-b89a-f79e32e87d50"
   },
   "outputs": [
    {
     "name": "stdout",
     "output_type": "stream",
     "text": [
      "Total Jumlah SMS: 400 data\n",
      "\n",
      "terdiri dari (label):\n",
      "-- [0] Negative\t: 200 data\n",
      "-- [1] Positive\t: 200 data\n"
     ]
    }
   ],
   "source": [
    "print('Total Jumlah SMS:', dt.shape[0], 'data\\n')\n",
    "print('terdiri dari (label):')\n",
    "print('-- [0] Negative\\t:', dt[dt.Sentiment == 0].shape[0], 'data')\n",
    "print('-- [1] Positive\\t:', dt[dt.Sentiment == 1].shape[0], 'data')"
   ]
  },
  {
   "cell_type": "code",
   "execution_count": 10,
   "metadata": {
    "colab": {
     "base_uri": "https://localhost:8080/",
     "height": 323
    },
    "id": "NMeZTYt2uZvb",
    "outputId": "6917a5f7-51b0-440e-f01e-0b5c5b94174b"
   },
   "outputs": [
    {
     "data": {
      "image/png": "[encoded data removed]",
      "text/plain": [
       "<Figure size 560x320 with 1 Axes>"
      ]
     },
     "metadata": {
      "needs_background": "light"
     },
     "output_type": "display_data"
    }
   ],
   "source": [
    "height = dt['Sentiment'].value_counts()\n",
    "labels = ('Negative', 'Positive')\n",
    "y_pos = np.arange(len(labels))\n",
    "\n",
    "plt.figure(figsize=(7,4), dpi=80)\n",
    "plt.ylim(0,250)\n",
    "plt.title('Distribusi Sentiment terhadap Acara TV', fontweight='bold')\n",
    "plt.xlabel('Kategori', fontweight='bold')\n",
    "plt.ylabel('Jumlah', fontweight='bold')\n",
    "plt.bar(y_pos, height, color=['deepskyblue', 'royalblue', 'skyblue'])\n",
    "plt.xticks(y_pos, labels)\n",
    "plt.show()"
   ]
  },
  {
   "cell_type": "markdown",
   "metadata": {
    "id": "mf4V6vP7ugAU"
   },
   "source": [
    "# 03 Text Preprocessing"
   ]
  },
  {
   "cell_type": "markdown",
   "metadata": {
    "id": "8xETdGZ0ul0p"
   },
   "source": [
    "## Case Folding"
   ]
  },
  {
   "cell_type": "code",
   "execution_count": 11,
   "metadata": {
    "id": "CZnDrR52udT1"
   },
   "outputs": [],
   "source": [
    "import re\n",
    "\n",
    "# Buat fungsi untuk langkah case folding\n",
    "def casefolding(text):\n",
    "  text = text.lower()                               # Mengubah teks menjadi lower case\n",
    "  text = re.sub(r'https?://\\S+|www\\.\\S+', '', text) # Menghapus URL\n",
    "  text = re.sub(r'[-+]?[0-9]+', '', text)           # Menghapus angka\n",
    "  text = re.sub(r'[^\\w\\s]','', text)                # Menghapus karakter tanda baca\n",
    "  text = text.strip()\n",
    "  return text"
   ]
  },
  {
   "cell_type": "code",
   "execution_count": 12,
   "metadata": {
    "colab": {
     "base_uri": "https://localhost:8080/"
    },
    "id": "dqGtp8vFusKG",
    "outputId": "68f98103-993b-410b-f8e7-da9650846c1b"
   },
   "outputs": [
    {
     "name": "stdout",
     "output_type": "stream",
     "text": [
      "Raw data\t:  Hitam putih bego, haruka diundang bentar biar pd liat younglex, udah gt malah dihina, Bego\n",
      "\n",
      "Case folding\t:  hitam putih bego haruka diundang bentar biar pd liat younglex udah gt malah dihina bego\n"
     ]
    }
   ],
   "source": [
    "raw_sample = dt['Text Tweet'].iloc[50]\n",
    "case_folding = casefolding(raw_sample)\n",
    "\n",
    "print('Raw data\\t: ', raw_sample)\n",
    "print('\\nCase folding\\t: ', case_folding)"
   ]
  },
  {
   "cell_type": "markdown",
   "metadata": {
    "id": "fWnlgDDuuw8T"
   },
   "source": [
    "## Word Normalization"
   ]
  },
  {
   "cell_type": "code",
   "execution_count": 13,
   "metadata": {
    "colab": {
     "base_uri": "https://localhost:8080/"
    },
    "id": "SCZmCWDpu1wp",
    "outputId": "b9e9daad-8424-44de-c832-dae591df0d71"
   },
   "outputs": [
    {
     "name": "stdout",
     "output_type": "stream",
     "text": [
      "   _id      singkat       hasil\n",
      "0    1         abis       habis\n",
      "1    2       accent     tekanan\n",
      "2    3       accept      terima\n",
      "3    4     accident  kecelakaan\n",
      "4    5  achievement    prestasi\n",
      "5    6         acra       acara\n",
      "6    7       acrany    acaranya\n",
      "7    8       acrnya    acaranya\n",
      "8    9       action        aksi\n",
      "9   10       active       aktif\n"
     ]
    },
    {
     "data": {
      "text/plain": [
       "(3720, 3)"
      ]
     },
     "execution_count": 13,
     "metadata": {},
     "output_type": "execute_result"
    }
   ],
   "source": [
    "key_norm = pd.read_csv('https://raw.githubusercontent.com/ksnugroho/klasifikasi-spam-sms/master/data/key_norm.csv')\n",
    "print(key_norm.head(10))\n",
    "\n",
    "key_norm.shape"
   ]
  },
  {
   "cell_type": "code",
   "execution_count": 14,
   "metadata": {
    "id": "zjfODctAu3qh"
   },
   "outputs": [],
   "source": [
    "def text_normalize(text):\n",
    "  text = ' '.join([key_norm[key_norm['singkat'] == word]['hasil'].values[0] if (key_norm['singkat'] == word).any() else word for word in text.split()])\n",
    "  text = str.lower(text)\n",
    "  return text"
   ]
  },
  {
   "cell_type": "markdown",
   "metadata": {
    "id": "jfY9Zkuqu6Et"
   },
   "source": [
    "## Filtering (Stopword Removal)"
   ]
  },
  {
   "cell_type": "code",
   "execution_count": 15,
   "metadata": {
    "id": "oXYB7TYnu-U4"
   },
   "outputs": [],
   "source": [
    "from nltk.tokenize import sent_tokenize, word_tokenize\n",
    "from nltk.corpus import stopwords\n",
    "\n",
    "stopwords_ind = stopwords.words('indonesian')"
   ]
  },
  {
   "cell_type": "code",
   "execution_count": 16,
   "metadata": {
    "colab": {
     "base_uri": "https://localhost:8080/"
    },
    "id": "AoT-aP3qu_3Y",
    "outputId": "5112beea-2a02-4136-81d6-4d35fd9c5d7b"
   },
   "outputs": [
    {
     "data": {
      "text/plain": [
       "758"
      ]
     },
     "execution_count": 16,
     "metadata": {},
     "output_type": "execute_result"
    }
   ],
   "source": [
    "len(stopwords_ind)"
   ]
  },
  {
   "cell_type": "code",
   "execution_count": 17,
   "metadata": {
    "colab": {
     "base_uri": "https://localhost:8080/"
    },
    "id": "dYiro6SpvBZm",
    "outputId": "61d7f2af-bd40-4d83-9d7a-8be6ed6689e9"
   },
   "outputs": [
    {
     "data": {
      "text/plain": [
       "['ada',\n",
       " 'adalah',\n",
       " 'adanya',\n",
       " 'adapun',\n",
       " 'agak',\n",
       " 'agaknya',\n",
       " 'agar',\n",
       " 'akan',\n",
       " 'akankah',\n",
       " 'akhir',\n",
       " 'akhiri',\n",
       " 'akhirnya',\n",
       " 'aku',\n",
       " 'akulah',\n",
       " 'amat',\n",
       " 'amatlah',\n",
       " 'anda',\n",
       " 'andalah',\n",
       " 'antar',\n",
       " 'antara']"
      ]
     },
     "execution_count": 17,
     "metadata": {},
     "output_type": "execute_result"
    }
   ],
   "source": [
    "# Lihat daftar stopword yang disediakan NLTK\n",
    "stopwords_ind[:20]"
   ]
  },
  {
   "cell_type": "code",
   "execution_count": 18,
   "metadata": {
    "id": "OLsb1HxlvFEa"
   },
   "outputs": [],
   "source": [
    "# Buat fungsi untuk langkah stopword removal\n",
    "\n",
    "more_stopword = ['tsel', 'gb', 'rb', 'pd', 'gt']                    # Tambahkan kata lain dalam daftar stopword\n",
    "stopwords_ind = stopwords_ind + more_stopword\n",
    "\n",
    "def remove_stop_words(text):\n",
    "  clean_words = []\n",
    "  text = text.split()\n",
    "  for word in text:\n",
    "      if word not in stopwords_ind:\n",
    "          clean_words.append(word)\n",
    "  return \" \".join(clean_words)"
   ]
  },
  {
   "cell_type": "code",
   "execution_count": 19,
   "metadata": {
    "colab": {
     "base_uri": "https://localhost:8080/"
    },
    "id": "r-1C6b60vFvG",
    "outputId": "ba07ffa9-0e1d-4962-8994-b4e55ef096c3"
   },
   "outputs": [
    {
     "name": "stdout",
     "output_type": "stream",
     "text": [
      "Raw data\t\t:  Hitam putih bego, haruka diundang bentar biar pd liat younglex, udah gt malah dihina, Bego\n",
      "\n",
      "Case folding\t\t:  hitam putih bego haruka diundang bentar biar pd liat younglex udah gt malah dihina bego\n",
      "\n",
      "Stopword removal\t:  hitam putih bego haruka diundang bentar biar liat younglex udah dihina bego\n"
     ]
    }
   ],
   "source": [
    "raw_sample = dt['Text Tweet'].iloc[50]\n",
    "case_folding = casefolding(raw_sample)\n",
    "stopword_removal = remove_stop_words(case_folding)\n",
    "\n",
    "print('Raw data\\t\\t: ', raw_sample)\n",
    "print('\\nCase folding\\t\\t: ', case_folding)\n",
    "print('\\nStopword removal\\t: ', stopword_removal)"
   ]
  },
  {
   "cell_type": "markdown",
   "metadata": {
    "id": "x4lbSCR_vIE8"
   },
   "source": [
    "## Stemming"
   ]
  },
  {
   "cell_type": "code",
   "execution_count": 20,
   "metadata": {
    "id": "QLJmzwJ8vHQp"
   },
   "outputs": [],
   "source": [
    "from Sastrawi.Stemmer.StemmerFactory import StemmerFactory\n",
    "\n",
    "factory = StemmerFactory()\n",
    "stemmer = factory.create_stemmer()\n",
    "\n",
    "# Buat fungsi untuk langkah stemming bahasa Indonesia\n",
    "def stemming(text):\n",
    "  text = stemmer.stem(text)\n",
    "  return text"
   ]
  },
  {
   "cell_type": "code",
   "execution_count": 21,
   "metadata": {
    "colab": {
     "base_uri": "https://localhost:8080/"
    },
    "id": "EUA3yc7DvMyB",
    "outputId": "72d8bae4-2a8d-46ae-e7f2-2f592ac58fdc"
   },
   "outputs": [
    {
     "name": "stdout",
     "output_type": "stream",
     "text": [
      "Raw data\t\t:  Hitam putih bego, haruka diundang bentar biar pd liat younglex, udah gt malah dihina, Bego\n",
      "Case folding\t\t:  hitam putih bego haruka diundang bentar biar pd liat younglex udah gt malah dihina bego\n",
      "Stopword removal\t:  hitam putih bego haruka diundang bentar biar liat younglex udah dihina bego\n",
      "Stemming\t\t:  hitam putih bego haruka undang bentar biar liat younglex udah hina bego\n"
     ]
    }
   ],
   "source": [
    "raw_sample = dt['Text Tweet'].iloc[50]\n",
    "case_folding = casefolding(raw_sample)\n",
    "stopword_removal = remove_stop_words(case_folding)\n",
    "text_stemming = stemming(stopword_removal)\n",
    "\n",
    "print('Raw data\\t\\t: ', raw_sample)\n",
    "print('Case folding\\t\\t: ', case_folding)\n",
    "print('Stopword removal\\t: ', stopword_removal)\n",
    "print('Stemming\\t\\t: ', text_stemming)"
   ]
  },
  {
   "cell_type": "markdown",
   "metadata": {
    "id": "nGFOBVvYvPt2"
   },
   "source": [
    "## Text Preprocessing Pipeline"
   ]
  },
  {
   "cell_type": "code",
   "execution_count": 22,
   "metadata": {
    "id": "uWj-gHvqvOlj"
   },
   "outputs": [],
   "source": [
    "# Buat fungsi untuk menggabungkan seluruh langkah text preprocessing\n",
    "def text_preprocessing_process(text):\n",
    "  text = casefolding(text)\n",
    "  text = text_normalize(text)\n",
    "  text = remove_stop_words(text)\n",
    "  text = stemming(text)\n",
    "  return text"
   ]
  },
  {
   "cell_type": "code",
   "execution_count": 23,
   "metadata": {
    "colab": {
     "base_uri": "https://localhost:8080/"
    },
    "id": "eNeHOnlyvUz8",
    "outputId": "d9d67cf1-8861-4fb5-b1bb-a46cafefd227"
   },
   "outputs": [
    {
     "name": "stdout",
     "output_type": "stream",
     "text": [
      "Wall time: 1min 53s\n"
     ]
    }
   ],
   "source": [
    "%%time\n",
    "dt['clean_teks'] = dt['Text Tweet'].apply(text_preprocessing_process)\n",
    "\n",
    "# Perhatikan waktu komputasi ketika proses text preprocessing"
   ]
  },
  {
   "cell_type": "code",
   "execution_count": 24,
   "metadata": {
    "colab": {
     "base_uri": "https://localhost:8080/",
     "height": 424
    },
    "id": "cIP2LSB_vXZo",
    "outputId": "d7c49041-f7f1-46eb-896c-2f10b53d0dcd"
   },
   "outputs": [
    {
     "data": {
      "text/html": [
       "<div>\n",
       "<style scoped>\n",
       "    .dataframe tbody tr th:only-of-type {\n",
       "        vertical-align: middle;\n",
       "    }\n",
       "\n",
       "    .dataframe tbody tr th {\n",
       "        vertical-align: top;\n",
       "    }\n",
       "\n",
       "    .dataframe thead th {\n",
       "        text-align: right;\n",
       "    }\n",
       "</style>\n",
       "<table border=\"1\" class=\"dataframe\">\n",
       "  <thead>\n",
       "    <tr style=\"text-align: right;\">\n",
       "      <th></th>\n",
       "      <th>Id</th>\n",
       "      <th>Sentiment</th>\n",
       "      <th>Acara TV</th>\n",
       "      <th>Jumlah Retweet</th>\n",
       "      <th>Text Tweet</th>\n",
       "      <th>clean_teks</th>\n",
       "    </tr>\n",
       "  </thead>\n",
       "  <tbody>\n",
       "    <tr>\n",
       "      <th>0</th>\n",
       "      <td>1</td>\n",
       "      <td>1</td>\n",
       "      <td>0</td>\n",
       "      <td>12</td>\n",
       "      <td>Undang @N_ShaniJKT48 ke hitamputih, pemenang S...</td>\n",
       "      <td>undang n shanijkt hitamputih menang ssk jakart...</td>\n",
       "    </tr>\n",
       "    <tr>\n",
       "      <th>1</th>\n",
       "      <td>2</td>\n",
       "      <td>1</td>\n",
       "      <td>0</td>\n",
       "      <td>6</td>\n",
       "      <td>Selamat berbuka puasa Semoga amal ibadah hari ...</td>\n",
       "      <td>selamat buka puasa moga amal ibadah ni terima ...</td>\n",
       "    </tr>\n",
       "    <tr>\n",
       "      <th>2</th>\n",
       "      <td>3</td>\n",
       "      <td>1</td>\n",
       "      <td>0</td>\n",
       "      <td>9</td>\n",
       "      <td>Ada nih di trans7 hitam putih, dia dpt penghar...</td>\n",
       "      <td>nih trans hitam putih harga norwegia hitamputih</td>\n",
       "    </tr>\n",
       "    <tr>\n",
       "      <th>3</th>\n",
       "      <td>4</td>\n",
       "      <td>1</td>\n",
       "      <td>0</td>\n",
       "      <td>2</td>\n",
       "      <td>selamat ya mas @adietaufan masuk hitamputih</td>\n",
       "      <td>selamat ya mas adietaufan masuk hitamputih</td>\n",
       "    </tr>\n",
       "    <tr>\n",
       "      <th>4</th>\n",
       "      <td>5</td>\n",
       "      <td>1</td>\n",
       "      <td>0</td>\n",
       "      <td>1</td>\n",
       "      <td>Asiknya nonton Hitam Putih Trans7</td>\n",
       "      <td>asiknya nonton hitam putih trans</td>\n",
       "    </tr>\n",
       "    <tr>\n",
       "      <th>...</th>\n",
       "      <td>...</td>\n",
       "      <td>...</td>\n",
       "      <td>...</td>\n",
       "      <td>...</td>\n",
       "      <td>...</td>\n",
       "      <td>...</td>\n",
       "    </tr>\n",
       "    <tr>\n",
       "      <th>395</th>\n",
       "      <td>396</td>\n",
       "      <td>0</td>\n",
       "      <td>3</td>\n",
       "      <td>0</td>\n",
       "      <td>ini apa banget deh gw paling kesel klo orang2 ...</td>\n",
       "      <td>banget deh kesel orang debat pakai emosi matan...</td>\n",
       "    </tr>\n",
       "    <tr>\n",
       "      <th>396</th>\n",
       "      <td>397</td>\n",
       "      <td>0</td>\n",
       "      <td>3</td>\n",
       "      <td>0</td>\n",
       "      <td>Orang miskin semakin miskin klo sekolah melaku...</td>\n",
       "      <td>orang miskin miskin sekolah pungut liar</td>\n",
       "    </tr>\n",
       "    <tr>\n",
       "      <th>397</th>\n",
       "      <td>398</td>\n",
       "      <td>0</td>\n",
       "      <td>3</td>\n",
       "      <td>0</td>\n",
       "      <td>ga boLeh emosi, cepat tua, nonton #matanajwame...</td>\n",
       "      <td>emosi cepat tua nonton matanajwametrotv lihat ...</td>\n",
       "    </tr>\n",
       "    <tr>\n",
       "      <th>398</th>\n",
       "      <td>399</td>\n",
       "      <td>0</td>\n",
       "      <td>3</td>\n",
       "      <td>0</td>\n",
       "      <td>dr penampilan saja kyk preman taunya bkin kisr...</td>\n",
       "      <td>tampil preman tau bkin kisruh usak matanajwame...</td>\n",
       "    </tr>\n",
       "    <tr>\n",
       "      <th>399</th>\n",
       "      <td>400</td>\n",
       "      <td>0</td>\n",
       "      <td>3</td>\n",
       "      <td>0</td>\n",
       "      <td>Jawab aja ga usah berbelit-belit. Muter2 ga je...</td>\n",
       "      <td>berbelitbelit putar buang mutu matanajwametrotv</td>\n",
       "    </tr>\n",
       "  </tbody>\n",
       "</table>\n",
       "<p>400 rows × 6 columns</p>\n",
       "</div>"
      ],
      "text/plain": [
       "      Id  Sentiment  Acara TV  Jumlah Retweet  \\\n",
       "0      1          1         0              12   \n",
       "1      2          1         0               6   \n",
       "2      3          1         0               9   \n",
       "3      4          1         0               2   \n",
       "4      5          1         0               1   \n",
       "..   ...        ...       ...             ...   \n",
       "395  396          0         3               0   \n",
       "396  397          0         3               0   \n",
       "397  398          0         3               0   \n",
       "398  399          0         3               0   \n",
       "399  400          0         3               0   \n",
       "\n",
       "                                            Text Tweet  \\\n",
       "0    Undang @N_ShaniJKT48 ke hitamputih, pemenang S...   \n",
       "1    Selamat berbuka puasa Semoga amal ibadah hari ...   \n",
       "2    Ada nih di trans7 hitam putih, dia dpt penghar...   \n",
       "3          selamat ya mas @adietaufan masuk hitamputih   \n",
       "4                    Asiknya nonton Hitam Putih Trans7   \n",
       "..                                                 ...   \n",
       "395  ini apa banget deh gw paling kesel klo orang2 ...   \n",
       "396  Orang miskin semakin miskin klo sekolah melaku...   \n",
       "397  ga boLeh emosi, cepat tua, nonton #matanajwame...   \n",
       "398  dr penampilan saja kyk preman taunya bkin kisr...   \n",
       "399  Jawab aja ga usah berbelit-belit. Muter2 ga je...   \n",
       "\n",
       "                                            clean_teks  \n",
       "0    undang n shanijkt hitamputih menang ssk jakart...  \n",
       "1    selamat buka puasa moga amal ibadah ni terima ...  \n",
       "2      nih trans hitam putih harga norwegia hitamputih  \n",
       "3           selamat ya mas adietaufan masuk hitamputih  \n",
       "4                     asiknya nonton hitam putih trans  \n",
       "..                                                 ...  \n",
       "395  banget deh kesel orang debat pakai emosi matan...  \n",
       "396            orang miskin miskin sekolah pungut liar  \n",
       "397  emosi cepat tua nonton matanajwametrotv lihat ...  \n",
       "398  tampil preman tau bkin kisruh usak matanajwame...  \n",
       "399    berbelitbelit putar buang mutu matanajwametrotv  \n",
       "\n",
       "[400 rows x 6 columns]"
      ]
     },
     "execution_count": 24,
     "metadata": {},
     "output_type": "execute_result"
    }
   ],
   "source": [
    "dt"
   ]
  },
  {
   "cell_type": "markdown",
   "metadata": {
    "id": "WTUDMVjXvt8X"
   },
   "source": [
    "# 04 Feature Engineering"
   ]
  },
  {
   "cell_type": "code",
   "execution_count": 25,
   "metadata": {
    "id": "E4g6sCvOvXbx"
   },
   "outputs": [],
   "source": [
    "# Pisahkan kolom fitur dan target\n",
    "X = dt['clean_teks']\n",
    "y = dt['Sentiment']"
   ]
  },
  {
   "cell_type": "markdown",
   "metadata": {
    "id": "yEz4wTfmve4R"
   },
   "source": [
    "## Feature Extraction (TF-IDF & N-Gram)\n",
    "Proses mengubah teks menjadi vector menggunakan metode TF-IDF"
   ]
  },
  {
   "cell_type": "code",
   "execution_count": 26,
   "metadata": {
    "colab": {
     "base_uri": "https://localhost:8080/"
    },
    "id": "nShYIA8lvdCd",
    "outputId": "22f3ffe0-f257-4f8a-ae98-6eab7b07190c"
   },
   "outputs": [
    {
     "data": {
      "text/html": [
       "<style>#sk-container-id-1 {color: black;background-color: white;}#sk-container-id-1 pre{padding: 0;}#sk-container-id-1 div.sk-toggleable {background-color: white;}#sk-container-id-1 label.sk-toggleable__label {cursor: pointer;display: block;width: 100%;margin-bottom: 0;padding: 0.3em;box-sizing: border-box;text-align: center;}#sk-container-id-1 label.sk-toggleable__label-arrow:before {content: \"▸\";float: left;margin-right: 0.25em;color: #696969;}#sk-container-id-1 label.sk-toggleable__label-arrow:hover:before {color: black;}#sk-container-id-1 div.sk-estimator:hover label.sk-toggleable__label-arrow:before {color: black;}#sk-container-id-1 div.sk-toggleable__content {max-height: 0;max-width: 0;overflow: hidden;text-align: left;background-color: #f0f8ff;}#sk-container-id-1 div.sk-toggleable__content pre {margin: 0.2em;color: black;border-radius: 0.25em;background-color: #f0f8ff;}#sk-container-id-1 input.sk-toggleable__control:checked~div.sk-toggleable__content {max-height: 200px;max-width: 100%;overflow: auto;}#sk-container-id-1 input.sk-toggleable__control:checked~label.sk-toggleable__label-arrow:before {content: \"▾\";}#sk-container-id-1 div.sk-estimator input.sk-toggleable__control:checked~label.sk-toggleable__label {background-color: #d4ebff;}#sk-container-id-1 div.sk-label input.sk-toggleable__control:checked~label.sk-toggleable__label {background-color: #d4ebff;}#sk-container-id-1 input.sk-hidden--visually {border: 0;clip: rect(1px 1px 1px 1px);clip: rect(1px, 1px, 1px, 1px);height: 1px;margin: -1px;overflow: hidden;padding: 0;position: absolute;width: 1px;}#sk-container-id-1 div.sk-estimator {font-family: monospace;background-color: #f0f8ff;border: 1px dotted black;border-radius: 0.25em;box-sizing: border-box;margin-bottom: 0.5em;}#sk-container-id-1 div.sk-estimator:hover {background-color: #d4ebff;}#sk-container-id-1 div.sk-parallel-item::after {content: \"\";width: 100%;border-bottom: 1px solid gray;flex-grow: 1;}#sk-container-id-1 div.sk-label:hover label.sk-toggleable__label {background-color: #d4ebff;}#sk-container-id-1 div.sk-serial::before {content: \"\";position: absolute;border-left: 1px solid gray;box-sizing: border-box;top: 0;bottom: 0;left: 50%;z-index: 0;}#sk-container-id-1 div.sk-serial {display: flex;flex-direction: column;align-items: center;background-color: white;padding-right: 0.2em;padding-left: 0.2em;position: relative;}#sk-container-id-1 div.sk-item {position: relative;z-index: 1;}#sk-container-id-1 div.sk-parallel {display: flex;align-items: stretch;justify-content: center;background-color: white;position: relative;}#sk-container-id-1 div.sk-item::before, #sk-container-id-1 div.sk-parallel-item::before {content: \"\";position: absolute;border-left: 1px solid gray;box-sizing: border-box;top: 0;bottom: 0;left: 50%;z-index: -1;}#sk-container-id-1 div.sk-parallel-item {display: flex;flex-direction: column;z-index: 1;position: relative;background-color: white;}#sk-container-id-1 div.sk-parallel-item:first-child::after {align-self: flex-end;width: 50%;}#sk-container-id-1 div.sk-parallel-item:last-child::after {align-self: flex-start;width: 50%;}#sk-container-id-1 div.sk-parallel-item:only-child::after {width: 0;}#sk-container-id-1 div.sk-dashed-wrapped {border: 1px dashed gray;margin: 0 0.4em 0.5em 0.4em;box-sizing: border-box;padding-bottom: 0.4em;background-color: white;}#sk-container-id-1 div.sk-label label {font-family: monospace;font-weight: bold;display: inline-block;line-height: 1.2em;}#sk-container-id-1 div.sk-label-container {text-align: center;}#sk-container-id-1 div.sk-container {/* jupyter's `normalize.less` sets `[hidden] { display: none; }` but bootstrap.min.css set `[hidden] { display: none !important; }` so we also need the `!important` here to be able to override the default hidden behavior on the sphinx rendered scikit-learn.org. See: https://github.com/scikit-learn/scikit-learn/issues/21755 */display: inline-block !important;position: relative;}#sk-container-id-1 div.sk-text-repr-fallback {display: none;}</style><div id=\"sk-container-id-1\" class=\"sk-top-container\"><div class=\"sk-text-repr-fallback\"><pre>TfidfVectorizer()</pre><b>In a Jupyter environment, please rerun this cell to show the HTML representation or trust the notebook. <br />On GitHub, the HTML representation is unable to render, please try loading this page with nbviewer.org.</b></div><div class=\"sk-container\" hidden><div class=\"sk-item\"><div class=\"sk-estimator sk-toggleable\"><input class=\"sk-toggleable__control sk-hidden--visually\" id=\"sk-estimator-id-1\" type=\"checkbox\" checked><label for=\"sk-estimator-id-1\" class=\"sk-toggleable__label sk-toggleable__label-arrow\">TfidfVectorizer</label><div class=\"sk-toggleable__content\"><pre>TfidfVectorizer()</pre></div></div></div></div></div>"
      ],
      "text/plain": [
       "TfidfVectorizer()"
      ]
     },
     "execution_count": 26,
     "metadata": {},
     "output_type": "execute_result"
    }
   ],
   "source": [
    "from sklearn.feature_extraction.text import TfidfVectorizer\n",
    "\n",
    "tf_idf = TfidfVectorizer(ngram_range=(1,1))\n",
    "tf_idf.fit(X)"
   ]
  },
  {
   "cell_type": "code",
   "execution_count": 27,
   "metadata": {
    "colab": {
     "base_uri": "https://localhost:8080/"
    },
    "id": "EI79OZZzv84J",
    "outputId": "95b33d3f-58f0-4932-da6e-dda630020efe"
   },
   "outputs": [
    {
     "name": "stdout",
     "output_type": "stream",
     "text": [
      "1175\n"
     ]
    }
   ],
   "source": [
    "# Melihat Jumlah Fitur\n",
    "print(len(tf_idf.get_feature_names_out()))"
   ]
  },
  {
   "cell_type": "code",
   "execution_count": 28,
   "metadata": {
    "colab": {
     "base_uri": "https://localhost:8080/"
    },
    "id": "k7VXBUXgv-cT",
    "outputId": "6be5a310-5852-4aed-a6b3-3c328d5ab2b5"
   },
   "outputs": [
    {
     "name": "stdout",
     "output_type": "stream",
     "text": [
      "['aa' 'aagym' 'abang' ... 'yukikatou' 'zaitun' 'zhonk']\n"
     ]
    }
   ],
   "source": [
    "# Melihat fitur-fitur apa saja yang ada di dalam corpus\n",
    "print(tf_idf.get_feature_names_out())"
   ]
  },
  {
   "cell_type": "code",
   "execution_count": 29,
   "metadata": {
    "colab": {
     "base_uri": "https://localhost:8080/"
    },
    "id": "c5OE9Jllv_42",
    "outputId": "06961ead-08c6-430d-dfed-b65aa2ce0797"
   },
   "outputs": [
    {
     "data": {
      "text/plain": [
       "array([[0., 0., 0., ..., 0., 0., 0.],\n",
       "       [0., 0., 0., ..., 0., 0., 0.],\n",
       "       [0., 0., 0., ..., 0., 0., 0.],\n",
       "       ...,\n",
       "       [0., 0., 0., ..., 0., 0., 0.],\n",
       "       [0., 0., 0., ..., 0., 0., 0.],\n",
       "       [0., 0., 0., ..., 0., 0., 0.]])"
      ]
     },
     "execution_count": 29,
     "metadata": {},
     "output_type": "execute_result"
    }
   ],
   "source": [
    "# Melihat matriks jumlah token\n",
    "# Data ini siap untuk dimasukkan dalam proses pemodelan (machine learning)\n",
    "\n",
    "X_tf_idf = tf_idf.transform(X).toarray()\n",
    "X_tf_idf"
   ]
  },
  {
   "cell_type": "code",
   "execution_count": 30,
   "metadata": {
    "colab": {
     "base_uri": "https://localhost:8080/",
     "height": 488
    },
    "id": "toXm1Hu9wCGS",
    "outputId": "949ec80b-d630-4bb0-9955-29a6ece66298"
   },
   "outputs": [
    {
     "data": {
      "text/html": [
       "<div>\n",
       "<style scoped>\n",
       "    .dataframe tbody tr th:only-of-type {\n",
       "        vertical-align: middle;\n",
       "    }\n",
       "\n",
       "    .dataframe tbody tr th {\n",
       "        vertical-align: top;\n",
       "    }\n",
       "\n",
       "    .dataframe thead th {\n",
       "        text-align: right;\n",
       "    }\n",
       "</style>\n",
       "<table border=\"1\" class=\"dataframe\">\n",
       "  <thead>\n",
       "    <tr style=\"text-align: right;\">\n",
       "      <th></th>\n",
       "      <th>aa</th>\n",
       "      <th>aagym</th>\n",
       "      <th>abang</th>\n",
       "      <th>abas</th>\n",
       "      <th>abi</th>\n",
       "      <th>abraham</th>\n",
       "      <th>academi</th>\n",
       "      <th>acara</th>\n",
       "      <th>acung</th>\n",
       "      <th>adem</th>\n",
       "      <th>...</th>\n",
       "      <th>woidjojayanto</th>\n",
       "      <th>ya</th>\n",
       "      <th>yaampun</th>\n",
       "      <th>yadia</th>\n",
       "      <th>yag</th>\n",
       "      <th>younglex</th>\n",
       "      <th>yuk</th>\n",
       "      <th>yukikatou</th>\n",
       "      <th>zaitun</th>\n",
       "      <th>zhonk</th>\n",
       "    </tr>\n",
       "  </thead>\n",
       "  <tbody>\n",
       "    <tr>\n",
       "      <th>0</th>\n",
       "      <td>0.0</td>\n",
       "      <td>0.0</td>\n",
       "      <td>0.0</td>\n",
       "      <td>0.0</td>\n",
       "      <td>0.0</td>\n",
       "      <td>0.0</td>\n",
       "      <td>0.0</td>\n",
       "      <td>0.0</td>\n",
       "      <td>0.0</td>\n",
       "      <td>0.0</td>\n",
       "      <td>...</td>\n",
       "      <td>0.0</td>\n",
       "      <td>0.000000</td>\n",
       "      <td>0.0</td>\n",
       "      <td>0.0</td>\n",
       "      <td>0.0</td>\n",
       "      <td>0.0</td>\n",
       "      <td>0.0</td>\n",
       "      <td>0.0</td>\n",
       "      <td>0.0</td>\n",
       "      <td>0.0</td>\n",
       "    </tr>\n",
       "    <tr>\n",
       "      <th>1</th>\n",
       "      <td>0.0</td>\n",
       "      <td>0.0</td>\n",
       "      <td>0.0</td>\n",
       "      <td>0.0</td>\n",
       "      <td>0.0</td>\n",
       "      <td>0.0</td>\n",
       "      <td>0.0</td>\n",
       "      <td>0.0</td>\n",
       "      <td>0.0</td>\n",
       "      <td>0.0</td>\n",
       "      <td>...</td>\n",
       "      <td>0.0</td>\n",
       "      <td>0.000000</td>\n",
       "      <td>0.0</td>\n",
       "      <td>0.0</td>\n",
       "      <td>0.0</td>\n",
       "      <td>0.0</td>\n",
       "      <td>0.0</td>\n",
       "      <td>0.0</td>\n",
       "      <td>0.0</td>\n",
       "      <td>0.0</td>\n",
       "    </tr>\n",
       "    <tr>\n",
       "      <th>2</th>\n",
       "      <td>0.0</td>\n",
       "      <td>0.0</td>\n",
       "      <td>0.0</td>\n",
       "      <td>0.0</td>\n",
       "      <td>0.0</td>\n",
       "      <td>0.0</td>\n",
       "      <td>0.0</td>\n",
       "      <td>0.0</td>\n",
       "      <td>0.0</td>\n",
       "      <td>0.0</td>\n",
       "      <td>...</td>\n",
       "      <td>0.0</td>\n",
       "      <td>0.000000</td>\n",
       "      <td>0.0</td>\n",
       "      <td>0.0</td>\n",
       "      <td>0.0</td>\n",
       "      <td>0.0</td>\n",
       "      <td>0.0</td>\n",
       "      <td>0.0</td>\n",
       "      <td>0.0</td>\n",
       "      <td>0.0</td>\n",
       "    </tr>\n",
       "    <tr>\n",
       "      <th>3</th>\n",
       "      <td>0.0</td>\n",
       "      <td>0.0</td>\n",
       "      <td>0.0</td>\n",
       "      <td>0.0</td>\n",
       "      <td>0.0</td>\n",
       "      <td>0.0</td>\n",
       "      <td>0.0</td>\n",
       "      <td>0.0</td>\n",
       "      <td>0.0</td>\n",
       "      <td>0.0</td>\n",
       "      <td>...</td>\n",
       "      <td>0.0</td>\n",
       "      <td>0.340891</td>\n",
       "      <td>0.0</td>\n",
       "      <td>0.0</td>\n",
       "      <td>0.0</td>\n",
       "      <td>0.0</td>\n",
       "      <td>0.0</td>\n",
       "      <td>0.0</td>\n",
       "      <td>0.0</td>\n",
       "      <td>0.0</td>\n",
       "    </tr>\n",
       "    <tr>\n",
       "      <th>4</th>\n",
       "      <td>0.0</td>\n",
       "      <td>0.0</td>\n",
       "      <td>0.0</td>\n",
       "      <td>0.0</td>\n",
       "      <td>0.0</td>\n",
       "      <td>0.0</td>\n",
       "      <td>0.0</td>\n",
       "      <td>0.0</td>\n",
       "      <td>0.0</td>\n",
       "      <td>0.0</td>\n",
       "      <td>...</td>\n",
       "      <td>0.0</td>\n",
       "      <td>0.000000</td>\n",
       "      <td>0.0</td>\n",
       "      <td>0.0</td>\n",
       "      <td>0.0</td>\n",
       "      <td>0.0</td>\n",
       "      <td>0.0</td>\n",
       "      <td>0.0</td>\n",
       "      <td>0.0</td>\n",
       "      <td>0.0</td>\n",
       "    </tr>\n",
       "    <tr>\n",
       "      <th>...</th>\n",
       "      <td>...</td>\n",
       "      <td>...</td>\n",
       "      <td>...</td>\n",
       "      <td>...</td>\n",
       "      <td>...</td>\n",
       "      <td>...</td>\n",
       "      <td>...</td>\n",
       "      <td>...</td>\n",
       "      <td>...</td>\n",
       "      <td>...</td>\n",
       "      <td>...</td>\n",
       "      <td>...</td>\n",
       "      <td>...</td>\n",
       "      <td>...</td>\n",
       "      <td>...</td>\n",
       "      <td>...</td>\n",
       "      <td>...</td>\n",
       "      <td>...</td>\n",
       "      <td>...</td>\n",
       "      <td>...</td>\n",
       "      <td>...</td>\n",
       "    </tr>\n",
       "    <tr>\n",
       "      <th>395</th>\n",
       "      <td>0.0</td>\n",
       "      <td>0.0</td>\n",
       "      <td>0.0</td>\n",
       "      <td>0.0</td>\n",
       "      <td>0.0</td>\n",
       "      <td>0.0</td>\n",
       "      <td>0.0</td>\n",
       "      <td>0.0</td>\n",
       "      <td>0.0</td>\n",
       "      <td>0.0</td>\n",
       "      <td>...</td>\n",
       "      <td>0.0</td>\n",
       "      <td>0.000000</td>\n",
       "      <td>0.0</td>\n",
       "      <td>0.0</td>\n",
       "      <td>0.0</td>\n",
       "      <td>0.0</td>\n",
       "      <td>0.0</td>\n",
       "      <td>0.0</td>\n",
       "      <td>0.0</td>\n",
       "      <td>0.0</td>\n",
       "    </tr>\n",
       "    <tr>\n",
       "      <th>396</th>\n",
       "      <td>0.0</td>\n",
       "      <td>0.0</td>\n",
       "      <td>0.0</td>\n",
       "      <td>0.0</td>\n",
       "      <td>0.0</td>\n",
       "      <td>0.0</td>\n",
       "      <td>0.0</td>\n",
       "      <td>0.0</td>\n",
       "      <td>0.0</td>\n",
       "      <td>0.0</td>\n",
       "      <td>...</td>\n",
       "      <td>0.0</td>\n",
       "      <td>0.000000</td>\n",
       "      <td>0.0</td>\n",
       "      <td>0.0</td>\n",
       "      <td>0.0</td>\n",
       "      <td>0.0</td>\n",
       "      <td>0.0</td>\n",
       "      <td>0.0</td>\n",
       "      <td>0.0</td>\n",
       "      <td>0.0</td>\n",
       "    </tr>\n",
       "    <tr>\n",
       "      <th>397</th>\n",
       "      <td>0.0</td>\n",
       "      <td>0.0</td>\n",
       "      <td>0.0</td>\n",
       "      <td>0.0</td>\n",
       "      <td>0.0</td>\n",
       "      <td>0.0</td>\n",
       "      <td>0.0</td>\n",
       "      <td>0.0</td>\n",
       "      <td>0.0</td>\n",
       "      <td>0.0</td>\n",
       "      <td>...</td>\n",
       "      <td>0.0</td>\n",
       "      <td>0.000000</td>\n",
       "      <td>0.0</td>\n",
       "      <td>0.0</td>\n",
       "      <td>0.0</td>\n",
       "      <td>0.0</td>\n",
       "      <td>0.0</td>\n",
       "      <td>0.0</td>\n",
       "      <td>0.0</td>\n",
       "      <td>0.0</td>\n",
       "    </tr>\n",
       "    <tr>\n",
       "      <th>398</th>\n",
       "      <td>0.0</td>\n",
       "      <td>0.0</td>\n",
       "      <td>0.0</td>\n",
       "      <td>0.0</td>\n",
       "      <td>0.0</td>\n",
       "      <td>0.0</td>\n",
       "      <td>0.0</td>\n",
       "      <td>0.0</td>\n",
       "      <td>0.0</td>\n",
       "      <td>0.0</td>\n",
       "      <td>...</td>\n",
       "      <td>0.0</td>\n",
       "      <td>0.000000</td>\n",
       "      <td>0.0</td>\n",
       "      <td>0.0</td>\n",
       "      <td>0.0</td>\n",
       "      <td>0.0</td>\n",
       "      <td>0.0</td>\n",
       "      <td>0.0</td>\n",
       "      <td>0.0</td>\n",
       "      <td>0.0</td>\n",
       "    </tr>\n",
       "    <tr>\n",
       "      <th>399</th>\n",
       "      <td>0.0</td>\n",
       "      <td>0.0</td>\n",
       "      <td>0.0</td>\n",
       "      <td>0.0</td>\n",
       "      <td>0.0</td>\n",
       "      <td>0.0</td>\n",
       "      <td>0.0</td>\n",
       "      <td>0.0</td>\n",
       "      <td>0.0</td>\n",
       "      <td>0.0</td>\n",
       "      <td>...</td>\n",
       "      <td>0.0</td>\n",
       "      <td>0.000000</td>\n",
       "      <td>0.0</td>\n",
       "      <td>0.0</td>\n",
       "      <td>0.0</td>\n",
       "      <td>0.0</td>\n",
       "      <td>0.0</td>\n",
       "      <td>0.0</td>\n",
       "      <td>0.0</td>\n",
       "      <td>0.0</td>\n",
       "    </tr>\n",
       "  </tbody>\n",
       "</table>\n",
       "<p>400 rows × 1175 columns</p>\n",
       "</div>"
      ],
      "text/plain": [
       "      aa  aagym  abang  abas  abi  abraham  academi  acara  acung  adem  ...  \\\n",
       "0    0.0    0.0    0.0   0.0  0.0      0.0      0.0    0.0    0.0   0.0  ...   \n",
       "1    0.0    0.0    0.0   0.0  0.0      0.0      0.0    0.0    0.0   0.0  ...   \n",
       "2    0.0    0.0    0.0   0.0  0.0      0.0      0.0    0.0    0.0   0.0  ...   \n",
       "3    0.0    0.0    0.0   0.0  0.0      0.0      0.0    0.0    0.0   0.0  ...   \n",
       "4    0.0    0.0    0.0   0.0  0.0      0.0      0.0    0.0    0.0   0.0  ...   \n",
       "..   ...    ...    ...   ...  ...      ...      ...    ...    ...   ...  ...   \n",
       "395  0.0    0.0    0.0   0.0  0.0      0.0      0.0    0.0    0.0   0.0  ...   \n",
       "396  0.0    0.0    0.0   0.0  0.0      0.0      0.0    0.0    0.0   0.0  ...   \n",
       "397  0.0    0.0    0.0   0.0  0.0      0.0      0.0    0.0    0.0   0.0  ...   \n",
       "398  0.0    0.0    0.0   0.0  0.0      0.0      0.0    0.0    0.0   0.0  ...   \n",
       "399  0.0    0.0    0.0   0.0  0.0      0.0      0.0    0.0    0.0   0.0  ...   \n",
       "\n",
       "     woidjojayanto        ya  yaampun  yadia  yag  younglex  yuk  yukikatou  \\\n",
       "0              0.0  0.000000      0.0    0.0  0.0       0.0  0.0        0.0   \n",
       "1              0.0  0.000000      0.0    0.0  0.0       0.0  0.0        0.0   \n",
       "2              0.0  0.000000      0.0    0.0  0.0       0.0  0.0        0.0   \n",
       "3              0.0  0.340891      0.0    0.0  0.0       0.0  0.0        0.0   \n",
       "4              0.0  0.000000      0.0    0.0  0.0       0.0  0.0        0.0   \n",
       "..             ...       ...      ...    ...  ...       ...  ...        ...   \n",
       "395            0.0  0.000000      0.0    0.0  0.0       0.0  0.0        0.0   \n",
       "396            0.0  0.000000      0.0    0.0  0.0       0.0  0.0        0.0   \n",
       "397            0.0  0.000000      0.0    0.0  0.0       0.0  0.0        0.0   \n",
       "398            0.0  0.000000      0.0    0.0  0.0       0.0  0.0        0.0   \n",
       "399            0.0  0.000000      0.0    0.0  0.0       0.0  0.0        0.0   \n",
       "\n",
       "     zaitun  zhonk  \n",
       "0       0.0    0.0  \n",
       "1       0.0    0.0  \n",
       "2       0.0    0.0  \n",
       "3       0.0    0.0  \n",
       "4       0.0    0.0  \n",
       "..      ...    ...  \n",
       "395     0.0    0.0  \n",
       "396     0.0    0.0  \n",
       "397     0.0    0.0  \n",
       "398     0.0    0.0  \n",
       "399     0.0    0.0  \n",
       "\n",
       "[400 rows x 1175 columns]"
      ]
     },
     "execution_count": 30,
     "metadata": {},
     "output_type": "execute_result"
    }
   ],
   "source": [
    "# Melihat matriks jumlah token menggunakan TF IDF, lihat perbedaannya dengan metode BoW\n",
    "# Data ini siap untuk dimasukkan dalam proses pemodelan (machine learning)\n",
    "\n",
    "data_tf_idf = pd.DataFrame(X_tf_idf, columns=tf_idf.get_feature_names_out())\n",
    "data_tf_idf"
   ]
  },
  {
   "cell_type": "code",
   "execution_count": 31,
   "metadata": {
    "id": "0u604jz9wEPw"
   },
   "outputs": [],
   "source": [
    "with open('tf_idf_feature.pickle', 'wb') as output:\n",
    "  pickle.dump(X_tf_idf, output)"
   ]
  },
  {
   "cell_type": "markdown",
   "metadata": {
    "id": "kub8950CwHrZ"
   },
   "source": [
    "## Feature Selection (Chi Square)"
   ]
  },
  {
   "cell_type": "code",
   "execution_count": 32,
   "metadata": {
    "id": "pZ1nUzr0wK72"
   },
   "outputs": [],
   "source": [
    "# Mengubah nilai data tabular tf-idf menjadi array agar dapat dijalankan pada proses seleksi fitur\n",
    "X = np.array(data_tf_idf)\n",
    "y = np.array(y)"
   ]
  },
  {
   "cell_type": "code",
   "execution_count": 33,
   "metadata": {
    "colab": {
     "base_uri": "https://localhost:8080/"
    },
    "id": "GiKILzBgwMsZ",
    "outputId": "dc82befd-84c7-41a4-bf4c-3404be411493"
   },
   "outputs": [
    {
     "name": "stdout",
     "output_type": "stream",
     "text": [
      "Original feature number: 1175\n",
      "Reduced feature number: 650\n"
     ]
    }
   ],
   "source": [
    "from sklearn.feature_selection import SelectKBest \n",
    "from sklearn.feature_selection import chi2 \n",
    "\n",
    "# Ten features with highest chi-squared statistics are selected \n",
    "chi2_features = SelectKBest(chi2, k=650) \n",
    "X_kbest_features = chi2_features.fit_transform(X, y) \n",
    "  \n",
    "# Reduced features \n",
    "print('Original feature number:', X.shape[1]) \n",
    "print('Reduced feature number:', X_kbest_features.shape[1]) "
   ]
  },
  {
   "cell_type": "code",
   "execution_count": 34,
   "metadata": {
    "colab": {
     "base_uri": "https://localhost:8080/",
     "height": 424
    },
    "id": "wSGL29twwOYw",
    "outputId": "a8cf18d3-71b7-428c-f7fb-d64babdd4130"
   },
   "outputs": [
    {
     "data": {
      "text/html": [
       "<div>\n",
       "<style scoped>\n",
       "    .dataframe tbody tr th:only-of-type {\n",
       "        vertical-align: middle;\n",
       "    }\n",
       "\n",
       "    .dataframe tbody tr th {\n",
       "        vertical-align: top;\n",
       "    }\n",
       "\n",
       "    .dataframe thead th {\n",
       "        text-align: right;\n",
       "    }\n",
       "</style>\n",
       "<table border=\"1\" class=\"dataframe\">\n",
       "  <thead>\n",
       "    <tr style=\"text-align: right;\">\n",
       "      <th></th>\n",
       "      <th>nilai</th>\n",
       "    </tr>\n",
       "  </thead>\n",
       "  <tbody>\n",
       "    <tr>\n",
       "      <th>0</th>\n",
       "      <td>1.164059</td>\n",
       "    </tr>\n",
       "    <tr>\n",
       "      <th>1</th>\n",
       "      <td>0.359519</td>\n",
       "    </tr>\n",
       "    <tr>\n",
       "      <th>2</th>\n",
       "      <td>0.536612</td>\n",
       "    </tr>\n",
       "    <tr>\n",
       "      <th>3</th>\n",
       "      <td>0.435220</td>\n",
       "    </tr>\n",
       "    <tr>\n",
       "      <th>4</th>\n",
       "      <td>0.400486</td>\n",
       "    </tr>\n",
       "    <tr>\n",
       "      <th>...</th>\n",
       "      <td>...</td>\n",
       "    </tr>\n",
       "    <tr>\n",
       "      <th>1170</th>\n",
       "      <td>0.339689</td>\n",
       "    </tr>\n",
       "    <tr>\n",
       "      <th>1171</th>\n",
       "      <td>1.585854</td>\n",
       "    </tr>\n",
       "    <tr>\n",
       "      <th>1172</th>\n",
       "      <td>0.478482</td>\n",
       "    </tr>\n",
       "    <tr>\n",
       "      <th>1173</th>\n",
       "      <td>0.472109</td>\n",
       "    </tr>\n",
       "    <tr>\n",
       "      <th>1174</th>\n",
       "      <td>0.334120</td>\n",
       "    </tr>\n",
       "  </tbody>\n",
       "</table>\n",
       "<p>1175 rows × 1 columns</p>\n",
       "</div>"
      ],
      "text/plain": [
       "         nilai\n",
       "0     1.164059\n",
       "1     0.359519\n",
       "2     0.536612\n",
       "3     0.435220\n",
       "4     0.400486\n",
       "...        ...\n",
       "1170  0.339689\n",
       "1171  1.585854\n",
       "1172  0.478482\n",
       "1173  0.472109\n",
       "1174  0.334120\n",
       "\n",
       "[1175 rows x 1 columns]"
      ]
     },
     "execution_count": 34,
     "metadata": {},
     "output_type": "execute_result"
    }
   ],
   "source": [
    "# chi2_features.scores_ adalah nilai chi-square, semakin tinggi nilainya maka semakin baik fiturnya\n",
    "data_chi2 = pd.DataFrame(chi2_features.scores_, columns=['nilai'])\n",
    "data_chi2"
   ]
  },
  {
   "cell_type": "code",
   "execution_count": 35,
   "metadata": {
    "colab": {
     "base_uri": "https://localhost:8080/",
     "height": 424
    },
    "id": "XFKQxbvbwR88",
    "outputId": "bceef218-01d7-4097-904b-b98868f2e7cd"
   },
   "outputs": [
    {
     "data": {
      "text/html": [
       "<div>\n",
       "<style scoped>\n",
       "    .dataframe tbody tr th:only-of-type {\n",
       "        vertical-align: middle;\n",
       "    }\n",
       "\n",
       "    .dataframe tbody tr th {\n",
       "        vertical-align: top;\n",
       "    }\n",
       "\n",
       "    .dataframe thead th {\n",
       "        text-align: right;\n",
       "    }\n",
       "</style>\n",
       "<table border=\"1\" class=\"dataframe\">\n",
       "  <thead>\n",
       "    <tr style=\"text-align: right;\">\n",
       "      <th></th>\n",
       "      <th>nilai</th>\n",
       "      <th>fitur</th>\n",
       "    </tr>\n",
       "  </thead>\n",
       "  <tbody>\n",
       "    <tr>\n",
       "      <th>0</th>\n",
       "      <td>1.164059</td>\n",
       "      <td>aa</td>\n",
       "    </tr>\n",
       "    <tr>\n",
       "      <th>1</th>\n",
       "      <td>0.359519</td>\n",
       "      <td>aagym</td>\n",
       "    </tr>\n",
       "    <tr>\n",
       "      <th>2</th>\n",
       "      <td>0.536612</td>\n",
       "      <td>abang</td>\n",
       "    </tr>\n",
       "    <tr>\n",
       "      <th>3</th>\n",
       "      <td>0.435220</td>\n",
       "      <td>abas</td>\n",
       "    </tr>\n",
       "    <tr>\n",
       "      <th>4</th>\n",
       "      <td>0.400486</td>\n",
       "      <td>abi</td>\n",
       "    </tr>\n",
       "    <tr>\n",
       "      <th>...</th>\n",
       "      <td>...</td>\n",
       "      <td>...</td>\n",
       "    </tr>\n",
       "    <tr>\n",
       "      <th>1170</th>\n",
       "      <td>0.339689</td>\n",
       "      <td>younglex</td>\n",
       "    </tr>\n",
       "    <tr>\n",
       "      <th>1171</th>\n",
       "      <td>1.585854</td>\n",
       "      <td>yuk</td>\n",
       "    </tr>\n",
       "    <tr>\n",
       "      <th>1172</th>\n",
       "      <td>0.478482</td>\n",
       "      <td>yukikatou</td>\n",
       "    </tr>\n",
       "    <tr>\n",
       "      <th>1173</th>\n",
       "      <td>0.472109</td>\n",
       "      <td>zaitun</td>\n",
       "    </tr>\n",
       "    <tr>\n",
       "      <th>1174</th>\n",
       "      <td>0.334120</td>\n",
       "      <td>zhonk</td>\n",
       "    </tr>\n",
       "  </tbody>\n",
       "</table>\n",
       "<p>1175 rows × 2 columns</p>\n",
       "</div>"
      ],
      "text/plain": [
       "         nilai      fitur\n",
       "0     1.164059         aa\n",
       "1     0.359519      aagym\n",
       "2     0.536612      abang\n",
       "3     0.435220       abas\n",
       "4     0.400486        abi\n",
       "...        ...        ...\n",
       "1170  0.339689   younglex\n",
       "1171  1.585854        yuk\n",
       "1172  0.478482  yukikatou\n",
       "1173  0.472109     zaitun\n",
       "1174  0.334120      zhonk\n",
       "\n",
       "[1175 rows x 2 columns]"
      ]
     },
     "execution_count": 35,
     "metadata": {},
     "output_type": "execute_result"
    }
   ],
   "source": [
    "# Menampilkan fitur beserta nilainya\n",
    "feature = tf_idf.get_feature_names_out()\n",
    "data_chi2['fitur'] = feature\n",
    "data_chi2"
   ]
  },
  {
   "cell_type": "code",
   "execution_count": 36,
   "metadata": {
    "colab": {
     "base_uri": "https://localhost:8080/",
     "height": 424
    },
    "id": "I3YgvBM9wT_Z",
    "outputId": "226a89dd-cdb2-4f45-a649-8c4ba078e438"
   },
   "outputs": [
    {
     "data": {
      "text/html": [
       "<div>\n",
       "<style scoped>\n",
       "    .dataframe tbody tr th:only-of-type {\n",
       "        vertical-align: middle;\n",
       "    }\n",
       "\n",
       "    .dataframe tbody tr th {\n",
       "        vertical-align: top;\n",
       "    }\n",
       "\n",
       "    .dataframe thead th {\n",
       "        text-align: right;\n",
       "    }\n",
       "</style>\n",
       "<table border=\"1\" class=\"dataframe\">\n",
       "  <thead>\n",
       "    <tr style=\"text-align: right;\">\n",
       "      <th></th>\n",
       "      <th>nilai</th>\n",
       "      <th>fitur</th>\n",
       "    </tr>\n",
       "  </thead>\n",
       "  <tbody>\n",
       "    <tr>\n",
       "      <th>520</th>\n",
       "      <td>8.374203</td>\n",
       "      <td>keren</td>\n",
       "    </tr>\n",
       "    <tr>\n",
       "      <th>384</th>\n",
       "      <td>7.686468</td>\n",
       "      <td>hitamputiht</td>\n",
       "    </tr>\n",
       "    <tr>\n",
       "      <th>418</th>\n",
       "      <td>6.488259</td>\n",
       "      <td>inspirasi</td>\n",
       "    </tr>\n",
       "    <tr>\n",
       "      <th>533</th>\n",
       "      <td>5.647581</td>\n",
       "      <td>kickandymetrotv</td>\n",
       "    </tr>\n",
       "    <tr>\n",
       "      <th>861</th>\n",
       "      <td>4.924489</td>\n",
       "      <td>putih</td>\n",
       "    </tr>\n",
       "    <tr>\n",
       "      <th>...</th>\n",
       "      <td>...</td>\n",
       "      <td>...</td>\n",
       "    </tr>\n",
       "    <tr>\n",
       "      <th>872</th>\n",
       "      <td>0.000087</td>\n",
       "      <td>rakyat</td>\n",
       "    </tr>\n",
       "    <tr>\n",
       "      <th>178</th>\n",
       "      <td>0.000036</td>\n",
       "      <td>botak</td>\n",
       "    </tr>\n",
       "    <tr>\n",
       "      <th>823</th>\n",
       "      <td>0.000031</td>\n",
       "      <td>pihak</td>\n",
       "    </tr>\n",
       "    <tr>\n",
       "      <th>295</th>\n",
       "      <td>0.000005</td>\n",
       "      <td>episode</td>\n",
       "    </tr>\n",
       "    <tr>\n",
       "      <th>486</th>\n",
       "      <td>0.000002</td>\n",
       "      <td>kandang</td>\n",
       "    </tr>\n",
       "  </tbody>\n",
       "</table>\n",
       "<p>1175 rows × 2 columns</p>\n",
       "</div>"
      ],
      "text/plain": [
       "        nilai            fitur\n",
       "520  8.374203            keren\n",
       "384  7.686468      hitamputiht\n",
       "418  6.488259        inspirasi\n",
       "533  5.647581  kickandymetrotv\n",
       "861  4.924489            putih\n",
       "..        ...              ...\n",
       "872  0.000087           rakyat\n",
       "178  0.000036            botak\n",
       "823  0.000031            pihak\n",
       "295  0.000005          episode\n",
       "486  0.000002          kandang\n",
       "\n",
       "[1175 rows x 2 columns]"
      ]
     },
     "execution_count": 36,
     "metadata": {},
     "output_type": "execute_result"
    }
   ],
   "source": [
    "# Mengurutkan fitur terbaik\n",
    "data_chi2.sort_values(by='nilai', ascending=False)"
   ]
  },
  {
   "cell_type": "code",
   "execution_count": 37,
   "metadata": {
    "colab": {
     "base_uri": "https://localhost:8080/"
    },
    "id": "f6KDTPFrwU1z",
    "outputId": "73f1a8eb-b7b0-4fec-b262-ff90480ed998"
   },
   "outputs": [
    {
     "data": {
      "text/plain": [
       "array([ True, False,  True, ...,  True,  True, False])"
      ]
     },
     "execution_count": 37,
     "metadata": {},
     "output_type": "execute_result"
    }
   ],
   "source": [
    "# Menampilkan mask pada feature yang diseleksi\n",
    "# False berarti fitur tidak terpilih dan True berarti fitur terpilih\n",
    "mask = chi2_features.get_support()\n",
    "mask"
   ]
  },
  {
   "cell_type": "code",
   "execution_count": 38,
   "metadata": {
    "colab": {
     "base_uri": "https://localhost:8080/"
    },
    "id": "MO3u84Y9wWoO",
    "outputId": "f4174eb9-cb7c-476e-dc0c-51b98de22ea4"
   },
   "outputs": [
    {
     "data": {
      "text/plain": [
       "['aa',\n",
       " 'abang',\n",
       " 'abas',\n",
       " 'abi',\n",
       " 'abraham',\n",
       " 'acara',\n",
       " 'adem',\n",
       " 'adietaufan',\n",
       " 'adik',\n",
       " 'adil',\n",
       " 'adu',\n",
       " 'agung',\n",
       " 'ahmad',\n",
       " 'ahokdjarotdirosi',\n",
       " 'ajang',\n",
       " 'ajarin',\n",
       " 'ajha',\n",
       " 'akar',\n",
       " 'akibatya',\n",
       " 'aksi',\n",
       " 'aku',\n",
       " 'al',\n",
       " 'ala',\n",
       " 'allah',\n",
       " 'alu',\n",
       " 'amat',\n",
       " 'ambil',\n",
       " 'anak',\n",
       " 'anaktangsel',\n",
       " 'anarkis',\n",
       " 'ancam',\n",
       " 'andik',\n",
       " 'andy',\n",
       " 'aneh',\n",
       " 'angkat',\n",
       " 'angket',\n",
       " 'aniaya',\n",
       " 'anies',\n",
       " 'aniesbaswedan',\n",
       " 'aniessandipemersatu',\n",
       " 'anjay',\n",
       " 'antem',\n",
       " 'apa',\n",
       " 'apartemen',\n",
       " 'asal',\n",
       " 'asik',\n",
       " 'asiknya',\n",
       " 'asli',\n",
       " 'atas',\n",
       " 'atlet',\n",
       " 'baby',\n",
       " 'bacot',\n",
       " 'bae',\n",
       " 'bagus',\n",
       " 'bahagia',\n",
       " 'bahasa',\n",
       " 'baik',\n",
       " 'bakarin',\n",
       " 'bambang',\n",
       " 'banding',\n",
       " 'banget',\n",
       " 'bangga',\n",
       " 'bangkit',\n",
       " 'bangkrut',\n",
       " 'banyak',\n",
       " 'basri',\n",
       " 'basuki',\n",
       " 'baswedan',\n",
       " 'batal',\n",
       " 'batas',\n",
       " 'bawa',\n",
       " 'bawah',\n",
       " 'bayang',\n",
       " 'bayar',\n",
       " 'beda',\n",
       " 'beliau',\n",
       " 'benci',\n",
       " 'bener',\n",
       " 'berani',\n",
       " 'berat',\n",
       " 'berbelitbelit',\n",
       " 'bermusyawara',\n",
       " 'bersih',\n",
       " 'besok',\n",
       " 'betapa',\n",
       " 'betawi',\n",
       " 'biaya',\n",
       " 'bicara',\n",
       " 'bidang',\n",
       " 'bidik',\n",
       " 'bijaksana',\n",
       " 'bilang',\n",
       " 'bj',\n",
       " 'bjh',\n",
       " 'bkin',\n",
       " 'bnn',\n",
       " 'bobrok',\n",
       " 'bocor',\n",
       " 'bodoh',\n",
       " 'bohong',\n",
       " 'boikot',\n",
       " 'boys',\n",
       " 'bp',\n",
       " 'bro',\n",
       " 'btp',\n",
       " 'bu',\n",
       " 'buang',\n",
       " 'buk',\n",
       " 'buka',\n",
       " 'bulan',\n",
       " 'buruk',\n",
       " 'busuk',\n",
       " 'butuh',\n",
       " 'cabik',\n",
       " 'campak',\n",
       " 'capek',\n",
       " 'cat',\n",
       " 'cek',\n",
       " 'cepat',\n",
       " 'cerah',\n",
       " 'cerdas',\n",
       " 'cie',\n",
       " 'cinta',\n",
       " 'club',\n",
       " 'coba',\n",
       " 'comal',\n",
       " 'daddy',\n",
       " 'dahlan',\n",
       " 'daki',\n",
       " 'dalam',\n",
       " 'damai',\n",
       " 'dapat',\n",
       " 'dapet',\n",
       " 'darmawan',\n",
       " 'darurat',\n",
       " 'dasar',\n",
       " 'demo',\n",
       " 'desa',\n",
       " 'detik',\n",
       " 'dewan',\n",
       " 'dhani',\n",
       " 'diapaapain',\n",
       " 'didik',\n",
       " 'dijalanin',\n",
       " 'dipikirin',\n",
       " 'disabilitas',\n",
       " 'ditindes',\n",
       " 'diulangulang',\n",
       " 'doa',\n",
       " 'donk',\n",
       " 'dower',\n",
       " 'dpp',\n",
       " 'duga',\n",
       " 'duka',\n",
       " 'dukung',\n",
       " 'dunia',\n",
       " 'edukatif',\n",
       " 'ekonomi',\n",
       " 'eks',\n",
       " 'emang',\n",
       " 'emosi',\n",
       " 'emp',\n",
       " 'fahri',\n",
       " 'faisal',\n",
       " 'fakta',\n",
       " 'farhat',\n",
       " 'favorit',\n",
       " 'fitnah',\n",
       " 'fokus',\n",
       " 'formal',\n",
       " 'fz',\n",
       " 'gagal',\n",
       " 'gajah',\n",
       " 'gampang',\n",
       " 'ganda',\n",
       " 'ganjar',\n",
       " 'ganteng',\n",
       " 'garing',\n",
       " 'gaul',\n",
       " 'gaya',\n",
       " 'gelap',\n",
       " 'generalgatot',\n",
       " 'gila',\n",
       " 'gokil',\n",
       " 'gym',\n",
       " 'gymnastiar',\n",
       " 'hab',\n",
       " 'habibie',\n",
       " 'habieb',\n",
       " 'haha',\n",
       " 'hahahaha',\n",
       " 'hancur',\n",
       " 'hapsah',\n",
       " 'harap',\n",
       " 'haru',\n",
       " 'haruka',\n",
       " 'hasan',\n",
       " 'hasim',\n",
       " 'hebat',\n",
       " 'hendak',\n",
       " 'hendropriyono',\n",
       " 'henti',\n",
       " 'hewan',\n",
       " 'hibur',\n",
       " 'hindar',\n",
       " 'hitam',\n",
       " 'hitamputih',\n",
       " 'hitamputiht',\n",
       " 'hitamputihtrans',\n",
       " 'hormat',\n",
       " 'host',\n",
       " 'hostnya',\n",
       " 'hpsayangbinatang',\n",
       " 'hpviral',\n",
       " 'hujat',\n",
       " 'hukum',\n",
       " 'hutjekardah',\n",
       " 'ih',\n",
       " 'ikat',\n",
       " 'ikhlas',\n",
       " 'iklan',\n",
       " 'ilmu',\n",
       " 'imajinasi',\n",
       " 'indah',\n",
       " 'indobesia',\n",
       " 'indonesia',\n",
       " 'indonesialawyersclub',\n",
       " 'informasi',\n",
       " 'inspirasi',\n",
       " 'inspiratif',\n",
       " 'integritas',\n",
       " 'inti',\n",
       " 'intip',\n",
       " 'isi',\n",
       " 'isis',\n",
       " 'iskan',\n",
       " 'islam',\n",
       " 'islami',\n",
       " 'islamis',\n",
       " 'istimewa',\n",
       " 'istri',\n",
       " 'jabat',\n",
       " 'jaga',\n",
       " 'jago',\n",
       " 'jahat',\n",
       " 'jarak',\n",
       " 'jatuh',\n",
       " 'jembatan',\n",
       " 'jenderal',\n",
       " 'jendral',\n",
       " 'jendralgatotnurmantyo',\n",
       " 'jiwa',\n",
       " 'jk',\n",
       " 'job',\n",
       " 'jokowi',\n",
       " 'juang',\n",
       " 'jujur',\n",
       " 'jupe',\n",
       " 'kacau',\n",
       " 'kado',\n",
       " 'kagum',\n",
       " 'kakek',\n",
       " 'kaku',\n",
       " 'kalah',\n",
       " 'kangen',\n",
       " 'karunia',\n",
       " 'karya',\n",
       " 'kasih',\n",
       " 'kasihan',\n",
       " 'kata',\n",
       " 'kau',\n",
       " 'kawan',\n",
       " 'kaya',\n",
       " 'kecewa',\n",
       " 'kejernihaannya',\n",
       " 'kejurnas',\n",
       " 'kelas',\n",
       " 'keluh',\n",
       " 'kemenpora',\n",
       " 'kepala',\n",
       " 'kerdil',\n",
       " 'keren',\n",
       " 'kes',\n",
       " 'kesel',\n",
       " 'ketek',\n",
       " 'kick',\n",
       " 'kickandy',\n",
       " 'kickandyheroes',\n",
       " 'kickandymetrot',\n",
       " 'kickandymetrotv',\n",
       " 'kickandyp',\n",
       " 'kilat',\n",
       " 'kisruh',\n",
       " 'kokoh',\n",
       " 'komitmen',\n",
       " 'kompak',\n",
       " 'komplit',\n",
       " 'konvensional',\n",
       " 'korban',\n",
       " 'korporasi',\n",
       " 'korupsi',\n",
       " 'koruptor',\n",
       " 'kosti',\n",
       " 'kpi',\n",
       " 'ku',\n",
       " 'kualifikasi',\n",
       " 'kuat',\n",
       " 'kucing',\n",
       " 'lacur',\n",
       " 'lancar',\n",
       " 'lapor',\n",
       " 'lari',\n",
       " 'lawan',\n",
       " 'lawyers',\n",
       " 'lelah',\n",
       " 'lemah',\n",
       " 'lembaga',\n",
       " 'lentera',\n",
       " 'lepas',\n",
       " 'lesat',\n",
       " 'liar',\n",
       " 'liberal',\n",
       " 'lihat',\n",
       " 'lilin',\n",
       " 'live',\n",
       " 'lucu',\n",
       " 'lulus',\n",
       " 'lunamaya',\n",
       " 'maarifinstitute',\n",
       " 'mahasiswaum',\n",
       " 'maju',\n",
       " 'maksud',\n",
       " 'malam',\n",
       " 'malas',\n",
       " 'malu',\n",
       " 'mana',\n",
       " 'mantan',\n",
       " 'mantap',\n",
       " 'mantik',\n",
       " 'manyu',\n",
       " 'mario',\n",
       " 'marioteguh',\n",
       " 'martha',\n",
       " 'marwah',\n",
       " 'mas',\n",
       " 'masalah',\n",
       " 'matanajwa',\n",
       " 'matanajwametrotv',\n",
       " 'materi',\n",
       " 'mati',\n",
       " 'mbah',\n",
       " 'mbak',\n",
       " 'medsos',\n",
       " 'melek',\n",
       " 'menang',\n",
       " 'mencak',\n",
       " 'mendongrak',\n",
       " 'mendung',\n",
       " 'menentramkan',\n",
       " 'menghimbau',\n",
       " 'mental',\n",
       " 'merdeka',\n",
       " 'merinding',\n",
       " 'mikemarjinal',\n",
       " 'mimin',\n",
       " 'minggu',\n",
       " 'miris',\n",
       " 'misbah',\n",
       " 'miskin',\n",
       " 'moga',\n",
       " 'mohmahfudmd',\n",
       " 'mongol',\n",
       " 'moreppie',\n",
       " 'motivasi',\n",
       " 'muak',\n",
       " 'muas',\n",
       " 'muda',\n",
       " 'mui',\n",
       " 'mulut',\n",
       " 'mutu',\n",
       " 'muzadi',\n",
       " 'na',\n",
       " 'nang',\n",
       " 'narapidana',\n",
       " 'narasumber',\n",
       " 'nasehat',\n",
       " 'nasib',\n",
       " 'negara',\n",
       " 'nenek',\n",
       " 'news',\n",
       " 'nextpresiden',\n",
       " 'ngantuk',\n",
       " 'ngomong',\n",
       " 'nih',\n",
       " 'nkri',\n",
       " 'nomornet',\n",
       " 'nongol',\n",
       " 'nonton',\n",
       " 'norwegia',\n",
       " 'nurani',\n",
       " 'nya',\n",
       " 'nyala',\n",
       " 'nyampah',\n",
       " 'nyata',\n",
       " 'nyebar',\n",
       " 'nyelesaikan',\n",
       " 'obrol',\n",
       " 'obyektif',\n",
       " 'ok',\n",
       " 'oke',\n",
       " 'oma',\n",
       " 'omong',\n",
       " 'one',\n",
       " 'online',\n",
       " 'orang',\n",
       " 'organisasi',\n",
       " 'padang',\n",
       " 'padat',\n",
       " 'pak',\n",
       " 'pakai',\n",
       " 'paksa',\n",
       " 'palsu',\n",
       " 'pandji',\n",
       " 'panglima',\n",
       " 'panglimatni',\n",
       " 'parah',\n",
       " 'pasar',\n",
       " 'pasir',\n",
       " 'pasrah',\n",
       " 'patut',\n",
       " 'pejuangtangguh',\n",
       " 'pelosok',\n",
       " 'pemuda',\n",
       " 'penjara',\n",
       " 'penta',\n",
       " 'penting',\n",
       " 'perang',\n",
       " 'percaya',\n",
       " 'pergi',\n",
       " 'perintah',\n",
       " 'perjuagan',\n",
       " 'persis',\n",
       " 'perut',\n",
       " 'pikir',\n",
       " 'pilih',\n",
       " 'pilkadadki',\n",
       " 'pintar',\n",
       " 'pirsa',\n",
       " 'pkb',\n",
       " 'pokok',\n",
       " 'polmart',\n",
       " 'posisi',\n",
       " 'powernya',\n",
       " 'preman',\n",
       " 'prestasi',\n",
       " 'prof',\n",
       " 'program',\n",
       " 'provokasi',\n",
       " 'provokatif',\n",
       " 'psikolog',\n",
       " 'pssi',\n",
       " 'publik',\n",
       " 'puji',\n",
       " 'pungut',\n",
       " 'putar',\n",
       " 'putih',\n",
       " 'putryvanvan',\n",
       " 'racun',\n",
       " 'radikal',\n",
       " 'radikalisme',\n",
       " 'radityadika',\n",
       " 'rafatharonhp',\n",
       " 'rajut',\n",
       " 'ramai',\n",
       " 'rambut',\n",
       " 'rampas',\n",
       " 'rangkul',\n",
       " 'rapat',\n",
       " 'rasmin',\n",
       " 'rating',\n",
       " 'rayap',\n",
       " 'reflyhz',\n",
       " 'remaja',\n",
       " 'rendah',\n",
       " 'reputasi',\n",
       " 'ri',\n",
       " 'rias',\n",
       " 'ribet',\n",
       " 'rindu',\n",
       " 'rokok',\n",
       " 'romantis',\n",
       " 'roxana',\n",
       " 'rugi',\n",
       " 'rumah',\n",
       " 'rumania',\n",
       " 'rupa',\n",
       " 'rusak',\n",
       " 'sabar',\n",
       " 'saji',\n",
       " 'sakit',\n",
       " 'salihin',\n",
       " 'salut',\n",
       " 'sampah',\n",
       " 'sampan',\n",
       " 'sandi',\n",
       " 'sang',\n",
       " 'sanggu',\n",
       " 'sangka',\n",
       " 'santun',\n",
       " 'sarjana',\n",
       " 'savehmi',\n",
       " 'savekpk',\n",
       " 'savelaguanak',\n",
       " 'sayang',\n",
       " 'seasia',\n",
       " 'sebentar',\n",
       " 'sederhana',\n",
       " 'sedih',\n",
       " 'segitu',\n",
       " 'sehat',\n",
       " 'sejati',\n",
       " 'sejuk',\n",
       " 'sekian',\n",
       " 'selamat',\n",
       " 'selera',\n",
       " 'selesai',\n",
       " 'selip',\n",
       " 'semangat',\n",
       " 'semga',\n",
       " 'sempurna',\n",
       " 'senandung',\n",
       " 'senioritas',\n",
       " 'senyum',\n",
       " 'sepakbola',\n",
       " 'sepakbolamiliksiapa',\n",
       " 'seram',\n",
       " 'serap',\n",
       " 'sering',\n",
       " 'seru',\n",
       " 'sesat',\n",
       " 'sesuai',\n",
       " 'setan',\n",
       " 'setia',\n",
       " 'sial',\n",
       " 'siang',\n",
       " 'sibuk',\n",
       " 'sih',\n",
       " 'sikap',\n",
       " 'silaturahmi',\n",
       " 'silet',\n",
       " 'simpan',\n",
       " 'sistem',\n",
       " 'skor',\n",
       " 'sobat',\n",
       " 'sodok',\n",
       " 'soleh',\n",
       " 'sombong',\n",
       " 'stefanlilipaly',\n",
       " 'stres',\n",
       " 'stress',\n",
       " 'suami',\n",
       " 'suarahatiahok',\n",
       " 'subhanallah',\n",
       " 'suka',\n",
       " 'sukses',\n",
       " 'sulit',\n",
       " 'sungguh',\n",
       " 'super',\n",
       " 'sus',\n",
       " 'syafii',\n",
       " 'syukur',\n",
       " 'tai',\n",
       " 'tajam',\n",
       " 'taksi',\n",
       " 'tambah',\n",
       " 'tampang',\n",
       " 'tamu',\n",
       " 'tamuahok',\n",
       " 'tanyajokowi',\n",
       " 'tarik',\n",
       " 'taruh',\n",
       " 'tatan',\n",
       " 'tato',\n",
       " 'taxamnesti',\n",
       " 'tayang',\n",
       " 'teduh',\n",
       " 'tegak',\n",
       " 'teguh',\n",
       " 'tekcmi',\n",
       " 'teladan',\n",
       " 'televisi',\n",
       " 'telor',\n",
       " 'teman',\n",
       " 'tembus',\n",
       " 'tentram',\n",
       " 'terbuktiteruji',\n",
       " 'terima',\n",
       " 'terimakasih',\n",
       " 'terkadang',\n",
       " 'teroris',\n",
       " 'tertawa',\n",
       " 'tipu',\n",
       " 'tiru',\n",
       " 'tjokro',\n",
       " 'tokoh',\n",
       " 'tolak',\n",
       " 'toleransi',\n",
       " 'tolol',\n",
       " 'top',\n",
       " 'topi',\n",
       " 'trans',\n",
       " 'tributetowanitaindonesia',\n",
       " 'tua',\n",
       " 'tuju',\n",
       " 'tunduk',\n",
       " 'tunggu',\n",
       " 'tvne',\n",
       " 'tvone',\n",
       " 'tvoneslldihati',\n",
       " 'tvshow',\n",
       " 'tweeps',\n",
       " 'uang',\n",
       " 'uban',\n",
       " 'ucap',\n",
       " 'ulas',\n",
       " 'umpat',\n",
       " 'umur',\n",
       " 'undang',\n",
       " 'upaya',\n",
       " 'urus',\n",
       " 'usak',\n",
       " 'usik',\n",
       " 'ustad',\n",
       " 'ustadz',\n",
       " 'utadz',\n",
       " 'vermansah',\n",
       " 'veteran',\n",
       " 'vocalgrup',\n",
       " 'wahh',\n",
       " 'wanita',\n",
       " 'wawas',\n",
       " 'whatsapp',\n",
       " 'wibawa',\n",
       " 'wihh',\n",
       " 'woidjojayanto',\n",
       " 'yaampun',\n",
       " 'yag',\n",
       " 'yuk',\n",
       " 'yukikatou',\n",
       " 'zaitun']"
      ]
     },
     "execution_count": 38,
     "metadata": {},
     "output_type": "execute_result"
    }
   ],
   "source": [
    "# Menampilkan fitur-fitur terpilih berdasarkan mask atau nilai tertinggi yang sudah dikalkulasi pada Chi-Square\n",
    "new_feature = []\n",
    "\n",
    "for bool, f in zip(mask, feature):\n",
    "  if bool:\n",
    "    new_feature.append(f)\n",
    "  selected_feature = new_feature\n",
    "\n",
    "selected_feature"
   ]
  },
  {
   "cell_type": "code",
   "execution_count": 39,
   "metadata": {
    "id": "fbKpSZMvwZKj"
   },
   "outputs": [],
   "source": [
    "# Cara melihat vocab yang dihasilkan oleh TF_IDF\n",
    "# tf_idf.vocabulary_ \n",
    "\n",
    "kbest_feature = {} # Buat dictionary kosong\n",
    "\n",
    "for (k,v) in tf_idf.vocabulary_.items():    # Iterasi untuk mengulangi vocab yang dihasilkan TF_IDF\n",
    "  if k in selected_feature:                 # Cek apakah fitur termasuk k fitur yang diseleksi\n",
    "    kbest_feature[k] = v                    # Jika iya, simpan fitur tersebut pada dictionary kosong diatas"
   ]
  },
  {
   "cell_type": "code",
   "execution_count": 40,
   "metadata": {
    "colab": {
     "base_uri": "https://localhost:8080/"
    },
    "id": "b5GASK9iwcKY",
    "outputId": "852fd97f-f51c-4e8a-f116-da486e88572e"
   },
   "outputs": [
    {
     "data": {
      "text/plain": [
       "{'undang': 1136,\n",
       " 'hitamputih': 383,\n",
       " 'menang': 651,\n",
       " 'prestasi': 845,\n",
       " 'selamat': 955,\n",
       " 'buka': 187,\n",
       " 'moga': 684,\n",
       " 'terima': 1078,\n",
       " 'allah': 39,\n",
       " 'nih': 733,\n",
       " 'trans': 1101,\n",
       " 'hitam': 382,\n",
       " 'putih': 861,\n",
       " 'norwegia': 742,\n",
       " 'mas': 629,\n",
       " 'adietaufan': 10,\n",
       " 'asiknya': 79,\n",
       " 'nonton': 741,\n",
       " 'acara': 7,\n",
       " 'komplit': 545,\n",
       " 'tarik': 1053,\n",
       " 'inspiratif': 419,\n",
       " 'banget': 103,\n",
       " 'suka': 1024,\n",
       " 'keren': 520,\n",
       " 'bro': 182,\n",
       " 'hitamputihtrans': 385,\n",
       " 'lihat': 588,\n",
       " 'sanggu': 928,\n",
       " 'ganteng': 320,\n",
       " 'cinta': 217,\n",
       " 'ikat': 401,\n",
       " 'silaturahmi': 995,\n",
       " 'lunamaya': 598,\n",
       " 'kasih': 496,\n",
       " 'adik': 11,\n",
       " 'lancar': 569,\n",
       " 'baik': 96,\n",
       " 'bagus': 92,\n",
       " 'pintar': 829,\n",
       " 'hibur': 378,\n",
       " 'ustadz': 1146,\n",
       " 'tamu': 1049,\n",
       " 'asal': 77,\n",
       " 'kangen': 487,\n",
       " 'tayang': 1060,\n",
       " 'terimakasih': 1079,\n",
       " 'malam': 610,\n",
       " 'inspirasi': 418,\n",
       " 'sobat': 1005,\n",
       " 'rafatharonhp': 868,\n",
       " 'ganda': 318,\n",
       " 'seru': 979,\n",
       " 'beda': 129,\n",
       " 'rindu': 896,\n",
       " 'nya': 746,\n",
       " 'wihh': 1162,\n",
       " 'hebat': 372,\n",
       " 'kakek': 481,\n",
       " 'nenek': 724,\n",
       " 'tunggu': 1113,\n",
       " 'sekian': 951,\n",
       " 'yukikatou': 1172,\n",
       " 'nongol': 740,\n",
       " 'asik': 78,\n",
       " 'boys': 179,\n",
       " 'asli': 81,\n",
       " 'pakai': 781,\n",
       " 'wahh': 1154,\n",
       " 'vocalgrup': 1153,\n",
       " 'mantap': 620,\n",
       " 'tuju': 1110,\n",
       " 'banyak': 112,\n",
       " 'ulas': 1130,\n",
       " 'hitamputiht': 384,\n",
       " 'lucu': 594,\n",
       " 'jujur': 473,\n",
       " 'news': 726,\n",
       " 'ok': 761,\n",
       " 'donk': 273,\n",
       " 'fokus': 306,\n",
       " 'live': 591,\n",
       " 'syukur': 1039,\n",
       " 'indonesia': 415,\n",
       " 'ucap': 1127,\n",
       " 'siang': 989,\n",
       " 'sayang': 940,\n",
       " 'stefanlilipaly': 1015,\n",
       " 'andik': 54,\n",
       " 'vermansah': 1150,\n",
       " 'oke': 762,\n",
       " 'yuk': 1171,\n",
       " 'tweeps': 1123,\n",
       " 'rapat': 878,\n",
       " 'sebentar': 944,\n",
       " 'besok': 149,\n",
       " 'hpviral': 393,\n",
       " 'emang': 291,\n",
       " 'subhanallah': 1023,\n",
       " 'anak': 47,\n",
       " 'karunia': 494,\n",
       " 'banding': 101,\n",
       " 'kes': 524,\n",
       " 'orang': 772,\n",
       " 'maju': 607,\n",
       " 'sukses': 1025,\n",
       " 'bodoh': 171,\n",
       " 'haruka': 367,\n",
       " 'miris': 678,\n",
       " 'perintah': 815,\n",
       " 'angkat': 58,\n",
       " 'berat': 142,\n",
       " 'seasia': 943,\n",
       " 'biaya': 155,\n",
       " 'kejurnas': 506,\n",
       " 'tolak': 1094,\n",
       " 'hostnya': 388,\n",
       " 'aneh': 56,\n",
       " 'sedih': 946,\n",
       " 'roxana': 902,\n",
       " 'sulit': 1026,\n",
       " 'bahasa': 95,\n",
       " 'sombong': 1008,\n",
       " 'kaya': 501,\n",
       " 'host': 387,\n",
       " 'parah': 791,\n",
       " 'ngomong': 731,\n",
       " 'rusak': 909,\n",
       " 'muda': 693,\n",
       " 'bangkrut': 106,\n",
       " 'uang': 1124,\n",
       " 'powernya': 841,\n",
       " 'oma': 764,\n",
       " 'martha': 627,\n",
       " 'sesuai': 981,\n",
       " 'hendak': 373,\n",
       " 'demo': 246,\n",
       " 'paksa': 783,\n",
       " 'mulut': 697,\n",
       " 'farhat': 301,\n",
       " 'abas': 3,\n",
       " 'anjay': 65,\n",
       " 'bener': 137,\n",
       " 'yaampun': 1167,\n",
       " 'butuh': 195,\n",
       " 'aku': 33,\n",
       " 'sang': 927,\n",
       " 'marioteguh': 626,\n",
       " 'mario': 625,\n",
       " 'teguh': 1065,\n",
       " 'campak': 200,\n",
       " 'jabat': 436,\n",
       " 'korupsi': 550,\n",
       " 'pandji': 787,\n",
       " 'garing': 323,\n",
       " 'sih': 992,\n",
       " 'na': 706,\n",
       " 'sakit': 916,\n",
       " 'malu': 613,\n",
       " 'savelaguanak': 938,\n",
       " 'maksud': 608,\n",
       " 'ditindes': 268,\n",
       " 'kau': 499,\n",
       " 'tertawa': 1082,\n",
       " 'veteran': 1151,\n",
       " 'koruptor': 551,\n",
       " 'hukum': 395,\n",
       " 'mati': 640,\n",
       " 'nyebar': 753,\n",
       " 'dunia': 283,\n",
       " 'haru': 366,\n",
       " 'pergi': 814,\n",
       " 'mbak': 643,\n",
       " 'jupe': 474,\n",
       " 'nasib': 718,\n",
       " 'atlet': 84,\n",
       " 'kemenpora': 516,\n",
       " 'ri': 890,\n",
       " 'teman': 1070,\n",
       " 'baby': 88,\n",
       " 'tatan': 1056,\n",
       " 'nang': 713,\n",
       " 'daddy': 228,\n",
       " 'topi': 1099,\n",
       " 'tunduk': 1112,\n",
       " 'kepala': 518,\n",
       " 'mbah': 642,\n",
       " 'simpan': 997,\n",
       " 'toleransi': 1095,\n",
       " 'duka': 280,\n",
       " 'buk': 186,\n",
       " 'harap': 364,\n",
       " 'moreppie': 688,\n",
       " 'buruk': 191,\n",
       " 'sodok': 1006,\n",
       " 'bu': 184,\n",
       " 'haha': 357,\n",
       " 'tributetowanitaindonesia': 1102,\n",
       " 'medsos': 645,\n",
       " 'dijalanin': 261,\n",
       " 'dipikirin': 265,\n",
       " 'korban': 548,\n",
       " 'mongol': 686,\n",
       " 'stres': 1017,\n",
       " 'nyelesaikan': 755,\n",
       " 'bermusyawara': 146,\n",
       " 'ajha': 26,\n",
       " 'bayang': 125,\n",
       " 'konvensional': 547,\n",
       " 'online': 769,\n",
       " 'mana': 616,\n",
       " 'bayar': 126,\n",
       " 'kalah': 483,\n",
       " 'taksi': 1043,\n",
       " 'negara': 722,\n",
       " 'inti': 423,\n",
       " 'pilih': 825,\n",
       " 'pasrah': 797,\n",
       " 'darurat': 240,\n",
       " 'kucing': 563,\n",
       " 'rumah': 906,\n",
       " 'hewan': 377,\n",
       " 'aniaya': 60,\n",
       " 'hpsayangbinatang': 392,\n",
       " 'bicara': 156,\n",
       " 'masalah': 631,\n",
       " 'alu': 40,\n",
       " 'indonesialawyersclub': 416,\n",
       " 'tambah': 1046,\n",
       " 'wawas': 1157,\n",
       " 'pokok': 833,\n",
       " 'indobesia': 413,\n",
       " 'lawyers': 575,\n",
       " 'club': 219,\n",
       " 'tvone': 1119,\n",
       " 'program': 848,\n",
       " 'pirsa': 830,\n",
       " 'kagum': 479,\n",
       " 'syafii': 1037,\n",
       " 'panglima': 788,\n",
       " 'bangga': 104,\n",
       " 'rating': 881,\n",
       " 'televisi': 1068,\n",
       " 'one': 768,\n",
       " 'lesat': 583,\n",
       " 'sejuk': 950,\n",
       " 'obrol': 757,\n",
       " 'bidang': 157,\n",
       " 'adem': 9,\n",
       " 'aa': 0,\n",
       " 'gymnastiar': 349,\n",
       " 'ikhlas': 402,\n",
       " 'lepas': 582,\n",
       " 'doa': 271,\n",
       " 'cerdas': 211,\n",
       " 'damai': 235,\n",
       " 'senandung': 964,\n",
       " 'sejati': 949,\n",
       " 'rupa': 908,\n",
       " 'indah': 410,\n",
       " 'rangkul': 877,\n",
       " 'ustad': 1145,\n",
       " 'top': 1098,\n",
       " 'utadz': 1148,\n",
       " 'zaitun': 1173,\n",
       " 'rasmin': 880,\n",
       " 'saji': 915,\n",
       " 'obyektif': 758,\n",
       " 'tvoneslldihati': 1121,\n",
       " 'polmart': 836,\n",
       " 'bijaksana': 160,\n",
       " 'dukung': 281,\n",
       " 'sabar': 911,\n",
       " 'semangat': 960,\n",
       " 'sehat': 948,\n",
       " 'setia': 983,\n",
       " 'nasehat': 717,\n",
       " 'gym': 348,\n",
       " 'generalgatot': 332,\n",
       " 'ilmu': 407,\n",
       " 'serap': 977,\n",
       " 'panglimatni': 789,\n",
       " 'jendralgatotnurmantyo': 461,\n",
       " 'salut': 921,\n",
       " 'komitmen': 542,\n",
       " 'wibawa': 1161,\n",
       " 'jenderal': 459,\n",
       " 'sungguh': 1030,\n",
       " 'hormat': 386,\n",
       " 'jendral': 460,\n",
       " 'nextpresiden': 727,\n",
       " 'mental': 659,\n",
       " 'jiwa': 464,\n",
       " 'maarifinstitute': 602,\n",
       " 'kejernihaannya': 505,\n",
       " 'ahmad': 16,\n",
       " 'dhani': 255,\n",
       " 'dapat': 237,\n",
       " 'hasim': 370,\n",
       " 'muzadi': 704,\n",
       " 'menentramkan': 656,\n",
       " 'kompak': 543,\n",
       " 'bnn': 168,\n",
       " 'abang': 2,\n",
       " 'jokowi': 468,\n",
       " 'soleh': 1007,\n",
       " 'hendropriyono': 374,\n",
       " 'cerah': 210,\n",
       " 'prof': 847,\n",
       " 'mohmahfudmd': 685,\n",
       " 'iklan': 403,\n",
       " 'korporasi': 549,\n",
       " 'melek': 648,\n",
       " 'darmawan': 239,\n",
       " 'salihin': 920,\n",
       " 'semga': 962,\n",
       " 'informasi': 417,\n",
       " 'yag': 1169,\n",
       " 'tvshow': 1122,\n",
       " 'batal': 119,\n",
       " 'teroris': 1081,\n",
       " 'nyata': 752,\n",
       " 'sikap': 993,\n",
       " 'sibuk': 991,\n",
       " 'bidik': 158,\n",
       " 'habieb': 352,\n",
       " 'mutu': 703,\n",
       " 'ekonomi': 288,\n",
       " 'kuat': 561,\n",
       " 'lemah': 578,\n",
       " 'radikal': 865,\n",
       " 'aniesbaswedan': 62,\n",
       " 'jaga': 438,\n",
       " 'jarak': 447,\n",
       " 'islamis': 430,\n",
       " 'hancur': 361,\n",
       " 'omong': 765,\n",
       " 'isi': 425,\n",
       " 'fitnah': 305,\n",
       " 'padat': 777,\n",
       " 'cek': 207,\n",
       " 'pikir': 824,\n",
       " 'matanajwa': 636,\n",
       " 'provokatif': 850,\n",
       " 'bawa': 123,\n",
       " 'kelas': 509,\n",
       " 'selesai': 958,\n",
       " 'bohong': 173,\n",
       " 'diulangulang': 269,\n",
       " 'racun': 864,\n",
       " 'puji': 856,\n",
       " 'malas': 612,\n",
       " 'lari': 573,\n",
       " 'cepat': 209,\n",
       " 'kilat': 536,\n",
       " 'tampang': 1047,\n",
       " 'angket': 59,\n",
       " 'tvne': 1118,\n",
       " 'gagal': 312,\n",
       " 'segitu': 947,\n",
       " 'dapet': 238,\n",
       " 'fahri': 297,\n",
       " 'dower': 274,\n",
       " 'usik': 1144,\n",
       " 'reflyhz': 883,\n",
       " 'ajarin': 25,\n",
       " 'dewan': 253,\n",
       " 'rajut': 871,\n",
       " 'cabik': 197,\n",
       " 'akar': 28,\n",
       " 'jahat': 441,\n",
       " 'islam': 428,\n",
       " 'publik': 854,\n",
       " 'rambut': 874,\n",
       " 'uban': 1126,\n",
       " 'cat': 204,\n",
       " 'tokoh': 1093,\n",
       " 'betawi': 151,\n",
       " 'bilang': 162,\n",
       " 'gampang': 317,\n",
       " 'bacot': 89,\n",
       " 'tua': 1106,\n",
       " 'rampas': 875,\n",
       " 'dasar': 241,\n",
       " 'kasihan': 497,\n",
       " 'abi': 4,\n",
       " 'manyu': 623,\n",
       " 'beliau': 134,\n",
       " 'whatsapp': 1160,\n",
       " 'menghimbau': 658,\n",
       " 'provokasi': 849,\n",
       " 'mantik': 621,\n",
       " 'benci': 136,\n",
       " 'teduh': 1062,\n",
       " 'mendung': 655,\n",
       " 'anarkis': 51,\n",
       " 'aksi': 31,\n",
       " 'savehmi': 936,\n",
       " 'penting': 809,\n",
       " 'apa': 68,\n",
       " 'seram': 975,\n",
       " 'preman': 843,\n",
       " 'pasar': 794,\n",
       " 'radikalisme': 866,\n",
       " 'perang': 811,\n",
       " 'kpi': 554,\n",
       " 'fakta': 300,\n",
       " 'setan': 982,\n",
       " 'marwah': 628,\n",
       " 'gaya': 327,\n",
       " 'liberal': 587,\n",
       " 'sesat': 980,\n",
       " 'amat': 43,\n",
       " 'taxamnesti': 1059,\n",
       " 'ribet': 892,\n",
       " 'ih': 400,\n",
       " 'kick': 528,\n",
       " 'andy': 55,\n",
       " 'senyum': 969,\n",
       " 'hasan': 368,\n",
       " 'kickandy': 530,\n",
       " 'gokil': 340,\n",
       " 'lentera': 581,\n",
       " 'mahasiswaum': 606,\n",
       " 'agung': 15,\n",
       " 'nkri': 737,\n",
       " 'imajinasi': 408,\n",
       " 'gila': 337,\n",
       " 'daki': 231,\n",
       " 'mantan': 619,\n",
       " 'narapidana': 714,\n",
       " 'karya': 495,\n",
       " 'hapsah': 362,\n",
       " 'jatuh': 450,\n",
       " 'bangkit': 105,\n",
       " 'patut': 798,\n",
       " 'ala': 36,\n",
       " 'berani': 141,\n",
       " 'hindar': 381,\n",
       " 'ajang': 23,\n",
       " 'kosti': 552,\n",
       " 'ku': 557,\n",
       " 'bahagia': 93,\n",
       " 'kawan': 500,\n",
       " 'persis': 818,\n",
       " 'rias': 891,\n",
       " 'wanita': 1155,\n",
       " 'percaya': 812,\n",
       " 'bersih': 147,\n",
       " 'tamuahok': 1050,\n",
       " 'jago': 440,\n",
       " 'hahahaha': 359,\n",
       " 'umur': 1134,\n",
       " 'kickandyheroes': 531,\n",
       " 'penta': 808,\n",
       " 'rumania': 907,\n",
       " 'eks': 289,\n",
       " 'kickandyp': 534,\n",
       " 'selip': 959,\n",
       " 'detik': 252,\n",
       " 'motivasi': 689,\n",
       " 'disabilitas': 266,\n",
       " 'perjuagan': 816,\n",
       " 'istimewa': 433,\n",
       " 'tembus': 1072,\n",
       " 'batas': 121,\n",
       " 'sampah': 924,\n",
       " 'nyampah': 749,\n",
       " 'ancam': 53,\n",
       " 'nyala': 747,\n",
       " 'lilin': 589,\n",
       " 'umpat': 1132,\n",
       " 'gelap': 328,\n",
       " 'pejuangtangguh': 803,\n",
       " 'sampan': 925,\n",
       " 'padang': 776,\n",
       " 'pasir': 795,\n",
       " 'betapa': 150,\n",
       " 'emp': 293,\n",
       " 'upaya': 1139,\n",
       " 'terkadang': 1080,\n",
       " 'nomornet': 739,\n",
       " 'coba': 220,\n",
       " 'suami': 1019,\n",
       " 'istri': 434,\n",
       " 'henti': 375,\n",
       " 'remaja': 885,\n",
       " 'tekcmi': 1066,\n",
       " 'stress': 1018,\n",
       " 'kesel': 525,\n",
       " 'suarahatiahok': 1021,\n",
       " 'urus': 1141,\n",
       " 'miskin': 681,\n",
       " 'taruh': 1055,\n",
       " 'apartemen': 70,\n",
       " 'antem': 66,\n",
       " 'telor': 1069,\n",
       " 'busuk': 192,\n",
       " 'ketek': 526,\n",
       " 'pilkadadki': 827,\n",
       " 'basuki': 117,\n",
       " 'btp': 183,\n",
       " 'kaku': 482,\n",
       " 'formal': 308,\n",
       " 'ngantuk': 728,\n",
       " 'gajah': 313,\n",
       " 'psikolog': 851,\n",
       " 'kickandymetrotv': 533,\n",
       " 'bakarin': 99,\n",
       " 'kickandymetrot': 532,\n",
       " 'perut': 819,\n",
       " 'sarjana': 933,\n",
       " 'kualifikasi': 558,\n",
       " 'didik': 260,\n",
       " 'tato': 1057,\n",
       " 'sistem': 1000,\n",
       " 'mikemarjinal': 672,\n",
       " 'bocor': 170,\n",
       " 'lulus': 597,\n",
       " 'merinding': 665,\n",
       " 'sempurna': 963,\n",
       " 'adil': 12,\n",
       " 'kecewa': 504,\n",
       " 'tai': 1041,\n",
       " 'bawah': 124,\n",
       " 'keluh': 512,\n",
       " 'juang': 471,\n",
       " 'lelah': 577,\n",
       " 'capek': 202,\n",
       " 'ambil': 44,\n",
       " 'usak': 1143,\n",
       " 'kacau': 476,\n",
       " 'posisi': 838,\n",
       " 'al': 35,\n",
       " 'misbah': 679,\n",
       " 'favorit': 303,\n",
       " 'selera': 957,\n",
       " 'dpp': 275,\n",
       " 'pkb': 831,\n",
       " 'rugi': 905,\n",
       " 'tentram': 1074,\n",
       " 'tajam': 1042,\n",
       " 'silet': 996,\n",
       " 'lawan': 574,\n",
       " 'anies': 61,\n",
       " 'baswedan': 118,\n",
       " 'romantis': 900,\n",
       " 'muas': 692,\n",
       " 'pelosok': 804,\n",
       " 'atas': 83,\n",
       " 'edukatif': 285,\n",
       " 'santun': 932,\n",
       " 'aniessandipemersatu': 63,\n",
       " 'matanajwametrotv': 638,\n",
       " 'islami': 429,\n",
       " 'teladan': 1067,\n",
       " 'ramai': 873,\n",
       " 'kado': 478,\n",
       " 'tjokro': 1092,\n",
       " 'senioritas': 968,\n",
       " 'kerdil': 519,\n",
       " 'bp': 180,\n",
       " 'bambang': 100,\n",
       " 'woidjojayanto': 1165,\n",
       " 'savekpk': 937,\n",
       " 'sus': 1035,\n",
       " 'dahlan': 230,\n",
       " 'faisal': 299,\n",
       " 'basri': 116,\n",
       " 'minggu': 676,\n",
       " 'merdeka': 662,\n",
       " 'tanyajokowi': 1052,\n",
       " 'hutjekardah': 396,\n",
       " 'super': 1031,\n",
       " 'kata': 498,\n",
       " 'sederhana': 945,\n",
       " 'bj': 165,\n",
       " 'habibie': 351,\n",
       " 'abraham': 5,\n",
       " 'ganjar': 319,\n",
       " 'rendah': 886,\n",
       " 'tiru': 1090,\n",
       " 'iskan': 427,\n",
       " 'desa': 250,\n",
       " 'rokok': 899,\n",
       " 'bjh': 166,\n",
       " 'hab': 350,\n",
       " 'narasumber': 716,\n",
       " 'cie': 216,\n",
       " 'job': 467,\n",
       " 'lapor': 572,\n",
       " 'emosi': 292,\n",
       " 'isis': 426,\n",
       " 'mimin': 674,\n",
       " 'organisasi': 774,\n",
       " 'pak': 780,\n",
       " 'jk': 465,\n",
       " 'integritas': 422,\n",
       " 'reputasi': 887,\n",
       " 'muak': 691,\n",
       " 'fz': 310,\n",
       " 'sering': 978,\n",
       " 'gaul': 325,\n",
       " 'diapaapain': 258,\n",
       " 'adu': 13,\n",
       " 'mui': 694,\n",
       " 'bulan': 189,\n",
       " 'hujat': 394,\n",
       " 'ahokdjarotdirosi': 20,\n",
       " 'sandi': 926,\n",
       " 'tipu': 1089,\n",
       " 'boikot': 174,\n",
       " 'intip': 424,\n",
       " 'sial': 988,\n",
       " 'anaktangsel': 49,\n",
       " 'putar': 860,\n",
       " 'penjara': 807,\n",
       " 'palsu': 785,\n",
       " 'terbuktiteruji': 1077,\n",
       " 'bae': 90,\n",
       " 'skor': 1001,\n",
       " 'sepakbola': 970,\n",
       " 'pemuda': 806,\n",
       " 'sepakbolamiliksiapa': 971,\n",
       " 'radityadika': 867,\n",
       " 'pssi': 852,\n",
       " 'lacur': 566,\n",
       " 'nurani': 744,\n",
       " 'jembatan': 457,\n",
       " 'comal': 222,\n",
       " 'akibatya': 30,\n",
       " 'rayap': 882,\n",
       " 'tegak': 1063,\n",
       " 'putryvanvan': 863,\n",
       " 'mendongrak': 654,\n",
       " 'kokoh': 541,\n",
       " 'materi': 639,\n",
       " 'dalam': 233,\n",
       " 'lembaga': 579,\n",
       " 'bobrok': 169,\n",
       " 'tolol': 1096,\n",
       " 'duga': 278,\n",
       " 'mencak': 652,\n",
       " 'sangka': 930,\n",
       " 'pungut': 859,\n",
       " 'liar': 586,\n",
       " 'bkin': 167,\n",
       " 'kisruh': 539,\n",
       " 'berbelitbelit': 143,\n",
       " 'buang': 185}"
      ]
     },
     "execution_count": 40,
     "metadata": {},
     "output_type": "execute_result"
    }
   ],
   "source": [
    "kbest_feature"
   ]
  },
  {
   "cell_type": "code",
   "execution_count": 41,
   "metadata": {
    "colab": {
     "base_uri": "https://localhost:8080/",
     "height": 488
    },
    "id": "QgeA_8Agwd7G",
    "outputId": "0cefa965-5fb3-4eb6-c4bf-8d32826e4d26"
   },
   "outputs": [
    {
     "data": {
      "text/html": [
       "<div>\n",
       "<style scoped>\n",
       "    .dataframe tbody tr th:only-of-type {\n",
       "        vertical-align: middle;\n",
       "    }\n",
       "\n",
       "    .dataframe tbody tr th {\n",
       "        vertical-align: top;\n",
       "    }\n",
       "\n",
       "    .dataframe thead th {\n",
       "        text-align: right;\n",
       "    }\n",
       "</style>\n",
       "<table border=\"1\" class=\"dataframe\">\n",
       "  <thead>\n",
       "    <tr style=\"text-align: right;\">\n",
       "      <th></th>\n",
       "      <th>aa</th>\n",
       "      <th>abang</th>\n",
       "      <th>abas</th>\n",
       "      <th>abi</th>\n",
       "      <th>abraham</th>\n",
       "      <th>acara</th>\n",
       "      <th>adem</th>\n",
       "      <th>adietaufan</th>\n",
       "      <th>adik</th>\n",
       "      <th>adil</th>\n",
       "      <th>...</th>\n",
       "      <th>wawas</th>\n",
       "      <th>whatsapp</th>\n",
       "      <th>wibawa</th>\n",
       "      <th>wihh</th>\n",
       "      <th>woidjojayanto</th>\n",
       "      <th>yaampun</th>\n",
       "      <th>yag</th>\n",
       "      <th>yuk</th>\n",
       "      <th>yukikatou</th>\n",
       "      <th>zaitun</th>\n",
       "    </tr>\n",
       "  </thead>\n",
       "  <tbody>\n",
       "    <tr>\n",
       "      <th>0</th>\n",
       "      <td>0.0</td>\n",
       "      <td>0.0</td>\n",
       "      <td>0.0</td>\n",
       "      <td>0.0</td>\n",
       "      <td>0.0</td>\n",
       "      <td>0.0</td>\n",
       "      <td>0.0</td>\n",
       "      <td>0.000000</td>\n",
       "      <td>0.0</td>\n",
       "      <td>0.0</td>\n",
       "      <td>...</td>\n",
       "      <td>0.0</td>\n",
       "      <td>0.0</td>\n",
       "      <td>0.0</td>\n",
       "      <td>0.0</td>\n",
       "      <td>0.0</td>\n",
       "      <td>0.0</td>\n",
       "      <td>0.0</td>\n",
       "      <td>0.0</td>\n",
       "      <td>0.0</td>\n",
       "      <td>0.0</td>\n",
       "    </tr>\n",
       "    <tr>\n",
       "      <th>1</th>\n",
       "      <td>0.0</td>\n",
       "      <td>0.0</td>\n",
       "      <td>0.0</td>\n",
       "      <td>0.0</td>\n",
       "      <td>0.0</td>\n",
       "      <td>0.0</td>\n",
       "      <td>0.0</td>\n",
       "      <td>0.000000</td>\n",
       "      <td>0.0</td>\n",
       "      <td>0.0</td>\n",
       "      <td>...</td>\n",
       "      <td>0.0</td>\n",
       "      <td>0.0</td>\n",
       "      <td>0.0</td>\n",
       "      <td>0.0</td>\n",
       "      <td>0.0</td>\n",
       "      <td>0.0</td>\n",
       "      <td>0.0</td>\n",
       "      <td>0.0</td>\n",
       "      <td>0.0</td>\n",
       "      <td>0.0</td>\n",
       "    </tr>\n",
       "    <tr>\n",
       "      <th>2</th>\n",
       "      <td>0.0</td>\n",
       "      <td>0.0</td>\n",
       "      <td>0.0</td>\n",
       "      <td>0.0</td>\n",
       "      <td>0.0</td>\n",
       "      <td>0.0</td>\n",
       "      <td>0.0</td>\n",
       "      <td>0.000000</td>\n",
       "      <td>0.0</td>\n",
       "      <td>0.0</td>\n",
       "      <td>...</td>\n",
       "      <td>0.0</td>\n",
       "      <td>0.0</td>\n",
       "      <td>0.0</td>\n",
       "      <td>0.0</td>\n",
       "      <td>0.0</td>\n",
       "      <td>0.0</td>\n",
       "      <td>0.0</td>\n",
       "      <td>0.0</td>\n",
       "      <td>0.0</td>\n",
       "      <td>0.0</td>\n",
       "    </tr>\n",
       "    <tr>\n",
       "      <th>3</th>\n",
       "      <td>0.0</td>\n",
       "      <td>0.0</td>\n",
       "      <td>0.0</td>\n",
       "      <td>0.0</td>\n",
       "      <td>0.0</td>\n",
       "      <td>0.0</td>\n",
       "      <td>0.0</td>\n",
       "      <td>0.493212</td>\n",
       "      <td>0.0</td>\n",
       "      <td>0.0</td>\n",
       "      <td>...</td>\n",
       "      <td>0.0</td>\n",
       "      <td>0.0</td>\n",
       "      <td>0.0</td>\n",
       "      <td>0.0</td>\n",
       "      <td>0.0</td>\n",
       "      <td>0.0</td>\n",
       "      <td>0.0</td>\n",
       "      <td>0.0</td>\n",
       "      <td>0.0</td>\n",
       "      <td>0.0</td>\n",
       "    </tr>\n",
       "    <tr>\n",
       "      <th>4</th>\n",
       "      <td>0.0</td>\n",
       "      <td>0.0</td>\n",
       "      <td>0.0</td>\n",
       "      <td>0.0</td>\n",
       "      <td>0.0</td>\n",
       "      <td>0.0</td>\n",
       "      <td>0.0</td>\n",
       "      <td>0.000000</td>\n",
       "      <td>0.0</td>\n",
       "      <td>0.0</td>\n",
       "      <td>...</td>\n",
       "      <td>0.0</td>\n",
       "      <td>0.0</td>\n",
       "      <td>0.0</td>\n",
       "      <td>0.0</td>\n",
       "      <td>0.0</td>\n",
       "      <td>0.0</td>\n",
       "      <td>0.0</td>\n",
       "      <td>0.0</td>\n",
       "      <td>0.0</td>\n",
       "      <td>0.0</td>\n",
       "    </tr>\n",
       "    <tr>\n",
       "      <th>...</th>\n",
       "      <td>...</td>\n",
       "      <td>...</td>\n",
       "      <td>...</td>\n",
       "      <td>...</td>\n",
       "      <td>...</td>\n",
       "      <td>...</td>\n",
       "      <td>...</td>\n",
       "      <td>...</td>\n",
       "      <td>...</td>\n",
       "      <td>...</td>\n",
       "      <td>...</td>\n",
       "      <td>...</td>\n",
       "      <td>...</td>\n",
       "      <td>...</td>\n",
       "      <td>...</td>\n",
       "      <td>...</td>\n",
       "      <td>...</td>\n",
       "      <td>...</td>\n",
       "      <td>...</td>\n",
       "      <td>...</td>\n",
       "      <td>...</td>\n",
       "    </tr>\n",
       "    <tr>\n",
       "      <th>395</th>\n",
       "      <td>0.0</td>\n",
       "      <td>0.0</td>\n",
       "      <td>0.0</td>\n",
       "      <td>0.0</td>\n",
       "      <td>0.0</td>\n",
       "      <td>0.0</td>\n",
       "      <td>0.0</td>\n",
       "      <td>0.000000</td>\n",
       "      <td>0.0</td>\n",
       "      <td>0.0</td>\n",
       "      <td>...</td>\n",
       "      <td>0.0</td>\n",
       "      <td>0.0</td>\n",
       "      <td>0.0</td>\n",
       "      <td>0.0</td>\n",
       "      <td>0.0</td>\n",
       "      <td>0.0</td>\n",
       "      <td>0.0</td>\n",
       "      <td>0.0</td>\n",
       "      <td>0.0</td>\n",
       "      <td>0.0</td>\n",
       "    </tr>\n",
       "    <tr>\n",
       "      <th>396</th>\n",
       "      <td>0.0</td>\n",
       "      <td>0.0</td>\n",
       "      <td>0.0</td>\n",
       "      <td>0.0</td>\n",
       "      <td>0.0</td>\n",
       "      <td>0.0</td>\n",
       "      <td>0.0</td>\n",
       "      <td>0.000000</td>\n",
       "      <td>0.0</td>\n",
       "      <td>0.0</td>\n",
       "      <td>...</td>\n",
       "      <td>0.0</td>\n",
       "      <td>0.0</td>\n",
       "      <td>0.0</td>\n",
       "      <td>0.0</td>\n",
       "      <td>0.0</td>\n",
       "      <td>0.0</td>\n",
       "      <td>0.0</td>\n",
       "      <td>0.0</td>\n",
       "      <td>0.0</td>\n",
       "      <td>0.0</td>\n",
       "    </tr>\n",
       "    <tr>\n",
       "      <th>397</th>\n",
       "      <td>0.0</td>\n",
       "      <td>0.0</td>\n",
       "      <td>0.0</td>\n",
       "      <td>0.0</td>\n",
       "      <td>0.0</td>\n",
       "      <td>0.0</td>\n",
       "      <td>0.0</td>\n",
       "      <td>0.000000</td>\n",
       "      <td>0.0</td>\n",
       "      <td>0.0</td>\n",
       "      <td>...</td>\n",
       "      <td>0.0</td>\n",
       "      <td>0.0</td>\n",
       "      <td>0.0</td>\n",
       "      <td>0.0</td>\n",
       "      <td>0.0</td>\n",
       "      <td>0.0</td>\n",
       "      <td>0.0</td>\n",
       "      <td>0.0</td>\n",
       "      <td>0.0</td>\n",
       "      <td>0.0</td>\n",
       "    </tr>\n",
       "    <tr>\n",
       "      <th>398</th>\n",
       "      <td>0.0</td>\n",
       "      <td>0.0</td>\n",
       "      <td>0.0</td>\n",
       "      <td>0.0</td>\n",
       "      <td>0.0</td>\n",
       "      <td>0.0</td>\n",
       "      <td>0.0</td>\n",
       "      <td>0.000000</td>\n",
       "      <td>0.0</td>\n",
       "      <td>0.0</td>\n",
       "      <td>...</td>\n",
       "      <td>0.0</td>\n",
       "      <td>0.0</td>\n",
       "      <td>0.0</td>\n",
       "      <td>0.0</td>\n",
       "      <td>0.0</td>\n",
       "      <td>0.0</td>\n",
       "      <td>0.0</td>\n",
       "      <td>0.0</td>\n",
       "      <td>0.0</td>\n",
       "      <td>0.0</td>\n",
       "    </tr>\n",
       "    <tr>\n",
       "      <th>399</th>\n",
       "      <td>0.0</td>\n",
       "      <td>0.0</td>\n",
       "      <td>0.0</td>\n",
       "      <td>0.0</td>\n",
       "      <td>0.0</td>\n",
       "      <td>0.0</td>\n",
       "      <td>0.0</td>\n",
       "      <td>0.000000</td>\n",
       "      <td>0.0</td>\n",
       "      <td>0.0</td>\n",
       "      <td>...</td>\n",
       "      <td>0.0</td>\n",
       "      <td>0.0</td>\n",
       "      <td>0.0</td>\n",
       "      <td>0.0</td>\n",
       "      <td>0.0</td>\n",
       "      <td>0.0</td>\n",
       "      <td>0.0</td>\n",
       "      <td>0.0</td>\n",
       "      <td>0.0</td>\n",
       "      <td>0.0</td>\n",
       "    </tr>\n",
       "  </tbody>\n",
       "</table>\n",
       "<p>400 rows × 650 columns</p>\n",
       "</div>"
      ],
      "text/plain": [
       "      aa  abang  abas  abi  abraham  acara  adem  adietaufan  adik  adil  ...  \\\n",
       "0    0.0    0.0   0.0  0.0      0.0    0.0   0.0    0.000000   0.0   0.0  ...   \n",
       "1    0.0    0.0   0.0  0.0      0.0    0.0   0.0    0.000000   0.0   0.0  ...   \n",
       "2    0.0    0.0   0.0  0.0      0.0    0.0   0.0    0.000000   0.0   0.0  ...   \n",
       "3    0.0    0.0   0.0  0.0      0.0    0.0   0.0    0.493212   0.0   0.0  ...   \n",
       "4    0.0    0.0   0.0  0.0      0.0    0.0   0.0    0.000000   0.0   0.0  ...   \n",
       "..   ...    ...   ...  ...      ...    ...   ...         ...   ...   ...  ...   \n",
       "395  0.0    0.0   0.0  0.0      0.0    0.0   0.0    0.000000   0.0   0.0  ...   \n",
       "396  0.0    0.0   0.0  0.0      0.0    0.0   0.0    0.000000   0.0   0.0  ...   \n",
       "397  0.0    0.0   0.0  0.0      0.0    0.0   0.0    0.000000   0.0   0.0  ...   \n",
       "398  0.0    0.0   0.0  0.0      0.0    0.0   0.0    0.000000   0.0   0.0  ...   \n",
       "399  0.0    0.0   0.0  0.0      0.0    0.0   0.0    0.000000   0.0   0.0  ...   \n",
       "\n",
       "     wawas  whatsapp  wibawa  wihh  woidjojayanto  yaampun  yag  yuk  \\\n",
       "0      0.0       0.0     0.0   0.0            0.0      0.0  0.0  0.0   \n",
       "1      0.0       0.0     0.0   0.0            0.0      0.0  0.0  0.0   \n",
       "2      0.0       0.0     0.0   0.0            0.0      0.0  0.0  0.0   \n",
       "3      0.0       0.0     0.0   0.0            0.0      0.0  0.0  0.0   \n",
       "4      0.0       0.0     0.0   0.0            0.0      0.0  0.0  0.0   \n",
       "..     ...       ...     ...   ...            ...      ...  ...  ...   \n",
       "395    0.0       0.0     0.0   0.0            0.0      0.0  0.0  0.0   \n",
       "396    0.0       0.0     0.0   0.0            0.0      0.0  0.0  0.0   \n",
       "397    0.0       0.0     0.0   0.0            0.0      0.0  0.0  0.0   \n",
       "398    0.0       0.0     0.0   0.0            0.0      0.0  0.0  0.0   \n",
       "399    0.0       0.0     0.0   0.0            0.0      0.0  0.0  0.0   \n",
       "\n",
       "     yukikatou  zaitun  \n",
       "0          0.0     0.0  \n",
       "1          0.0     0.0  \n",
       "2          0.0     0.0  \n",
       "3          0.0     0.0  \n",
       "4          0.0     0.0  \n",
       "..         ...     ...  \n",
       "395        0.0     0.0  \n",
       "396        0.0     0.0  \n",
       "397        0.0     0.0  \n",
       "398        0.0     0.0  \n",
       "399        0.0     0.0  \n",
       "\n",
       "[400 rows x 650 columns]"
      ]
     },
     "execution_count": 41,
     "metadata": {},
     "output_type": "execute_result"
    }
   ],
   "source": [
    "# Menampilkan fitur-fitur yang sudah diseleksi \n",
    "# Beserta nilai vektornya pada keseluruhan data untuk dijalankan pada proses machine learning\n",
    "\n",
    "# Hanya k fitur yang terpilih sesuai parameter k yang ditentukan sebelumnya\n",
    "\n",
    "data_selected_feature = pd.DataFrame(X_kbest_features, columns=selected_feature)\n",
    "data_selected_feature"
   ]
  },
  {
   "cell_type": "markdown",
   "metadata": {
    "id": "dLZUylobwiQq"
   },
   "source": [
    "# 04 Modelling (Machine Learning)"
   ]
  },
  {
   "cell_type": "code",
   "execution_count": 42,
   "metadata": {
    "id": "o-mwcc6twggs"
   },
   "outputs": [],
   "source": [
    "'''\n",
    "Supervised learning in Sklearn\n",
    "https://scikit-learn.org/stable/supervised_learning.html\n",
    "'''\n",
    "from sklearn.naive_bayes import MultinomialNB           # Pilih salah satu algoritma supervised learning. Contoh ini menggunakan algoritma Naive Bayes\n",
    "from sklearn.model_selection import train_test_split    # Digunakan untuk memisahkan data uji dan data latih\n",
    "from joblib import dump                                 # Digunakan untuk menyimpan model yang telah dilatih"
   ]
  },
  {
   "cell_type": "code",
   "execution_count": 43,
   "metadata": {
    "id": "XROKYz21wmyt"
   },
   "outputs": [],
   "source": [
    "# Proses memisahkan data uji dan data latih. Perbandingan 80% untuk data latih, 20% untuk data uji\n",
    "# Random_state digunakan untuk internal random generator\n",
    "# Gunakan fitur (X) hasil seleksi fitur\n",
    "\n",
    "# Split arrays or matrices into random train and test subsets.\n",
    "# https://scikit-learn.org/stable/modules/generated/sklearn.model_selection.train_test_split.html\n",
    "\n",
    "X_train, X_test, y_train, y_test = train_test_split(X_kbest_features, \n",
    "                                                    y, test_size=0.2, \n",
    "                                                    random_state=40)"
   ]
  },
  {
   "cell_type": "code",
   "execution_count": 44,
   "metadata": {
    "colab": {
     "base_uri": "https://localhost:8080/"
    },
    "id": "AH245WT9wrrn",
    "outputId": "c9cfbf53-60dd-4c1d-b92c-4dd22a17876c"
   },
   "outputs": [
    {
     "name": "stdout",
     "output_type": "stream",
     "text": [
      "Wall time: 0 ns\n"
     ]
    },
    {
     "data": {
      "text/plain": [
       "['model_1.joblib']"
      ]
     },
     "execution_count": 44,
     "metadata": {},
     "output_type": "execute_result"
    }
   ],
   "source": [
    "# Training the model\n",
    "%time\n",
    "algorithm = MultinomialNB()        \n",
    "model = algorithm.fit(X_train, y_train)   # Fitkan (latih) algoritma pada data latih & label latih \n",
    "\n",
    "dump(model, filename='model_1.joblib')"
   ]
  },
  {
   "cell_type": "code",
   "execution_count": 45,
   "metadata": {
    "colab": {
     "base_uri": "https://localhost:8080/"
    },
    "id": "cDIftgxUwtrt",
    "outputId": "954f8204-35cf-4f2c-b629-3314a57b0396"
   },
   "outputs": [
    {
     "name": "stdout",
     "output_type": "stream",
     "text": [
      "Wall time: 0 ns\n"
     ]
    },
    {
     "data": {
      "text/plain": [
       "array([1, 1, 1, 1, 1, 1, 0, 1, 1, 0, 1, 0, 0, 1, 1, 1, 1, 1, 1, 0, 0, 0,\n",
       "       1, 0, 1, 0, 1, 1, 1, 1, 1, 1, 1, 0, 1, 0, 1, 1, 1, 0, 0, 1, 0, 0,\n",
       "       1, 1, 1, 1, 1, 1, 1, 0, 1, 0, 1, 0, 0, 0, 0, 0, 1, 1, 0, 0, 0, 1,\n",
       "       1, 1, 1, 1, 0, 0, 1, 0, 0, 1, 0, 1, 1, 1])"
      ]
     },
     "execution_count": 45,
     "metadata": {},
     "output_type": "execute_result"
    }
   ],
   "source": [
    "%time\n",
    "# Gunakan model yang telah di latih untuk memprediksi label pada data uji\n",
    "model_pred = model.predict(X_test)\n",
    "\n",
    "# Tampilkan hasil prediksi label dari model\n",
    "model_pred"
   ]
  },
  {
   "cell_type": "code",
   "execution_count": 46,
   "metadata": {
    "colab": {
     "base_uri": "https://localhost:8080/"
    },
    "id": "-O0b4OBRwvcg",
    "outputId": "9de00102-3fc0-4021-ff87-6946e0c3d966"
   },
   "outputs": [
    {
     "data": {
      "text/plain": [
       "array([1, 0, 1, 1, 1, 0, 0, 1, 0, 0, 1, 0, 0, 0, 1, 1, 1, 1, 1, 0, 0, 0,\n",
       "       1, 0, 1, 0, 1, 1, 1, 1, 1, 1, 0, 0, 0, 0, 1, 1, 1, 0, 0, 1, 0, 0,\n",
       "       1, 1, 1, 1, 1, 1, 1, 0, 0, 0, 1, 0, 0, 0, 0, 0, 1, 1, 0, 0, 0, 0,\n",
       "       1, 0, 0, 1, 0, 0, 1, 0, 0, 0, 0, 1, 0, 0])"
      ]
     },
     "execution_count": 46,
     "metadata": {},
     "output_type": "execute_result"
    }
   ],
   "source": [
    "# Tampilkan label sebenarnya pada data uji (actual label)\n",
    "y_test"
   ]
  },
  {
   "cell_type": "markdown",
   "metadata": {
    "id": "WE6u6FFWwyOv"
   },
   "source": [
    "# 05 Model Evaluation"
   ]
  },
  {
   "cell_type": "code",
   "execution_count": 47,
   "metadata": {
    "colab": {
     "base_uri": "https://localhost:8080/"
    },
    "id": "YmCfsndDwxCS",
    "outputId": "480adc7f-6d45-4f51-c107-6946e409c098"
   },
   "outputs": [
    {
     "name": "stdout",
     "output_type": "stream",
     "text": [
      "Wall time: 0 ns\n",
      "Jumlah prediksi benar\t: 67\n",
      "Jumlah prediksi salah\t: 13\n",
      "Akurasi pengujian\t: 83.75 %\n"
     ]
    }
   ],
   "source": [
    "%time\n",
    "# Hitung jumlah data yang berhasil di prediksi model \n",
    "# & jumlah data yang salah di prediksi\n",
    "prediksi_benar = (model_pred == y_test).sum()\n",
    "prediksi_salah = (model_pred != y_test).sum()\n",
    "\n",
    "print('Jumlah prediksi benar\\t:', prediksi_benar)\n",
    "print('Jumlah prediksi salah\\t:', prediksi_salah)\n",
    "\n",
    "accuracy = prediksi_benar / (prediksi_benar + prediksi_salah)*100\n",
    "print('Akurasi pengujian\\t:', accuracy, '%')"
   ]
  },
  {
   "cell_type": "code",
   "execution_count": 48,
   "metadata": {
    "colab": {
     "base_uri": "https://localhost:8080/"
    },
    "id": "Uv26Kixyw3Zd",
    "outputId": "e034effd-c8e0-4dcf-dd33-729cb8379729"
   },
   "outputs": [
    {
     "name": "stdout",
     "output_type": "stream",
     "text": [
      "Confusion matrix Naive Bayes:\n",
      " [[30 13]\n",
      " [ 0 37]]\n"
     ]
    }
   ],
   "source": [
    "from sklearn.metrics import confusion_matrix\n",
    "\n",
    "cm = confusion_matrix(y_test, model_pred)\n",
    "\n",
    "print('Confusion matrix Naive Bayes:\\n', cm)\n"
   ]
  },
  {
   "cell_type": "code",
   "execution_count": 49,
   "metadata": {
    "colab": {
     "base_uri": "https://localhost:8080/"
    },
    "id": "DzYIOlZ7w47o",
    "outputId": "98c5c803-6870-4284-a5b4-87d117c37222"
   },
   "outputs": [
    {
     "name": "stdout",
     "output_type": "stream",
     "text": [
      "Classification report Naive Bayes:\n",
      "               precision    recall  f1-score   support\n",
      "\n",
      "           0       1.00      0.70      0.82        43\n",
      "           1       0.74      1.00      0.85        37\n",
      "\n",
      "    accuracy                           0.84        80\n",
      "   macro avg       0.87      0.85      0.84        80\n",
      "weighted avg       0.88      0.84      0.84        80\n",
      "\n"
     ]
    }
   ],
   "source": [
    "from sklearn.metrics import classification_report\n",
    "\n",
    "print('Classification report Naive Bayes:\\n', classification_report(y_test, model_pred))\n"
   ]
  },
  {
   "cell_type": "code",
   "execution_count": 50,
   "metadata": {
    "colab": {
     "base_uri": "https://localhost:8080/"
    },
    "id": "q0SnX4aFw6Pm",
    "outputId": "9f50dd6e-63c8-47c5-c173-7be387852598"
   },
   "outputs": [
    {
     "name": "stdout",
     "output_type": "stream",
     "text": [
      "Wall time: 0 ns\n",
      "Naive Bayes\n",
      "Akurasi setiap split: [0.8125 0.9625 0.9    0.8375 0.9    0.825  0.9375 0.8875 0.9125 0.85  ]\n",
      "Rata-rata akurasi pada cross validation: 0.8825\n"
     ]
    }
   ],
   "source": [
    "# Cross Validation\n",
    "%time\n",
    "from sklearn.model_selection import ShuffleSplit    # bisa pilih beberapa teknik cross validation\n",
    "from sklearn.model_selection import cross_val_score # untuk mengetahui performa model pada cross validation\n",
    "\n",
    "cv = ShuffleSplit(n_splits=10, test_size=0.2, random_state=50)\n",
    "\n",
    "cv_accuracy = (cross_val_score(model, X_kbest_features, y, cv=cv, scoring='accuracy'))\n",
    "\n",
    "avg_accuracy = np.mean(cv_accuracy)\n",
    "\n",
    "\n",
    "print('Naive Bayes')\n",
    "print('Akurasi setiap split:', cv_accuracy)\n",
    "print('Rata-rata akurasi pada cross validation:', avg_accuracy)\n"
   ]
  },
  {
   "cell_type": "markdown",
   "metadata": {
    "id": "SIb5MatStZb3"
   },
   "source": [
    "# Transfer Learning Bert"
   ]
  },
  {
   "cell_type": "markdown",
   "metadata": {
    "id": "PQQkKO7Ap4S9"
   },
   "source": [
    "# 01 Install & Import Library"
   ]
  },
  {
   "cell_type": "code",
   "execution_count": 51,
   "metadata": {
    "id": "BDKcO6PSqdb4"
   },
   "outputs": [],
   "source": [
    "import random\n",
    "import seaborn as sns\n"
   ]
  },
  {
   "cell_type": "code",
   "execution_count": 52,
   "metadata": {
    "colab": {
     "base_uri": "https://localhost:8080/"
    },
    "id": "uhTlxzrLUSIH",
    "outputId": "fd9e3c4c-368a-415d-82bc-7ce62b23b47d"
   },
   "outputs": [
    {
     "name": "stderr",
     "output_type": "stream",
     "text": [
      "UsageError: Line magic function `%tensorflow_version` not found.\n"
     ]
    }
   ],
   "source": [
    "%tensorflow_version 2.x\n",
    "\n",
    "# Gunakan tensorflow versi 2\n",
    "import tensorflow as tf\n",
    "print(tf.__version__)"
   ]
  },
  {
   "cell_type": "code",
   "execution_count": 53,
   "metadata": {
    "colab": {
     "base_uri": "https://localhost:8080/"
    },
    "id": "aQqku2W8UhAw",
    "outputId": "730004a6-f694-41fc-89b5-85b1402e1f1d"
   },
   "outputs": [],
   "source": [
    "# Instal libray transformer https://huggingface.co/\n",
    "!pip -q install transformers"
   ]
  },
  {
   "cell_type": "code",
   "execution_count": 54,
   "metadata": {
    "colab": {
     "base_uri": "https://localhost:8080/"
    },
    "id": "_OKTkMRTiejJ",
    "outputId": "59cae37b-6540-4e6f-bbd3-708a99190991"
   },
   "outputs": [
    {
     "name": "stdout",
     "output_type": "stream",
     "text": [
      "4.23.1\n"
     ]
    }
   ],
   "source": [
    "import transformers\n",
    "print(transformers.__version__)"
   ]
  },
  {
   "cell_type": "markdown",
   "metadata": {
    "id": "re9jXnVgiw2w"
   },
   "source": [
    "# 02 Data Acquisition\n",
    "Penjelasan Sentiment \n",
    "* 0: Negative\n",
    "* 1: Positive \n"
   ]
  },
  {
   "cell_type": "code",
   "execution_count": null,
   "metadata": {
    "colab": {
     "base_uri": "https://localhost:8080/"
    },
    "id": "5DxwkbYBVvss",
    "outputId": "578ae2ad-cd18-4508-aaa5-1ed5d1a5ef20"
   },
   "outputs": [],
   "source": [
    "!wget https://raw.githubusercontent.com/rizalespe/Dataset-Sentimen-Analisis-Bahasa-Indonesia/master/dataset_tweet_sentimen_tayangan_tv.csv"
   ]
  },
  {
   "cell_type": "code",
   "execution_count": null,
   "metadata": {
    "colab": {
     "base_uri": "https://localhost:8080/",
     "height": 206
    },
    "id": "5s4eoZaoW_EB",
    "outputId": "f0711af0-2816-42e9-a065-05b8f245d0ea"
   },
   "outputs": [],
   "source": [
    "data = pd.read_csv('/content/dataset_tweet_sentimen_tayangan_tv.csv')\n",
    "data.head()"
   ]
  },
  {
   "cell_type": "code",
   "execution_count": null,
   "metadata": {
    "colab": {
     "base_uri": "https://localhost:8080/"
    },
    "id": "uObHA7J0UgbD",
    "outputId": "8ff8ecef-98e3-4e61-896b-0e37b3c60d02"
   },
   "outputs": [],
   "source": [
    "#Mengetahui nilai sentimen\n",
    "col = data.iloc[:,[1]]\n",
    "col\n",
    "for i in col:\n",
    "  print(data[i].unique())"
   ]
  },
  {
   "cell_type": "code",
   "execution_count": null,
   "metadata": {
    "colab": {
     "base_uri": "https://localhost:8080/"
    },
    "id": "VMZrwzPPUhjb",
    "outputId": "7df18dbd-1a69-45cd-e363-57327ffef488"
   },
   "outputs": [],
   "source": [
    "#Mengetahui frekuensi tiap kategori dari variabel dataset\n",
    "for i in col:\n",
    "  print(data[i].value_counts())"
   ]
  },
  {
   "cell_type": "code",
   "execution_count": null,
   "metadata": {
    "colab": {
     "base_uri": "https://localhost:8080/"
    },
    "id": "tmslLKvXUhnB",
    "outputId": "0a7b427d-4b0a-448b-b750-389a2905ce20"
   },
   "outputs": [],
   "source": [
    "#Mengetahui nilai sentimen\n",
    "col_1 = data.iloc[:,[2]]\n",
    "col_1\n",
    "for i in col_1:\n",
    "  print(data[i].unique())"
   ]
  },
  {
   "cell_type": "code",
   "execution_count": null,
   "metadata": {
    "colab": {
     "base_uri": "https://localhost:8080/"
    },
    "id": "11voxSTqUhqU",
    "outputId": "fa8242de-447f-40b0-8d16-2f04b3b21872"
   },
   "outputs": [],
   "source": [
    "#Mengetahui frekuensi tiap kategori dari variabel dataset\n",
    "for i in col_1:\n",
    "  print(data[i].value_counts())"
   ]
  },
  {
   "cell_type": "code",
   "execution_count": null,
   "metadata": {
    "id": "6IKgFVauUht8"
   },
   "outputs": [],
   "source": [
    "#Label encoding mengubah setiap nilai dalam kolom menjadi angka yang berurutan\n",
    "from sklearn.preprocessing import LabelEncoder\n",
    "\n",
    "labelencoder = LabelEncoder()\n",
    "data['Sentiment'] = labelencoder.fit_transform(data['Sentiment'])\n",
    "data['Acara TV'] = labelencoder.fit_transform(data['Acara TV'])"
   ]
  },
  {
   "cell_type": "code",
   "execution_count": null,
   "metadata": {
    "id": "taVyhi-EhImX"
   },
   "outputs": [],
   "source": [
    "# Copy data\n",
    "raw_data = data.copy()"
   ]
  },
  {
   "cell_type": "markdown",
   "metadata": {
    "id": "2aJj8Y0di5ai"
   },
   "source": [
    "# 03 Text Preprocessing"
   ]
  },
  {
   "cell_type": "code",
   "execution_count": null,
   "metadata": {
    "id": "H1igQFEVi7vt"
   },
   "outputs": [],
   "source": [
    "import re\n",
    "\n",
    "def text_preprocessing(text):\n",
    "  text = text.lower()                               # Mengubah teks menjadi lower case\n",
    "  text = re.sub(r'https?://\\S+|www\\.\\S+', '', text) # Menghapus URL\n",
    "  text = re.sub(r'[-+]?[0-9]+', '', text)           # Menghapus angka\n",
    "  text = re.sub(r'[^\\w\\s]','', text)                # Menghapus karakter tanda baca\n",
    "  text = text.strip()                               # Menghapus whitespaces\n",
    "  return text"
   ]
  },
  {
   "cell_type": "code",
   "execution_count": null,
   "metadata": {
    "colab": {
     "base_uri": "https://localhost:8080/"
    },
    "id": "5IqNzZk1i9ss",
    "outputId": "a2334130-3266-4130-df1b-91775eb96a89"
   },
   "outputs": [],
   "source": [
    "%time data['Text Tweet'] = data['Text Tweet'].apply(text_preprocessing)"
   ]
  },
  {
   "cell_type": "code",
   "execution_count": null,
   "metadata": {
    "colab": {
     "base_uri": "https://localhost:8080/",
     "height": 206
    },
    "id": "V2gs_W5VjPT8",
    "outputId": "07d881b5-49b3-4625-8889-d4cbc80b1203"
   },
   "outputs": [],
   "source": [
    "data.head()"
   ]
  },
  {
   "cell_type": "code",
   "execution_count": null,
   "metadata": {
    "id": "AC3dCZMCapg8"
   },
   "outputs": [],
   "source": [
    "# Menghapus kolom yang tidak diperlukan pada datasets\n",
    "del data['Id']\n",
    "del data['Acara TV']\n",
    "del data['Jumlah Retweet']"
   ]
  },
  {
   "cell_type": "code",
   "execution_count": null,
   "metadata": {
    "colab": {
     "base_uri": "https://localhost:8080/",
     "height": 424
    },
    "id": "FhtxR3iGc5-3",
    "outputId": "c825207d-bcc3-4a3d-c43a-cd5559a6e78a"
   },
   "outputs": [],
   "source": [
    "data"
   ]
  },
  {
   "cell_type": "code",
   "execution_count": null,
   "metadata": {
    "id": "vvpHnzKkgZDW"
   },
   "outputs": [],
   "source": [
    "# Mengubah letak kolom text tweet sebelah kiri / disesuaikan pada code program\n",
    "data = data[['Text Tweet', 'Sentiment']]"
   ]
  },
  {
   "cell_type": "code",
   "execution_count": null,
   "metadata": {
    "colab": {
     "base_uri": "https://localhost:8080/",
     "height": 424
    },
    "id": "zSMt_eDReWvp",
    "outputId": "6ec6f8e1-aaa3-448b-feac-b76d04285b1c"
   },
   "outputs": [],
   "source": [
    "data"
   ]
  },
  {
   "cell_type": "code",
   "execution_count": null,
   "metadata": {
    "id": "VcfhRGQAfigv"
   },
   "outputs": [],
   "source": [
    "# from google.colab import drive\n",
    "# drive.mount('/content/drive')"
   ]
  },
  {
   "cell_type": "code",
   "execution_count": null,
   "metadata": {
    "id": "86rckXAffKRG"
   },
   "outputs": [],
   "source": [
    "# data.to_csv('/content/drive/MyDrive/KULIAH DESTY/SMT 5/clean_data.csv')"
   ]
  },
  {
   "cell_type": "markdown",
   "metadata": {
    "id": "psF33fcAmnsc"
   },
   "source": [
    "# 04 Train & Test Data Splitting"
   ]
  },
  {
   "cell_type": "code",
   "execution_count": null,
   "metadata": {
    "colab": {
     "base_uri": "https://localhost:8080/"
    },
    "id": "JfQEkcUeZA8h",
    "outputId": "e72e0e5f-4a34-495e-9f7d-a0ae8bc32058"
   },
   "outputs": [],
   "source": [
    "from sklearn.model_selection import train_test_split\n",
    "\n",
    "df_train, df_test = train_test_split(data, test_size=0.2)\n",
    "df_val, df_test = train_test_split(df_test, test_size=0.5)\n",
    "\n",
    "df_train.shape, df_test.shape, df_val.shape"
   ]
  },
  {
   "cell_type": "markdown",
   "metadata": {
    "id": "ZOj1hd0jjT1k"
   },
   "source": [
    "# 05 Load Tokenizer"
   ]
  },
  {
   "cell_type": "code",
   "execution_count": null,
   "metadata": {
    "id": "rBTq-bQZiuUt"
   },
   "outputs": [],
   "source": [
    "# Tentukan pre-trained model yang akan digunakan untuk fine-tuning\n",
    "# Daftar model dapat ditemukan pada https://huggingface.co\n",
    "\n",
    "PRE_TRAINED_MODEL = 'indobenchmark/indobert-base-p2'  # https://huggingface.co/indobenchmark/indobert-base-p2"
   ]
  },
  {
   "cell_type": "code",
   "execution_count": null,
   "metadata": {
    "colab": {
     "base_uri": "https://localhost:8080/",
     "referenced_widgets": [
      "9d5aeaba30cc4c098c72c7331341056e",
      "a27bead743d44dad96d9ac417249e1a3",
      "a1a9b4ccaa75469eb3c2f24e66bc2f12",
      "84ab5e9c0bdc44bcae041cb4e11d0bf0",
      "df643f0f204743bc86cc8422c70a5e28",
      "d787f9320ea2411f8a1700a7b9594280",
      "5794f6cfd5d6465f8d2e3874ae36222d",
      "b4c5be44cc5945b7af03f656ee718771",
      "c438e0971b4545998563c251070de27b",
      "b306acb47c414bb68182c616d8de34c5",
      "1842f583787c487983ca3bc8ca77e8f8",
      "033d9ef9b7ee4c81a952af7bba75ee9a",
      "24585c5fbbf3493ba9d18ecd4e7ff7db",
      "fa4230ece982473db082945bb2261e53",
      "500379b1a4fc47d29dee3fbf62520a25",
      "a0d10f9a9ff540a98dc745e846999230",
      "badf17cf697242d3b97ba121e08307c5",
      "97f59515f4094444b75febb167588435",
      "4619e77327fe42b3bb0f03649e0aab10",
      "bbb172c08a0f4816a03f2f3c63fc8bef",
      "038b72e728034badb2b063a00e7d756c",
      "73933626d7234562ae06b9274134d4ee",
      "96da93d5de0e4d61951d1bb79b8d9cb3",
      "19361d03648c49d88229d98aa63e59b9",
      "be48d288444d4a949a47ab2acd88f60d",
      "6521018b392e488f9168395b4163888e",
      "8a4941bfb0b84e82bc226ad193ec3e7f",
      "2766363c850340d383599acc899ce695",
      "3791085bc0954b59ba595fa1dfa3f1a3",
      "af315b559cdb4a409f67bdc96c228f6c",
      "78d288b773af4e93a602a38ca4019eba",
      "d937f3ea29ef4604b4f3f8db8c81c5bb",
      "fade7edf49c34c99806811294b7a1338",
      "6e08d18801bc4d1592642cdd22ccb1e5",
      "bf006d33a5504729aa6ad3d0d4b6ba6c",
      "22a3b2e32f614464a1861fd79bbf05c1",
      "026c76c8620e4adc936f216e01a67b06",
      "9acbd6e1136e430ca88ab0694ca314c7",
      "fc1dc02e83864aa4a42e218e459a721a",
      "0d23762b7fb448c7bfef157d6777c406",
      "a6d993fc6bf742e5ad14d29dfdeb35d2",
      "4f178dffe1244708b23accede4127434",
      "21ec06f1370f43cdbf1776126929e3dc",
      "bb04343c6e744953828f91f18f504009"
     ]
    },
    "id": "2uoAJxLBUknb",
    "outputId": "00b0d4bd-e880-4d46-e1b1-3e3f9c5266d8"
   },
   "outputs": [],
   "source": [
    "from transformers import BertTokenizer\n",
    "\n",
    "bert_tokenizer = BertTokenizer.from_pretrained(PRE_TRAINED_MODEL)  # Load tokenizer dari pre-trained model"
   ]
  },
  {
   "cell_type": "code",
   "execution_count": null,
   "metadata": {
    "colab": {
     "base_uri": "https://localhost:8080/"
    },
    "id": "EZ3C3RnJdZ1O",
    "outputId": "5236a04a-9329-4ffa-8a21-4a9d8e720388"
   },
   "outputs": [],
   "source": [
    "# Lihat vocabulary dari pre-trained model yang telah di load sebelumnya\n",
    "vocabulary = bert_tokenizer.get_vocab()\n",
    "\n",
    "print('Panjang vocabulary:', len(vocabulary))\n",
    "print(vocabulary)"
   ]
  },
  {
   "cell_type": "code",
   "execution_count": null,
   "metadata": {
    "colab": {
     "base_uri": "https://localhost:8080/"
    },
    "id": "ZCoyyqiIj3NK",
    "outputId": "e0b4960d-19d6-44db-8e38-de2665434be6"
   },
   "outputs": [],
   "source": [
    "# Contoh Tokenisasi\n",
    "\n",
    "id_data = 4 # Mengambil data indeks ke-5 pada dataframe\n",
    "\n",
    "print('Kalimat:', raw_data['Text Tweet'][id_data])\n",
    "print('BERT Tokenizer:', bert_tokenizer.tokenize(data['Text Tweet'][id_data]))"
   ]
  },
  {
   "cell_type": "markdown",
   "metadata": {
    "id": "aseQxCscj0_O"
   },
   "source": [
    "# 06 Input Formating\n",
    "Teks harus dipecah menjadi token sebelum dimasukkan ke BERT, kemudian token tersebut harus dipetakan ke indeks pada kosakata tokenizer yang telah di load sebelumnya. Tokenisasi harus dilakukan oleh tokenizer yang disertakan dengan BERT."
   ]
  },
  {
   "cell_type": "markdown",
   "metadata": {
    "id": "3ZclpwEkpVlA"
   },
   "source": [
    "## Contoh Input Formatting"
   ]
  },
  {
   "cell_type": "code",
   "execution_count": null,
   "metadata": {
    "colab": {
     "base_uri": "https://localhost:8080/"
    },
    "id": "THVf5H3jXGrK",
    "outputId": "9a2c6c80-f93d-4666-9416-b7203565d14b"
   },
   "outputs": [],
   "source": [
    "# Contoh input formatting untuk BERT. Input formating dapat menggunakan fungsi `encode_plus`\n",
    "\n",
    "bert_input = bert_tokenizer.encode_plus(\n",
    "    data['Text Tweet'][id_data],             # Sample kalimat                \n",
    "    add_special_tokens = True,      # Tambahkan token [CLS] pada awal kalimat dan token [SEP] pada akhir kalimat\n",
    "    padding = 'max_length',         # Tambahkan padding ke max_length menggunakan token [PAD] jika kalimat kurang dari max_length\n",
    "    truncation = 'longest_first',   # Truncate jika kalimat lebih dari max_length\n",
    "    max_length = 20,                # Tentukan max_length dari seluruh kalimat\n",
    "    return_attention_mask = True,   # Mengembalikan nilai attention mask\n",
    "    return_token_type_ids =True     # Mengembalikan nilai token type id (segment embedding)\n",
    "    )\n",
    "\n",
    "# Fungsi `encode_plus` mengembalikan 3 nilai: input_ids, token_type_ids, attention_mask\n",
    "bert_input.keys()"
   ]
  },
  {
   "cell_type": "code",
   "execution_count": null,
   "metadata": {
    "colab": {
     "base_uri": "https://localhost:8080/"
    },
    "id": "6FBcCbf4bWfZ",
    "outputId": "4a84edf3-ed32-4602-b030-8297b3999a6b"
   },
   "outputs": [],
   "source": [
    "print('Kalimat\\t\\t:', raw_data['Text Tweet'][id_data])                                           # Data asli\n",
    "print('Tokenizer\\t:', bert_tokenizer.convert_ids_to_tokens(bert_input['input_ids']))    # Hasil input formatting + tokenizer\n",
    "print('Input IDs\\t:', bert_input['input_ids'])                                          # Input IDs : indeks token pada vocabulary tokenizer\n",
    "print('Token Type IDs\\t:', bert_input['token_type_ids'])                                # Token type IDs : menunjukkan urutan kalimat pada sequence (segment embedding)\n",
    "print('Attention Mask\\t:', bert_input['attention_mask'])                                # Attention mask : mengembalikan nilai [0,1]. 1 artinya token yang di masking, 0 token yang tidak di masking (diabaikan)"
   ]
  },
  {
   "cell_type": "markdown",
   "metadata": {
    "id": "J8pkHvEnqGDf"
   },
   "source": [
    "## Memilih Panjang Sequence (max_length)"
   ]
  },
  {
   "cell_type": "code",
   "execution_count": null,
   "metadata": {
    "colab": {
     "base_uri": "https://localhost:8080/",
     "height": 279
    },
    "id": "KaIcA7iXqNQb",
    "outputId": "225002cb-d9ac-45d0-ee2a-c2278511f5ce"
   },
   "outputs": [],
   "source": [
    "'''\n",
    "Ada banyak cara untuk menentukan max_length\n",
    "Intuisinya adalah kita tidak ingin memotong kalimat, atau terlalu banyak menambahkan padding (komputasi lebih lama)\n",
    "Contoh ini, max_lenght ditentukan dari distribusi token pada dataset \n",
    "'''\n",
    "token_lens = []\n",
    "\n",
    "for txt in data['Text Tweet']:\n",
    "  tokens = bert_tokenizer.encode(txt)\n",
    "  token_lens.append(len(tokens))\n",
    "\n",
    "sns.histplot(token_lens, kde=True, stat='density', linewidth=0)\n",
    "plt.xlim([0, 35]);\n",
    "plt.xlabel('Token count');"
   ]
  },
  {
   "cell_type": "code",
   "execution_count": null,
   "metadata": {
    "id": "qk5UsSsarSEX"
   },
   "outputs": [],
   "source": [
    "# Dapat dilihat dari grafik diatas, sebagian besar kalimat \n",
    "# tampaknya berisi kurang dari 30 token\n",
    "# Maka, tentukan max_length nilai tengahnya 20\n",
    "\n",
    "MAX_LEN = 20"
   ]
  },
  {
   "cell_type": "markdown",
   "metadata": {
    "id": "CfBKOvhvr4BZ"
   },
   "source": [
    "## Input Formatting pada Data Latih & Uji"
   ]
  },
  {
   "cell_type": "code",
   "execution_count": null,
   "metadata": {
    "id": "wJvDfTZTeGMt"
   },
   "outputs": [],
   "source": [
    "# Buat fungsi untuk menggabungkan langkah tokenisasi, \n",
    "#menambahkan special tokens untuk keseluruhan data \n",
    "#sebagai input formatting ke model BERT\n",
    "def convert_example_to_feature(sentence):  \n",
    "  return bert_tokenizer.encode_plus(\n",
    "      sentence, \n",
    "      add_special_tokens = True, \n",
    "      padding = 'max_length',\n",
    "      truncation = 'longest_first',\n",
    "      max_length = MAX_LEN, \n",
    "      return_attention_mask = True, \n",
    "      return_token_type_ids=True\n",
    "    )"
   ]
  },
  {
   "cell_type": "code",
   "execution_count": null,
   "metadata": {
    "id": "joVYcmvja8oY"
   },
   "outputs": [],
   "source": [
    "# Buat fungsi untuk memetakan input hasil input formatting agar sesuai dengan model BERT\n",
    "def map_example_to_dict(input_ids, attention_masks, token_type_ids, label):\n",
    "  return {\n",
    "      \"input_ids\": input_ids,               # Sebagai token embedding\n",
    "      \"token_type_ids\": token_type_ids,     # Sebagai segment embedding\n",
    "      \"attention_mask\": attention_masks,    # Sebagai filter informasi mana yang kalkulasi oleh model\n",
    "  }, label"
   ]
  },
  {
   "cell_type": "code",
   "execution_count": null,
   "metadata": {
    "id": "QdbE4aFDcn0Q"
   },
   "outputs": [],
   "source": [
    "# Buat fungsi untuk iterasi pada setiap kalimat pada keseluruhan data\n",
    "def encode(data):\n",
    "  input_ids_list = []\n",
    "  token_type_ids_list = []\n",
    "  attention_mask_list = []\n",
    "  label_list = []\n",
    "    \n",
    "  for sentence, label in data.to_numpy():\n",
    "\n",
    "    bert_input = convert_example_to_feature(sentence)\n",
    "  \n",
    "    input_ids_list.append(bert_input['input_ids'])\n",
    "    token_type_ids_list.append(bert_input['token_type_ids'])\n",
    "    attention_mask_list.append(bert_input['attention_mask'])\n",
    "    label_list.append([label])\n",
    "\n",
    "  return tf.data.Dataset.from_tensor_slices(\n",
    "      (input_ids_list, attention_mask_list, \n",
    "       token_type_ids_list, label_list)).map(map_example_to_dict)"
   ]
  },
  {
   "cell_type": "code",
   "execution_count": null,
   "metadata": {
    "colab": {
     "base_uri": "https://localhost:8080/"
    },
    "id": "JQa2c2T5qc7n",
    "outputId": "654fa476-a14c-499e-a081-8b0881dfeebc"
   },
   "outputs": [],
   "source": [
    "print(bert_input)"
   ]
  },
  {
   "cell_type": "code",
   "execution_count": null,
   "metadata": {
    "id": "_ryrryxvemBm"
   },
   "outputs": [],
   "source": [
    "# Tentukan nilai hyperparamter untuk fine-tuning\n",
    "EPOCHS = 5\n",
    "BATCH_SIZE = 32\n",
    "LEARNING_RATE = 5e-5"
   ]
  },
  {
   "cell_type": "code",
   "execution_count": null,
   "metadata": {
    "id": "01vn7gWWWjss"
   },
   "outputs": [],
   "source": [
    "# Pisahkan kolom fitur dan target\n",
    "X = data['Text Tweet']\n",
    "\n",
    "from tensorflow.keras.utils import to_categorical\n",
    "\n",
    "Y = to_categorical(data['Sentiment'], num_classes=len(data['Sentiment'].unique()))  # Lakukan one-hot encoding pada label (y)"
   ]
  },
  {
   "cell_type": "code",
   "execution_count": null,
   "metadata": {
    "colab": {
     "base_uri": "https://localhost:8080/",
     "height": 424
    },
    "id": "JQmrTzXdX4fB",
    "outputId": "6c37a5ae-f977-4311-b1c2-9839afe4c082"
   },
   "outputs": [],
   "source": [
    "df_train"
   ]
  },
  {
   "cell_type": "code",
   "execution_count": null,
   "metadata": {
    "id": "0nEGYlCifQ3v"
   },
   "outputs": [],
   "source": [
    "# Lakukan input formatting menggunakan fungsi sebelumnya pada data keseluruhan data\n",
    "train_encoded = encode(df_train).batch(BATCH_SIZE) #mengubah data ke format bert\n",
    "test_encoded = encode(df_test).batch(BATCH_SIZE)\n",
    "val_encoded = encode(df_val).batch(BATCH_SIZE)"
   ]
  },
  {
   "cell_type": "markdown",
   "metadata": {
    "id": "J_5MiKOnrmC8"
   },
   "source": [
    "# 07 Load Pre-Trained Model"
   ]
  },
  {
   "cell_type": "code",
   "execution_count": null,
   "metadata": {
    "colab": {
     "base_uri": "https://localhost:8080/",
     "height": 138,
     "referenced_widgets": [
      "24b21f6e9a81405984ac87809f4681fa",
      "41b8da626840484c9e5b5382a584d580",
      "fe7d06a47448400bb6b134e2c4432eee",
      "93d563131f934368aef6186ddb4b55a0",
      "32a80a12920540bd9e83942d79c8ef22",
      "893ec7c8933f4ce3935bb5f2e51b5cca",
      "5c6998330a2b457b80f066598a80e2a3",
      "196a4532c0af4119af6c4cca39920260",
      "7d6b81b60a0341a2b7eac62b59e56548",
      "a1eb025fb5624a41b42410d62f199007",
      "07d95d6832c04995a503780f99f9003a"
     ]
    },
    "id": "-oArWcBcgiUb",
    "outputId": "96b88309-209d-4eec-e3d8-0a31d114c8a5"
   },
   "outputs": [],
   "source": [
    "'''\n",
    "BERT untuk tugas klasifikasi sequence (teks) dengan menambahkan linear layer di atas pooled output untuk pengklasifikasi\n",
    "https://huggingface.co/docs/transformers/model_doc/bert#transformers.TFBertForSequenceClassification\n",
    "'''\n",
    "\n",
    "from transformers import TFBertForSequenceClassification\n",
    "\n",
    "# Load model\n",
    "bert_model = TFBertForSequenceClassification.from_pretrained(PRE_TRAINED_MODEL, num_labels=2)"
   ]
  },
  {
   "cell_type": "code",
   "execution_count": null,
   "metadata": {
    "id": "fDP4CN0igl1w"
   },
   "outputs": [],
   "source": [
    "# Tentukan optimizer dengan learning rate tertentu\n",
    "# Paper aslinya menggunakan Adam Optimizer\n",
    "optimizer = tf.keras.optimizers.Adam(learning_rate=LEARNING_RATE)\n",
    "\n",
    "# Karena tidak menggunakan one-hot vectors, sehingga loss function \n",
    "# dapat menggunakan sparse categorical cross entropy\n",
    "loss = tf.keras.losses.SparseCategoricalCrossentropy(from_logits=True)\n",
    "metric = tf.keras.metrics.SparseCategoricalAccuracy('accuracy')\n",
    "\n",
    "# Compile model\n",
    "bert_model.compile(optimizer=optimizer, loss=loss, metrics=[metric])"
   ]
  },
  {
   "cell_type": "markdown",
   "metadata": {
    "id": "nulPG41Ut5_f"
   },
   "source": [
    "# 08 Fine Tuning"
   ]
  },
  {
   "cell_type": "code",
   "execution_count": null,
   "metadata": {
    "colab": {
     "base_uri": "https://localhost:8080/"
    },
    "id": "ODoeV5_qg_Do",
    "outputId": "d329c0b4-0dd5-4ef5-f705-31865b19467b"
   },
   "outputs": [],
   "source": [
    "%%time\n",
    "bert_history = bert_model.fit(train_encoded, epochs=EPOCHS, batch_size=BATCH_SIZE, validation_data=val_encoded)"
   ]
  },
  {
   "cell_type": "code",
   "execution_count": null,
   "metadata": {
    "id": "X-pYcS72u1YC"
   },
   "outputs": [],
   "source": [
    "# Buat fungsi untuk plotting hasil training\n",
    "def plot_graphs(history, string):\n",
    "  plt.plot(history.history[string])\n",
    "  plt.plot(history.history['val_'+string])\n",
    "  plt.xlabel('Epochs')\n",
    "  plt.ylabel(string)\n",
    "  plt.legend([string, 'val_'+string])\n",
    "  plt.show()"
   ]
  },
  {
   "cell_type": "code",
   "execution_count": null,
   "metadata": {
    "colab": {
     "base_uri": "https://localhost:8080/",
     "height": 541
    },
    "id": "xc2F26x6vdV5",
    "outputId": "fbd800b3-7251-46fb-8fb2-e570bb721cd5"
   },
   "outputs": [],
   "source": [
    "plot_graphs(bert_history, 'accuracy')\n",
    "plot_graphs(bert_history, 'loss')"
   ]
  },
  {
   "cell_type": "code",
   "execution_count": null,
   "metadata": {
    "colab": {
     "base_uri": "https://localhost:8080/"
    },
    "id": "k6iVkDDBwQBA",
    "outputId": "4a9ada4e-3aa8-4a85-faf6-cb883d1184f4"
   },
   "outputs": [],
   "source": [
    "print('\\nEpoch No.  Train Accuracy  Train Loss      Val Accuracy    Val Loss')\n",
    "for i in range(EPOCHS):\n",
    "  print('{:8d} {:10f} \\t {:10f} \\t {:10f} \\t {:10f}'.format(i + 1, bert_history.history['accuracy'][i], bert_history.history['loss'][i], bert_history.history['val_accuracy'][i], bert_history.history['val_loss'][i]))"
   ]
  },
  {
   "cell_type": "code",
   "execution_count": null,
   "metadata": {
    "id": "I8i4VohR0HdZ"
   },
   "outputs": [],
   "source": [
    "#Simpan model yang sudah ditrain\n",
    "bert_model.save_weights('bert-model.h5')"
   ]
  },
  {
   "cell_type": "markdown",
   "metadata": {
    "id": "WnI-ECZzvmtS"
   },
   "source": [
    "# 09 Evaluate"
   ]
  },
  {
   "cell_type": "code",
   "execution_count": null,
   "metadata": {
    "colab": {
     "base_uri": "https://localhost:8080/"
    },
    "id": "uRSNaFcMxRhP",
    "outputId": "919d53bc-4953-4a26-d305-271576a4a965"
   },
   "outputs": [],
   "source": [
    "score = bert_model.evaluate(test_encoded)\n",
    "\n",
    "print(\"Test Accuracy:\", score[1])"
   ]
  },
  {
   "cell_type": "code",
   "execution_count": null,
   "metadata": {
    "id": "B_yxiCZpV_Ix"
   },
   "outputs": [],
   "source": [
    "predicted_raw = bert_model.predict(test_encoded)"
   ]
  },
  {
   "cell_type": "code",
   "execution_count": null,
   "metadata": {
    "id": "Ktn2Ft1aVx58"
   },
   "outputs": [],
   "source": [
    "y_pred = np.argmax(predicted_raw['logits'], axis=1)\n",
    "y_true = np.array(df_test['Sentiment'])"
   ]
  },
  {
   "cell_type": "code",
   "execution_count": null,
   "metadata": {
    "colab": {
     "base_uri": "https://localhost:8080/"
    },
    "id": "Vw46aI5YWUQD",
    "outputId": "cce62e7a-eee9-4032-d90f-fba8e736f41f"
   },
   "outputs": [],
   "source": [
    "from sklearn.metrics import accuracy_score\n",
    "from sklearn.metrics import confusion_matrix\n",
    "from sklearn.metrics import classification_report\n",
    "\n",
    "accuracy_score(y_true, y_pred)"
   ]
  },
  {
   "cell_type": "code",
   "execution_count": null,
   "metadata": {
    "colab": {
     "base_uri": "https://localhost:8080/"
    },
    "id": "bPa9VButWjlX",
    "outputId": "2ab84c3f-419d-48cd-b076-8720fd09b243"
   },
   "outputs": [],
   "source": [
    "confusion_matrix(y_true, y_pred)"
   ]
  },
  {
   "cell_type": "code",
   "execution_count": null,
   "metadata": {
    "colab": {
     "base_uri": "https://localhost:8080/"
    },
    "id": "a8JFbk_9WvuP",
    "outputId": "b5223dfb-adb9-4fc1-adbc-4562b4c012ad"
   },
   "outputs": [],
   "source": [
    "print(classification_report(y_true, y_pred))"
   ]
  },
  {
   "cell_type": "markdown",
   "metadata": {
    "id": "pqeKHfsC2S-R"
   },
   "source": [
    "# 10 Predict"
   ]
  },
  {
   "cell_type": "code",
   "execution_count": null,
   "metadata": {
    "colab": {
     "base_uri": "https://localhost:8080/"
    },
    "id": "rReD4Tgaz5PD",
    "outputId": "c7d9cb70-0281-4a64-84ad-678d8608f53b"
   },
   "outputs": [],
   "source": [
    "# Load hasil fine-tuning\n",
    "bert_load_model = TFBertForSequenceClassification.from_pretrained(PRE_TRAINED_MODEL, num_labels=2)\n",
    "bert_load_model.load_weights('bert-model.h5')"
   ]
  },
  {
   "cell_type": "code",
   "execution_count": null,
   "metadata": {
    "colab": {
     "base_uri": "https://localhost:8080/"
    },
    "id": "CqfgiXK0lqzM",
    "outputId": "7cacbc08-4411-414d-d4b8-e162b28d0414"
   },
   "outputs": [],
   "source": [
    "# Sample text\n",
    "input_text = input (\"Tweet: \")\n",
    "\n",
    "# Encode input text\n",
    "input_text_tokenized = bert_tokenizer.encode(input_text,\n",
    "                                             truncation=True,\n",
    "                                             padding='max_length',\n",
    "                                             return_tensors='tf')\n",
    "\n",
    "\n",
    "bert_predict = bert_load_model(input_text_tokenized)          # Lakukan prediksi\n",
    "bert_output = tf.nn.softmax(bert_predict[0], axis=-1)         # Softmax function untuk mendapatkan hasil klasifikasi\n",
    "\n",
    "label = tf.argmax(bert_output, axis=1)\n",
    "label = label.numpy()\n",
    "\n",
    "sentiment = ['Negative', 'Positive']\n",
    "print(input_text, ':', sentiment[label[0]])"
   ]
  },
  {
   "cell_type": "markdown",
   "metadata": {
    "id": "0bhrd_Dq27U7"
   },
   "source": [
    "# 11 Simple Deployment Using Gradio"
   ]
  },
  {
   "cell_type": "code",
   "execution_count": null,
   "metadata": {
    "colab": {
     "base_uri": "https://localhost:8080/"
    },
    "id": "9Fmbdb_p2-E3",
    "outputId": "c35638cb-a0e4-4487-81c4-d1b7fe636184"
   },
   "outputs": [],
   "source": [
    "'''\n",
    "Gradio is the fastest way to demo your machine learning model with a friendly web interface so that anyone can use it, anywhere!\n",
    "https://gradio.app/\n",
    "'''\n",
    "\n",
    "!pip -q install gradio"
   ]
  },
  {
   "cell_type": "code",
   "execution_count": null,
   "metadata": {
    "colab": {
     "base_uri": "https://localhost:8080/",
     "height": 643
    },
    "id": "eTb4M-GA3enL",
    "outputId": "e993eedf-5c98-438e-a02d-3c33b422de5d"
   },
   "outputs": [],
   "source": [
    "import gradio as gr\n",
    "\n",
    "def spam_prediction(sms):\n",
    "  input_text_tokenized = bert_tokenizer.encode(sms,\n",
    "                                             truncation=True,\n",
    "                                             padding='max_length',\n",
    "                                             return_tensors='tf')\n",
    "  \n",
    "  bert_predict = bert_load_model(input_text_tokenized)\n",
    "  bert_output = tf.nn.softmax(bert_predict[0], axis=-1)\n",
    "\n",
    "  sms_labels = ['Normal','Fraud','Promo']\n",
    "  \n",
    "  label = tf.argmax(bert_output, axis=1)\n",
    "  label = label.numpy()\n",
    "\n",
    "  return sms_labels[label[0]]\n",
    "\n",
    "iface = gr.Interface(fn=spam_prediction, inputs=\"text\", outputs=\"text\")\n",
    "\n",
    "iface.launch()"
   ]
  },
  {
   "cell_type": "markdown",
   "metadata": {
    "id": "vbV_B2OJyKWl"
   },
   "source": [
    "# 12 Student Activity\n",
    "\n",
    "1. Apa yang dapat Anda simpulkan setelah melakukan klasifikasi spam SMS dengan berbagai pendekatan yang berbeda menggunakan machine learning tradisional, LSTM, LSTM + Word Embedding dan BERT fine-tuning?\n",
    "2. Anda dapat mengamati akurasi yang dihasilkan setiap pendeketan untuk melihat performanya.\n",
    "3. Menurut Anda, pendeketan mana yang lebih baik, dari segi komputasi dan performa? Jelaskan mengapa?"
   ]
  },
  {
   "cell_type": "code",
   "execution_count": null,
   "metadata": {
    "id": "QTvxBMari0BX"
   },
   "outputs": [],
   "source": []
  }
 ],
 "metadata": {
  "accelerator": "GPU",
  "colab": {
   "collapsed_sections": [
    "ZOj1hd0jjT1k"
   ],
   "provenance": []
  },
  "kernelspec": {
   "display_name": "Python 3",
   "language": "python",
   "name": "python3"
  },
  "language_info": {
   "codemirror_mode": {
    "name": "ipython",
    "version": 3
   },
   "file_extension": ".py",
   "mimetype": "text/x-python",
   "name": "python",
   "nbconvert_exporter": "python",
   "pygments_lexer": "ipython3",
   "version": "3.8.3"
  },
  "vscode": {
   "interpreter": {
    "hash": "ad2bdc8ecc057115af97d19610ffacc2b4e99fae6737bb82f5d7fb13d2f2c186"
   }
  },
  "widgets": {
   "application/vnd.jupyter.widget-state+json": {
    "026c76c8620e4adc936f216e01a67b06": {
     "model_module": "@jupyter-widgets/controls",
     "model_module_version": "1.5.0",
     "model_name": "HTMLModel",
     "state": {
      "_dom_classes": [],
      "_model_module": "@jupyter-widgets/controls",
      "_model_module_version": "1.5.0",
      "_model_name": "HTMLModel",
      "_view_count": null,
      "_view_module": "@jupyter-widgets/controls",
      "_view_module_version": "1.5.0",
      "_view_name": "HTMLView",
      "description": "",
      "description_tooltip": null,
      "layout": "IPY_MODEL_21ec06f1370f43cdbf1776126929e3dc",
      "placeholder": "​",
      "style": "IPY_MODEL_bb04343c6e744953828f91f18f504009",
      "value": " 1.53k/1.53k [00:00&lt;00:00, 8.29kB/s]"
     }
    },
    "033d9ef9b7ee4c81a952af7bba75ee9a": {
     "model_module": "@jupyter-widgets/controls",
     "model_module_version": "1.5.0",
     "model_name": "HBoxModel",
     "state": {
      "_dom_classes": [],
      "_model_module": "@jupyter-widgets/controls",
      "_model_module_version": "1.5.0",
      "_model_name": "HBoxModel",
      "_view_count": null,
      "_view_module": "@jupyter-widgets/controls",
      "_view_module_version": "1.5.0",
      "_view_name": "HBoxView",
      "box_style": "",
      "children": [
       "IPY_MODEL_24585c5fbbf3493ba9d18ecd4e7ff7db",
       "IPY_MODEL_fa4230ece982473db082945bb2261e53",
       "IPY_MODEL_500379b1a4fc47d29dee3fbf62520a25"
      ],
      "layout": "IPY_MODEL_a0d10f9a9ff540a98dc745e846999230"
     }
    },
    "038b72e728034badb2b063a00e7d756c": {
     "model_module": "@jupyter-widgets/base",
     "model_module_version": "1.2.0",
     "model_name": "LayoutModel",
     "state": {
      "_model_module": "@jupyter-widgets/base",
      "_model_module_version": "1.2.0",
      "_model_name": "LayoutModel",
      "_view_count": null,
      "_view_module": "@jupyter-widgets/base",
      "_view_module_version": "1.2.0",
      "_view_name": "LayoutView",
      "align_content": null,
      "align_items": null,
      "align_self": null,
      "border": null,
      "bottom": null,
      "display": null,
      "flex": null,
      "flex_flow": null,
      "grid_area": null,
      "grid_auto_columns": null,
      "grid_auto_flow": null,
      "grid_auto_rows": null,
      "grid_column": null,
      "grid_gap": null,
      "grid_row": null,
      "grid_template_areas": null,
      "grid_template_columns": null,
      "grid_template_rows": null,
      "height": null,
      "justify_content": null,
      "justify_items": null,
      "left": null,
      "margin": null,
      "max_height": null,
      "max_width": null,
      "min_height": null,
      "min_width": null,
      "object_fit": null,
      "object_position": null,
      "order": null,
      "overflow": null,
      "overflow_x": null,
      "overflow_y": null,
      "padding": null,
      "right": null,
      "top": null,
      "visibility": null,
      "width": null
     }
    },
    "07d95d6832c04995a503780f99f9003a": {
     "model_module": "@jupyter-widgets/controls",
     "model_module_version": "1.5.0",
     "model_name": "DescriptionStyleModel",
     "state": {
      "_model_module": "@jupyter-widgets/controls",
      "_model_module_version": "1.5.0",
      "_model_name": "DescriptionStyleModel",
      "_view_count": null,
      "_view_module": "@jupyter-widgets/base",
      "_view_module_version": "1.2.0",
      "_view_name": "StyleView",
      "description_width": ""
     }
    },
    "0d23762b7fb448c7bfef157d6777c406": {
     "model_module": "@jupyter-widgets/controls",
     "model_module_version": "1.5.0",
     "model_name": "DescriptionStyleModel",
     "state": {
      "_model_module": "@jupyter-widgets/controls",
      "_model_module_version": "1.5.0",
      "_model_name": "DescriptionStyleModel",
      "_view_count": null,
      "_view_module": "@jupyter-widgets/base",
      "_view_module_version": "1.2.0",
      "_view_name": "StyleView",
      "description_width": ""
     }
    },
    "1842f583787c487983ca3bc8ca77e8f8": {
     "model_module": "@jupyter-widgets/controls",
     "model_module_version": "1.5.0",
     "model_name": "DescriptionStyleModel",
     "state": {
      "_model_module": "@jupyter-widgets/controls",
      "_model_module_version": "1.5.0",
      "_model_name": "DescriptionStyleModel",
      "_view_count": null,
      "_view_module": "@jupyter-widgets/base",
      "_view_module_version": "1.2.0",
      "_view_name": "StyleView",
      "description_width": ""
     }
    },
    "19361d03648c49d88229d98aa63e59b9": {
     "model_module": "@jupyter-widgets/controls",
     "model_module_version": "1.5.0",
     "model_name": "HTMLModel",
     "state": {
      "_dom_classes": [],
      "_model_module": "@jupyter-widgets/controls",
      "_model_module_version": "1.5.0",
      "_model_name": "HTMLModel",
      "_view_count": null,
      "_view_module": "@jupyter-widgets/controls",
      "_view_module_version": "1.5.0",
      "_view_name": "HTMLView",
      "description": "",
      "description_tooltip": null,
      "layout": "IPY_MODEL_2766363c850340d383599acc899ce695",
      "placeholder": "​",
      "style": "IPY_MODEL_3791085bc0954b59ba595fa1dfa3f1a3",
      "value": "Downloading: 100%"
     }
    },
    "196a4532c0af4119af6c4cca39920260": {
     "model_module": "@jupyter-widgets/base",
     "model_module_version": "1.2.0",
     "model_name": "LayoutModel",
     "state": {
      "_model_module": "@jupyter-widgets/base",
      "_model_module_version": "1.2.0",
      "_model_name": "LayoutModel",
      "_view_count": null,
      "_view_module": "@jupyter-widgets/base",
      "_view_module_version": "1.2.0",
      "_view_name": "LayoutView",
      "align_content": null,
      "align_items": null,
      "align_self": null,
      "border": null,
      "bottom": null,
      "display": null,
      "flex": null,
      "flex_flow": null,
      "grid_area": null,
      "grid_auto_columns": null,
      "grid_auto_flow": null,
      "grid_auto_rows": null,
      "grid_column": null,
      "grid_gap": null,
      "grid_row": null,
      "grid_template_areas": null,
      "grid_template_columns": null,
      "grid_template_rows": null,
      "height": null,
      "justify_content": null,
      "justify_items": null,
      "left": null,
      "margin": null,
      "max_height": null,
      "max_width": null,
      "min_height": null,
      "min_width": null,
      "object_fit": null,
      "object_position": null,
      "order": null,
      "overflow": null,
      "overflow_x": null,
      "overflow_y": null,
      "padding": null,
      "right": null,
      "top": null,
      "visibility": null,
      "width": null
     }
    },
    "21ec06f1370f43cdbf1776126929e3dc": {
     "model_module": "@jupyter-widgets/base",
     "model_module_version": "1.2.0",
     "model_name": "LayoutModel",
     "state": {
      "_model_module": "@jupyter-widgets/base",
      "_model_module_version": "1.2.0",
      "_model_name": "LayoutModel",
      "_view_count": null,
      "_view_module": "@jupyter-widgets/base",
      "_view_module_version": "1.2.0",
      "_view_name": "LayoutView",
      "align_content": null,
      "align_items": null,
      "align_self": null,
      "border": null,
      "bottom": null,
      "display": null,
      "flex": null,
      "flex_flow": null,
      "grid_area": null,
      "grid_auto_columns": null,
      "grid_auto_flow": null,
      "grid_auto_rows": null,
      "grid_column": null,
      "grid_gap": null,
      "grid_row": null,
      "grid_template_areas": null,
      "grid_template_columns": null,
      "grid_template_rows": null,
      "height": null,
      "justify_content": null,
      "justify_items": null,
      "left": null,
      "margin": null,
      "max_height": null,
      "max_width": null,
      "min_height": null,
      "min_width": null,
      "object_fit": null,
      "object_position": null,
      "order": null,
      "overflow": null,
      "overflow_x": null,
      "overflow_y": null,
      "padding": null,
      "right": null,
      "top": null,
      "visibility": null,
      "width": null
     }
    },
    "22a3b2e32f614464a1861fd79bbf05c1": {
     "model_module": "@jupyter-widgets/controls",
     "model_module_version": "1.5.0",
     "model_name": "FloatProgressModel",
     "state": {
      "_dom_classes": [],
      "_model_module": "@jupyter-widgets/controls",
      "_model_module_version": "1.5.0",
      "_model_name": "FloatProgressModel",
      "_view_count": null,
      "_view_module": "@jupyter-widgets/controls",
      "_view_module_version": "1.5.0",
      "_view_name": "ProgressView",
      "bar_style": "success",
      "description": "",
      "description_tooltip": null,
      "layout": "IPY_MODEL_a6d993fc6bf742e5ad14d29dfdeb35d2",
      "max": 1534,
      "min": 0,
      "orientation": "horizontal",
      "style": "IPY_MODEL_4f178dffe1244708b23accede4127434",
      "value": 1534
     }
    },
    "24585c5fbbf3493ba9d18ecd4e7ff7db": {
     "model_module": "@jupyter-widgets/controls",
     "model_module_version": "1.5.0",
     "model_name": "HTMLModel",
     "state": {
      "_dom_classes": [],
      "_model_module": "@jupyter-widgets/controls",
      "_model_module_version": "1.5.0",
      "_model_name": "HTMLModel",
      "_view_count": null,
      "_view_module": "@jupyter-widgets/controls",
      "_view_module_version": "1.5.0",
      "_view_name": "HTMLView",
      "description": "",
      "description_tooltip": null,
      "layout": "IPY_MODEL_badf17cf697242d3b97ba121e08307c5",
      "placeholder": "​",
      "style": "IPY_MODEL_97f59515f4094444b75febb167588435",
      "value": "Downloading: 100%"
     }
    },
    "24b21f6e9a81405984ac87809f4681fa": {
     "model_module": "@jupyter-widgets/controls",
     "model_module_version": "1.5.0",
     "model_name": "HBoxModel",
     "state": {
      "_dom_classes": [],
      "_model_module": "@jupyter-widgets/controls",
      "_model_module_version": "1.5.0",
      "_model_name": "HBoxModel",
      "_view_count": null,
      "_view_module": "@jupyter-widgets/controls",
      "_view_module_version": "1.5.0",
      "_view_name": "HBoxView",
      "box_style": "",
      "children": [
       "IPY_MODEL_41b8da626840484c9e5b5382a584d580",
       "IPY_MODEL_fe7d06a47448400bb6b134e2c4432eee",
       "IPY_MODEL_93d563131f934368aef6186ddb4b55a0"
      ],
      "layout": "IPY_MODEL_32a80a12920540bd9e83942d79c8ef22"
     }
    },
    "2766363c850340d383599acc899ce695": {
     "model_module": "@jupyter-widgets/base",
     "model_module_version": "1.2.0",
     "model_name": "LayoutModel",
     "state": {
      "_model_module": "@jupyter-widgets/base",
      "_model_module_version": "1.2.0",
      "_model_name": "LayoutModel",
      "_view_count": null,
      "_view_module": "@jupyter-widgets/base",
      "_view_module_version": "1.2.0",
      "_view_name": "LayoutView",
      "align_content": null,
      "align_items": null,
      "align_self": null,
      "border": null,
      "bottom": null,
      "display": null,
      "flex": null,
      "flex_flow": null,
      "grid_area": null,
      "grid_auto_columns": null,
      "grid_auto_flow": null,
      "grid_auto_rows": null,
      "grid_column": null,
      "grid_gap": null,
      "grid_row": null,
      "grid_template_areas": null,
      "grid_template_columns": null,
      "grid_template_rows": null,
      "height": null,
      "justify_content": null,
      "justify_items": null,
      "left": null,
      "margin": null,
      "max_height": null,
      "max_width": null,
      "min_height": null,
      "min_width": null,
      "object_fit": null,
      "object_position": null,
      "order": null,
      "overflow": null,
      "overflow_x": null,
      "overflow_y": null,
      "padding": null,
      "right": null,
      "top": null,
      "visibility": null,
      "width": null
     }
    },
    "32a80a12920540bd9e83942d79c8ef22": {
     "model_module": "@jupyter-widgets/base",
     "model_module_version": "1.2.0",
     "model_name": "LayoutModel",
     "state": {
      "_model_module": "@jupyter-widgets/base",
      "_model_module_version": "1.2.0",
      "_model_name": "LayoutModel",
      "_view_count": null,
      "_view_module": "@jupyter-widgets/base",
      "_view_module_version": "1.2.0",
      "_view_name": "LayoutView",
      "align_content": null,
      "align_items": null,
      "align_self": null,
      "border": null,
      "bottom": null,
      "display": null,
      "flex": null,
      "flex_flow": null,
      "grid_area": null,
      "grid_auto_columns": null,
      "grid_auto_flow": null,
      "grid_auto_rows": null,
      "grid_column": null,
      "grid_gap": null,
      "grid_row": null,
      "grid_template_areas": null,
      "grid_template_columns": null,
      "grid_template_rows": null,
      "height": null,
      "justify_content": null,
      "justify_items": null,
      "left": null,
      "margin": null,
      "max_height": null,
      "max_width": null,
      "min_height": null,
      "min_width": null,
      "object_fit": null,
      "object_position": null,
      "order": null,
      "overflow": null,
      "overflow_x": null,
      "overflow_y": null,
      "padding": null,
      "right": null,
      "top": null,
      "visibility": null,
      "width": null
     }
    },
    "3791085bc0954b59ba595fa1dfa3f1a3": {
     "model_module": "@jupyter-widgets/controls",
     "model_module_version": "1.5.0",
     "model_name": "DescriptionStyleModel",
     "state": {
      "_model_module": "@jupyter-widgets/controls",
      "_model_module_version": "1.5.0",
      "_model_name": "DescriptionStyleModel",
      "_view_count": null,
      "_view_module": "@jupyter-widgets/base",
      "_view_module_version": "1.2.0",
      "_view_name": "StyleView",
      "description_width": ""
     }
    },
    "41b8da626840484c9e5b5382a584d580": {
     "model_module": "@jupyter-widgets/controls",
     "model_module_version": "1.5.0",
     "model_name": "HTMLModel",
     "state": {
      "_dom_classes": [],
      "_model_module": "@jupyter-widgets/controls",
      "_model_module_version": "1.5.0",
      "_model_name": "HTMLModel",
      "_view_count": null,
      "_view_module": "@jupyter-widgets/controls",
      "_view_module_version": "1.5.0",
      "_view_name": "HTMLView",
      "description": "",
      "description_tooltip": null,
      "layout": "IPY_MODEL_893ec7c8933f4ce3935bb5f2e51b5cca",
      "placeholder": "​",
      "style": "IPY_MODEL_5c6998330a2b457b80f066598a80e2a3",
      "value": "Downloading: 100%"
     }
    },
    "4619e77327fe42b3bb0f03649e0aab10": {
     "model_module": "@jupyter-widgets/base",
     "model_module_version": "1.2.0",
     "model_name": "LayoutModel",
     "state": {
      "_model_module": "@jupyter-widgets/base",
      "_model_module_version": "1.2.0",
      "_model_name": "LayoutModel",
      "_view_count": null,
      "_view_module": "@jupyter-widgets/base",
      "_view_module_version": "1.2.0",
      "_view_name": "LayoutView",
      "align_content": null,
      "align_items": null,
      "align_self": null,
      "border": null,
      "bottom": null,
      "display": null,
      "flex": null,
      "flex_flow": null,
      "grid_area": null,
      "grid_auto_columns": null,
      "grid_auto_flow": null,
      "grid_auto_rows": null,
      "grid_column": null,
      "grid_gap": null,
      "grid_row": null,
      "grid_template_areas": null,
      "grid_template_columns": null,
      "grid_template_rows": null,
      "height": null,
      "justify_content": null,
      "justify_items": null,
      "left": null,
      "margin": null,
      "max_height": null,
      "max_width": null,
      "min_height": null,
      "min_width": null,
      "object_fit": null,
      "object_position": null,
      "order": null,
      "overflow": null,
      "overflow_x": null,
      "overflow_y": null,
      "padding": null,
      "right": null,
      "top": null,
      "visibility": null,
      "width": null
     }
    },
    "4f178dffe1244708b23accede4127434": {
     "model_module": "@jupyter-widgets/controls",
     "model_module_version": "1.5.0",
     "model_name": "ProgressStyleModel",
     "state": {
      "_model_module": "@jupyter-widgets/controls",
      "_model_module_version": "1.5.0",
      "_model_name": "ProgressStyleModel",
      "_view_count": null,
      "_view_module": "@jupyter-widgets/base",
      "_view_module_version": "1.2.0",
      "_view_name": "StyleView",
      "bar_color": null,
      "description_width": ""
     }
    },
    "500379b1a4fc47d29dee3fbf62520a25": {
     "model_module": "@jupyter-widgets/controls",
     "model_module_version": "1.5.0",
     "model_name": "HTMLModel",
     "state": {
      "_dom_classes": [],
      "_model_module": "@jupyter-widgets/controls",
      "_model_module_version": "1.5.0",
      "_model_name": "HTMLModel",
      "_view_count": null,
      "_view_module": "@jupyter-widgets/controls",
      "_view_module_version": "1.5.0",
      "_view_name": "HTMLView",
      "description": "",
      "description_tooltip": null,
      "layout": "IPY_MODEL_038b72e728034badb2b063a00e7d756c",
      "placeholder": "​",
      "style": "IPY_MODEL_73933626d7234562ae06b9274134d4ee",
      "value": " 112/112 [00:00&lt;00:00, 2.51kB/s]"
     }
    },
    "5794f6cfd5d6465f8d2e3874ae36222d": {
     "model_module": "@jupyter-widgets/controls",
     "model_module_version": "1.5.0",
     "model_name": "DescriptionStyleModel",
     "state": {
      "_model_module": "@jupyter-widgets/controls",
      "_model_module_version": "1.5.0",
      "_model_name": "DescriptionStyleModel",
      "_view_count": null,
      "_view_module": "@jupyter-widgets/base",
      "_view_module_version": "1.2.0",
      "_view_name": "StyleView",
      "description_width": ""
     }
    },
    "5c6998330a2b457b80f066598a80e2a3": {
     "model_module": "@jupyter-widgets/controls",
     "model_module_version": "1.5.0",
     "model_name": "DescriptionStyleModel",
     "state": {
      "_model_module": "@jupyter-widgets/controls",
      "_model_module_version": "1.5.0",
      "_model_name": "DescriptionStyleModel",
      "_view_count": null,
      "_view_module": "@jupyter-widgets/base",
      "_view_module_version": "1.2.0",
      "_view_name": "StyleView",
      "description_width": ""
     }
    },
    "6521018b392e488f9168395b4163888e": {
     "model_module": "@jupyter-widgets/controls",
     "model_module_version": "1.5.0",
     "model_name": "HTMLModel",
     "state": {
      "_dom_classes": [],
      "_model_module": "@jupyter-widgets/controls",
      "_model_module_version": "1.5.0",
      "_model_name": "HTMLModel",
      "_view_count": null,
      "_view_module": "@jupyter-widgets/controls",
      "_view_module_version": "1.5.0",
      "_view_name": "HTMLView",
      "description": "",
      "description_tooltip": null,
      "layout": "IPY_MODEL_d937f3ea29ef4604b4f3f8db8c81c5bb",
      "placeholder": "​",
      "style": "IPY_MODEL_fade7edf49c34c99806811294b7a1338",
      "value": " 2.00/2.00 [00:00&lt;00:00, 21.9B/s]"
     }
    },
    "6e08d18801bc4d1592642cdd22ccb1e5": {
     "model_module": "@jupyter-widgets/controls",
     "model_module_version": "1.5.0",
     "model_name": "HBoxModel",
     "state": {
      "_dom_classes": [],
      "_model_module": "@jupyter-widgets/controls",
      "_model_module_version": "1.5.0",
      "_model_name": "HBoxModel",
      "_view_count": null,
      "_view_module": "@jupyter-widgets/controls",
      "_view_module_version": "1.5.0",
      "_view_name": "HBoxView",
      "box_style": "",
      "children": [
       "IPY_MODEL_bf006d33a5504729aa6ad3d0d4b6ba6c",
       "IPY_MODEL_22a3b2e32f614464a1861fd79bbf05c1",
       "IPY_MODEL_026c76c8620e4adc936f216e01a67b06"
      ],
      "layout": "IPY_MODEL_9acbd6e1136e430ca88ab0694ca314c7"
     }
    },
    "73933626d7234562ae06b9274134d4ee": {
     "model_module": "@jupyter-widgets/controls",
     "model_module_version": "1.5.0",
     "model_name": "DescriptionStyleModel",
     "state": {
      "_model_module": "@jupyter-widgets/controls",
      "_model_module_version": "1.5.0",
      "_model_name": "DescriptionStyleModel",
      "_view_count": null,
      "_view_module": "@jupyter-widgets/base",
      "_view_module_version": "1.2.0",
      "_view_name": "StyleView",
      "description_width": ""
     }
    },
    "78d288b773af4e93a602a38ca4019eba": {
     "model_module": "@jupyter-widgets/controls",
     "model_module_version": "1.5.0",
     "model_name": "ProgressStyleModel",
     "state": {
      "_model_module": "@jupyter-widgets/controls",
      "_model_module_version": "1.5.0",
      "_model_name": "ProgressStyleModel",
      "_view_count": null,
      "_view_module": "@jupyter-widgets/base",
      "_view_module_version": "1.2.0",
      "_view_name": "StyleView",
      "bar_color": null,
      "description_width": ""
     }
    },
    "7d6b81b60a0341a2b7eac62b59e56548": {
     "model_module": "@jupyter-widgets/controls",
     "model_module_version": "1.5.0",
     "model_name": "ProgressStyleModel",
     "state": {
      "_model_module": "@jupyter-widgets/controls",
      "_model_module_version": "1.5.0",
      "_model_name": "ProgressStyleModel",
      "_view_count": null,
      "_view_module": "@jupyter-widgets/base",
      "_view_module_version": "1.2.0",
      "_view_name": "StyleView",
      "bar_color": null,
      "description_width": ""
     }
    },
    "84ab5e9c0bdc44bcae041cb4e11d0bf0": {
     "model_module": "@jupyter-widgets/controls",
     "model_module_version": "1.5.0",
     "model_name": "HTMLModel",
     "state": {
      "_dom_classes": [],
      "_model_module": "@jupyter-widgets/controls",
      "_model_module_version": "1.5.0",
      "_model_name": "HTMLModel",
      "_view_count": null,
      "_view_module": "@jupyter-widgets/controls",
      "_view_module_version": "1.5.0",
      "_view_name": "HTMLView",
      "description": "",
      "description_tooltip": null,
      "layout": "IPY_MODEL_b306acb47c414bb68182c616d8de34c5",
      "placeholder": "​",
      "style": "IPY_MODEL_1842f583787c487983ca3bc8ca77e8f8",
      "value": " 229k/229k [00:00&lt;00:00, 2.96MB/s]"
     }
    },
    "893ec7c8933f4ce3935bb5f2e51b5cca": {
     "model_module": "@jupyter-widgets/base",
     "model_module_version": "1.2.0",
     "model_name": "LayoutModel",
     "state": {
      "_model_module": "@jupyter-widgets/base",
      "_model_module_version": "1.2.0",
      "_model_name": "LayoutModel",
      "_view_count": null,
      "_view_module": "@jupyter-widgets/base",
      "_view_module_version": "1.2.0",
      "_view_name": "LayoutView",
      "align_content": null,
      "align_items": null,
      "align_self": null,
      "border": null,
      "bottom": null,
      "display": null,
      "flex": null,
      "flex_flow": null,
      "grid_area": null,
      "grid_auto_columns": null,
      "grid_auto_flow": null,
      "grid_auto_rows": null,
      "grid_column": null,
      "grid_gap": null,
      "grid_row": null,
      "grid_template_areas": null,
      "grid_template_columns": null,
      "grid_template_rows": null,
      "height": null,
      "justify_content": null,
      "justify_items": null,
      "left": null,
      "margin": null,
      "max_height": null,
      "max_width": null,
      "min_height": null,
      "min_width": null,
      "object_fit": null,
      "object_position": null,
      "order": null,
      "overflow": null,
      "overflow_x": null,
      "overflow_y": null,
      "padding": null,
      "right": null,
      "top": null,
      "visibility": null,
      "width": null
     }
    },
    "8a4941bfb0b84e82bc226ad193ec3e7f": {
     "model_module": "@jupyter-widgets/base",
     "model_module_version": "1.2.0",
     "model_name": "LayoutModel",
     "state": {
      "_model_module": "@jupyter-widgets/base",
      "_model_module_version": "1.2.0",
      "_model_name": "LayoutModel",
      "_view_count": null,
      "_view_module": "@jupyter-widgets/base",
      "_view_module_version": "1.2.0",
      "_view_name": "LayoutView",
      "align_content": null,
      "align_items": null,
      "align_self": null,
      "border": null,
      "bottom": null,
      "display": null,
      "flex": null,
      "flex_flow": null,
      "grid_area": null,
      "grid_auto_columns": null,
      "grid_auto_flow": null,
      "grid_auto_rows": null,
      "grid_column": null,
      "grid_gap": null,
      "grid_row": null,
      "grid_template_areas": null,
      "grid_template_columns": null,
      "grid_template_rows": null,
      "height": null,
      "justify_content": null,
      "justify_items": null,
      "left": null,
      "margin": null,
      "max_height": null,
      "max_width": null,
      "min_height": null,
      "min_width": null,
      "object_fit": null,
      "object_position": null,
      "order": null,
      "overflow": null,
      "overflow_x": null,
      "overflow_y": null,
      "padding": null,
      "right": null,
      "top": null,
      "visibility": null,
      "width": null
     }
    },
    "93d563131f934368aef6186ddb4b55a0": {
     "model_module": "@jupyter-widgets/controls",
     "model_module_version": "1.5.0",
     "model_name": "HTMLModel",
     "state": {
      "_dom_classes": [],
      "_model_module": "@jupyter-widgets/controls",
      "_model_module_version": "1.5.0",
      "_model_name": "HTMLModel",
      "_view_count": null,
      "_view_module": "@jupyter-widgets/controls",
      "_view_module_version": "1.5.0",
      "_view_name": "HTMLView",
      "description": "",
      "description_tooltip": null,
      "layout": "IPY_MODEL_a1eb025fb5624a41b42410d62f199007",
      "placeholder": "​",
      "style": "IPY_MODEL_07d95d6832c04995a503780f99f9003a",
      "value": " 656M/656M [00:15&lt;00:00, 58.3MB/s]"
     }
    },
    "96da93d5de0e4d61951d1bb79b8d9cb3": {
     "model_module": "@jupyter-widgets/controls",
     "model_module_version": "1.5.0",
     "model_name": "HBoxModel",
     "state": {
      "_dom_classes": [],
      "_model_module": "@jupyter-widgets/controls",
      "_model_module_version": "1.5.0",
      "_model_name": "HBoxModel",
      "_view_count": null,
      "_view_module": "@jupyter-widgets/controls",
      "_view_module_version": "1.5.0",
      "_view_name": "HBoxView",
      "box_style": "",
      "children": [
       "IPY_MODEL_19361d03648c49d88229d98aa63e59b9",
       "IPY_MODEL_be48d288444d4a949a47ab2acd88f60d",
       "IPY_MODEL_6521018b392e488f9168395b4163888e"
      ],
      "layout": "IPY_MODEL_8a4941bfb0b84e82bc226ad193ec3e7f"
     }
    },
    "97f59515f4094444b75febb167588435": {
     "model_module": "@jupyter-widgets/controls",
     "model_module_version": "1.5.0",
     "model_name": "DescriptionStyleModel",
     "state": {
      "_model_module": "@jupyter-widgets/controls",
      "_model_module_version": "1.5.0",
      "_model_name": "DescriptionStyleModel",
      "_view_count": null,
      "_view_module": "@jupyter-widgets/base",
      "_view_module_version": "1.2.0",
      "_view_name": "StyleView",
      "description_width": ""
     }
    },
    "9acbd6e1136e430ca88ab0694ca314c7": {
     "model_module": "@jupyter-widgets/base",
     "model_module_version": "1.2.0",
     "model_name": "LayoutModel",
     "state": {
      "_model_module": "@jupyter-widgets/base",
      "_model_module_version": "1.2.0",
      "_model_name": "LayoutModel",
      "_view_count": null,
      "_view_module": "@jupyter-widgets/base",
      "_view_module_version": "1.2.0",
      "_view_name": "LayoutView",
      "align_content": null,
      "align_items": null,
      "align_self": null,
      "border": null,
      "bottom": null,
      "display": null,
      "flex": null,
      "flex_flow": null,
      "grid_area": null,
      "grid_auto_columns": null,
      "grid_auto_flow": null,
      "grid_auto_rows": null,
      "grid_column": null,
      "grid_gap": null,
      "grid_row": null,
      "grid_template_areas": null,
      "grid_template_columns": null,
      "grid_template_rows": null,
      "height": null,
      "justify_content": null,
      "justify_items": null,
      "left": null,
      "margin": null,
      "max_height": null,
      "max_width": null,
      "min_height": null,
      "min_width": null,
      "object_fit": null,
      "object_position": null,
      "order": null,
      "overflow": null,
      "overflow_x": null,
      "overflow_y": null,
      "padding": null,
      "right": null,
      "top": null,
      "visibility": null,
      "width": null
     }
    },
    "9d5aeaba30cc4c098c72c7331341056e": {
     "model_module": "@jupyter-widgets/controls",
     "model_module_version": "1.5.0",
     "model_name": "HBoxModel",
     "state": {
      "_dom_classes": [],
      "_model_module": "@jupyter-widgets/controls",
      "_model_module_version": "1.5.0",
      "_model_name": "HBoxModel",
      "_view_count": null,
      "_view_module": "@jupyter-widgets/controls",
      "_view_module_version": "1.5.0",
      "_view_name": "HBoxView",
      "box_style": "",
      "children": [
       "IPY_MODEL_a27bead743d44dad96d9ac417249e1a3",
       "IPY_MODEL_a1a9b4ccaa75469eb3c2f24e66bc2f12",
       "IPY_MODEL_84ab5e9c0bdc44bcae041cb4e11d0bf0"
      ],
      "layout": "IPY_MODEL_df643f0f204743bc86cc8422c70a5e28"
     }
    },
    "a0d10f9a9ff540a98dc745e846999230": {
     "model_module": "@jupyter-widgets/base",
     "model_module_version": "1.2.0",
     "model_name": "LayoutModel",
     "state": {
      "_model_module": "@jupyter-widgets/base",
      "_model_module_version": "1.2.0",
      "_model_name": "LayoutModel",
      "_view_count": null,
      "_view_module": "@jupyter-widgets/base",
      "_view_module_version": "1.2.0",
      "_view_name": "LayoutView",
      "align_content": null,
      "align_items": null,
      "align_self": null,
      "border": null,
      "bottom": null,
      "display": null,
      "flex": null,
      "flex_flow": null,
      "grid_area": null,
      "grid_auto_columns": null,
      "grid_auto_flow": null,
      "grid_auto_rows": null,
      "grid_column": null,
      "grid_gap": null,
      "grid_row": null,
      "grid_template_areas": null,
      "grid_template_columns": null,
      "grid_template_rows": null,
      "height": null,
      "justify_content": null,
      "justify_items": null,
      "left": null,
      "margin": null,
      "max_height": null,
      "max_width": null,
      "min_height": null,
      "min_width": null,
      "object_fit": null,
      "object_position": null,
      "order": null,
      "overflow": null,
      "overflow_x": null,
      "overflow_y": null,
      "padding": null,
      "right": null,
      "top": null,
      "visibility": null,
      "width": null
     }
    },
    "a1a9b4ccaa75469eb3c2f24e66bc2f12": {
     "model_module": "@jupyter-widgets/controls",
     "model_module_version": "1.5.0",
     "model_name": "FloatProgressModel",
     "state": {
      "_dom_classes": [],
      "_model_module": "@jupyter-widgets/controls",
      "_model_module_version": "1.5.0",
      "_model_name": "FloatProgressModel",
      "_view_count": null,
      "_view_module": "@jupyter-widgets/controls",
      "_view_module_version": "1.5.0",
      "_view_name": "ProgressView",
      "bar_style": "success",
      "description": "",
      "description_tooltip": null,
      "layout": "IPY_MODEL_b4c5be44cc5945b7af03f656ee718771",
      "max": 229167,
      "min": 0,
      "orientation": "horizontal",
      "style": "IPY_MODEL_c438e0971b4545998563c251070de27b",
      "value": 229167
     }
    },
    "a1eb025fb5624a41b42410d62f199007": {
     "model_module": "@jupyter-widgets/base",
     "model_module_version": "1.2.0",
     "model_name": "LayoutModel",
     "state": {
      "_model_module": "@jupyter-widgets/base",
      "_model_module_version": "1.2.0",
      "_model_name": "LayoutModel",
      "_view_count": null,
      "_view_module": "@jupyter-widgets/base",
      "_view_module_version": "1.2.0",
      "_view_name": "LayoutView",
      "align_content": null,
      "align_items": null,
      "align_self": null,
      "border": null,
      "bottom": null,
      "display": null,
      "flex": null,
      "flex_flow": null,
      "grid_area": null,
      "grid_auto_columns": null,
      "grid_auto_flow": null,
      "grid_auto_rows": null,
      "grid_column": null,
      "grid_gap": null,
      "grid_row": null,
      "grid_template_areas": null,
      "grid_template_columns": null,
      "grid_template_rows": null,
      "height": null,
      "justify_content": null,
      "justify_items": null,
      "left": null,
      "margin": null,
      "max_height": null,
      "max_width": null,
      "min_height": null,
      "min_width": null,
      "object_fit": null,
      "object_position": null,
      "order": null,
      "overflow": null,
      "overflow_x": null,
      "overflow_y": null,
      "padding": null,
      "right": null,
      "top": null,
      "visibility": null,
      "width": null
     }
    },
    "a27bead743d44dad96d9ac417249e1a3": {
     "model_module": "@jupyter-widgets/controls",
     "model_module_version": "1.5.0",
     "model_name": "HTMLModel",
     "state": {
      "_dom_classes": [],
      "_model_module": "@jupyter-widgets/controls",
      "_model_module_version": "1.5.0",
      "_model_name": "HTMLModel",
      "_view_count": null,
      "_view_module": "@jupyter-widgets/controls",
      "_view_module_version": "1.5.0",
      "_view_name": "HTMLView",
      "description": "",
      "description_tooltip": null,
      "layout": "IPY_MODEL_d787f9320ea2411f8a1700a7b9594280",
      "placeholder": "​",
      "style": "IPY_MODEL_5794f6cfd5d6465f8d2e3874ae36222d",
      "value": "Downloading: 100%"
     }
    },
    "a6d993fc6bf742e5ad14d29dfdeb35d2": {
     "model_module": "@jupyter-widgets/base",
     "model_module_version": "1.2.0",
     "model_name": "LayoutModel",
     "state": {
      "_model_module": "@jupyter-widgets/base",
      "_model_module_version": "1.2.0",
      "_model_name": "LayoutModel",
      "_view_count": null,
      "_view_module": "@jupyter-widgets/base",
      "_view_module_version": "1.2.0",
      "_view_name": "LayoutView",
      "align_content": null,
      "align_items": null,
      "align_self": null,
      "border": null,
      "bottom": null,
      "display": null,
      "flex": null,
      "flex_flow": null,
      "grid_area": null,
      "grid_auto_columns": null,
      "grid_auto_flow": null,
      "grid_auto_rows": null,
      "grid_column": null,
      "grid_gap": null,
      "grid_row": null,
      "grid_template_areas": null,
      "grid_template_columns": null,
      "grid_template_rows": null,
      "height": null,
      "justify_content": null,
      "justify_items": null,
      "left": null,
      "margin": null,
      "max_height": null,
      "max_width": null,
      "min_height": null,
      "min_width": null,
      "object_fit": null,
      "object_position": null,
      "order": null,
      "overflow": null,
      "overflow_x": null,
      "overflow_y": null,
      "padding": null,
      "right": null,
      "top": null,
      "visibility": null,
      "width": null
     }
    },
    "af315b559cdb4a409f67bdc96c228f6c": {
     "model_module": "@jupyter-widgets/base",
     "model_module_version": "1.2.0",
     "model_name": "LayoutModel",
     "state": {
      "_model_module": "@jupyter-widgets/base",
      "_model_module_version": "1.2.0",
      "_model_name": "LayoutModel",
      "_view_count": null,
      "_view_module": "@jupyter-widgets/base",
      "_view_module_version": "1.2.0",
      "_view_name": "LayoutView",
      "align_content": null,
      "align_items": null,
      "align_self": null,
      "border": null,
      "bottom": null,
      "display": null,
      "flex": null,
      "flex_flow": null,
      "grid_area": null,
      "grid_auto_columns": null,
      "grid_auto_flow": null,
      "grid_auto_rows": null,
      "grid_column": null,
      "grid_gap": null,
      "grid_row": null,
      "grid_template_areas": null,
      "grid_template_columns": null,
      "grid_template_rows": null,
      "height": null,
      "justify_content": null,
      "justify_items": null,
      "left": null,
      "margin": null,
      "max_height": null,
      "max_width": null,
      "min_height": null,
      "min_width": null,
      "object_fit": null,
      "object_position": null,
      "order": null,
      "overflow": null,
      "overflow_x": null,
      "overflow_y": null,
      "padding": null,
      "right": null,
      "top": null,
      "visibility": null,
      "width": null
     }
    },
    "b306acb47c414bb68182c616d8de34c5": {
     "model_module": "@jupyter-widgets/base",
     "model_module_version": "1.2.0",
     "model_name": "LayoutModel",
     "state": {
      "_model_module": "@jupyter-widgets/base",
      "_model_module_version": "1.2.0",
      "_model_name": "LayoutModel",
      "_view_count": null,
      "_view_module": "@jupyter-widgets/base",
      "_view_module_version": "1.2.0",
      "_view_name": "LayoutView",
      "align_content": null,
      "align_items": null,
      "align_self": null,
      "border": null,
      "bottom": null,
      "display": null,
      "flex": null,
      "flex_flow": null,
      "grid_area": null,
      "grid_auto_columns": null,
      "grid_auto_flow": null,
      "grid_auto_rows": null,
      "grid_column": null,
      "grid_gap": null,
      "grid_row": null,
      "grid_template_areas": null,
      "grid_template_columns": null,
      "grid_template_rows": null,
      "height": null,
      "justify_content": null,
      "justify_items": null,
      "left": null,
      "margin": null,
      "max_height": null,
      "max_width": null,
      "min_height": null,
      "min_width": null,
      "object_fit": null,
      "object_position": null,
      "order": null,
      "overflow": null,
      "overflow_x": null,
      "overflow_y": null,
      "padding": null,
      "right": null,
      "top": null,
      "visibility": null,
      "width": null
     }
    },
    "b4c5be44cc5945b7af03f656ee718771": {
     "model_module": "@jupyter-widgets/base",
     "model_module_version": "1.2.0",
     "model_name": "LayoutModel",
     "state": {
      "_model_module": "@jupyter-widgets/base",
      "_model_module_version": "1.2.0",
      "_model_name": "LayoutModel",
      "_view_count": null,
      "_view_module": "@jupyter-widgets/base",
      "_view_module_version": "1.2.0",
      "_view_name": "LayoutView",
      "align_content": null,
      "align_items": null,
      "align_self": null,
      "border": null,
      "bottom": null,
      "display": null,
      "flex": null,
      "flex_flow": null,
      "grid_area": null,
      "grid_auto_columns": null,
      "grid_auto_flow": null,
      "grid_auto_rows": null,
      "grid_column": null,
      "grid_gap": null,
      "grid_row": null,
      "grid_template_areas": null,
      "grid_template_columns": null,
      "grid_template_rows": null,
      "height": null,
      "justify_content": null,
      "justify_items": null,
      "left": null,
      "margin": null,
      "max_height": null,
      "max_width": null,
      "min_height": null,
      "min_width": null,
      "object_fit": null,
      "object_position": null,
      "order": null,
      "overflow": null,
      "overflow_x": null,
      "overflow_y": null,
      "padding": null,
      "right": null,
      "top": null,
      "visibility": null,
      "width": null
     }
    },
    "badf17cf697242d3b97ba121e08307c5": {
     "model_module": "@jupyter-widgets/base",
     "model_module_version": "1.2.0",
     "model_name": "LayoutModel",
     "state": {
      "_model_module": "@jupyter-widgets/base",
      "_model_module_version": "1.2.0",
      "_model_name": "LayoutModel",
      "_view_count": null,
      "_view_module": "@jupyter-widgets/base",
      "_view_module_version": "1.2.0",
      "_view_name": "LayoutView",
      "align_content": null,
      "align_items": null,
      "align_self": null,
      "border": null,
      "bottom": null,
      "display": null,
      "flex": null,
      "flex_flow": null,
      "grid_area": null,
      "grid_auto_columns": null,
      "grid_auto_flow": null,
      "grid_auto_rows": null,
      "grid_column": null,
      "grid_gap": null,
      "grid_row": null,
      "grid_template_areas": null,
      "grid_template_columns": null,
      "grid_template_rows": null,
      "height": null,
      "justify_content": null,
      "justify_items": null,
      "left": null,
      "margin": null,
      "max_height": null,
      "max_width": null,
      "min_height": null,
      "min_width": null,
      "object_fit": null,
      "object_position": null,
      "order": null,
      "overflow": null,
      "overflow_x": null,
      "overflow_y": null,
      "padding": null,
      "right": null,
      "top": null,
      "visibility": null,
      "width": null
     }
    },
    "bb04343c6e744953828f91f18f504009": {
     "model_module": "@jupyter-widgets/controls",
     "model_module_version": "1.5.0",
     "model_name": "DescriptionStyleModel",
     "state": {
      "_model_module": "@jupyter-widgets/controls",
      "_model_module_version": "1.5.0",
      "_model_name": "DescriptionStyleModel",
      "_view_count": null,
      "_view_module": "@jupyter-widgets/base",
      "_view_module_version": "1.2.0",
      "_view_name": "StyleView",
      "description_width": ""
     }
    },
    "bbb172c08a0f4816a03f2f3c63fc8bef": {
     "model_module": "@jupyter-widgets/controls",
     "model_module_version": "1.5.0",
     "model_name": "ProgressStyleModel",
     "state": {
      "_model_module": "@jupyter-widgets/controls",
      "_model_module_version": "1.5.0",
      "_model_name": "ProgressStyleModel",
      "_view_count": null,
      "_view_module": "@jupyter-widgets/base",
      "_view_module_version": "1.2.0",
      "_view_name": "StyleView",
      "bar_color": null,
      "description_width": ""
     }
    },
    "be48d288444d4a949a47ab2acd88f60d": {
     "model_module": "@jupyter-widgets/controls",
     "model_module_version": "1.5.0",
     "model_name": "FloatProgressModel",
     "state": {
      "_dom_classes": [],
      "_model_module": "@jupyter-widgets/controls",
      "_model_module_version": "1.5.0",
      "_model_name": "FloatProgressModel",
      "_view_count": null,
      "_view_module": "@jupyter-widgets/controls",
      "_view_module_version": "1.5.0",
      "_view_name": "ProgressView",
      "bar_style": "success",
      "description": "",
      "description_tooltip": null,
      "layout": "IPY_MODEL_af315b559cdb4a409f67bdc96c228f6c",
      "max": 2,
      "min": 0,
      "orientation": "horizontal",
      "style": "IPY_MODEL_78d288b773af4e93a602a38ca4019eba",
      "value": 2
     }
    },
    "bf006d33a5504729aa6ad3d0d4b6ba6c": {
     "model_module": "@jupyter-widgets/controls",
     "model_module_version": "1.5.0",
     "model_name": "HTMLModel",
     "state": {
      "_dom_classes": [],
      "_model_module": "@jupyter-widgets/controls",
      "_model_module_version": "1.5.0",
      "_model_name": "HTMLModel",
      "_view_count": null,
      "_view_module": "@jupyter-widgets/controls",
      "_view_module_version": "1.5.0",
      "_view_name": "HTMLView",
      "description": "",
      "description_tooltip": null,
      "layout": "IPY_MODEL_fc1dc02e83864aa4a42e218e459a721a",
      "placeholder": "​",
      "style": "IPY_MODEL_0d23762b7fb448c7bfef157d6777c406",
      "value": "Downloading: 100%"
     }
    },
    "c438e0971b4545998563c251070de27b": {
     "model_module": "@jupyter-widgets/controls",
     "model_module_version": "1.5.0",
     "model_name": "ProgressStyleModel",
     "state": {
      "_model_module": "@jupyter-widgets/controls",
      "_model_module_version": "1.5.0",
      "_model_name": "ProgressStyleModel",
      "_view_count": null,
      "_view_module": "@jupyter-widgets/base",
      "_view_module_version": "1.2.0",
      "_view_name": "StyleView",
      "bar_color": null,
      "description_width": ""
     }
    },
    "d787f9320ea2411f8a1700a7b9594280": {
     "model_module": "@jupyter-widgets/base",
     "model_module_version": "1.2.0",
     "model_name": "LayoutModel",
     "state": {
      "_model_module": "@jupyter-widgets/base",
      "_model_module_version": "1.2.0",
      "_model_name": "LayoutModel",
      "_view_count": null,
      "_view_module": "@jupyter-widgets/base",
      "_view_module_version": "1.2.0",
      "_view_name": "LayoutView",
      "align_content": null,
      "align_items": null,
      "align_self": null,
      "border": null,
      "bottom": null,
      "display": null,
      "flex": null,
      "flex_flow": null,
      "grid_area": null,
      "grid_auto_columns": null,
      "grid_auto_flow": null,
      "grid_auto_rows": null,
      "grid_column": null,
      "grid_gap": null,
      "grid_row": null,
      "grid_template_areas": null,
      "grid_template_columns": null,
      "grid_template_rows": null,
      "height": null,
      "justify_content": null,
      "justify_items": null,
      "left": null,
      "margin": null,
      "max_height": null,
      "max_width": null,
      "min_height": null,
      "min_width": null,
      "object_fit": null,
      "object_position": null,
      "order": null,
      "overflow": null,
      "overflow_x": null,
      "overflow_y": null,
      "padding": null,
      "right": null,
      "top": null,
      "visibility": null,
      "width": null
     }
    },
    "d937f3ea29ef4604b4f3f8db8c81c5bb": {
     "model_module": "@jupyter-widgets/base",
     "model_module_version": "1.2.0",
     "model_name": "LayoutModel",
     "state": {
      "_model_module": "@jupyter-widgets/base",
      "_model_module_version": "1.2.0",
      "_model_name": "LayoutModel",
      "_view_count": null,
      "_view_module": "@jupyter-widgets/base",
      "_view_module_version": "1.2.0",
      "_view_name": "LayoutView",
      "align_content": null,
      "align_items": null,
      "align_self": null,
      "border": null,
      "bottom": null,
      "display": null,
      "flex": null,
      "flex_flow": null,
      "grid_area": null,
      "grid_auto_columns": null,
      "grid_auto_flow": null,
      "grid_auto_rows": null,
      "grid_column": null,
      "grid_gap": null,
      "grid_row": null,
      "grid_template_areas": null,
      "grid_template_columns": null,
      "grid_template_rows": null,
      "height": null,
      "justify_content": null,
      "justify_items": null,
      "left": null,
      "margin": null,
      "max_height": null,
      "max_width": null,
      "min_height": null,
      "min_width": null,
      "object_fit": null,
      "object_position": null,
      "order": null,
      "overflow": null,
      "overflow_x": null,
      "overflow_y": null,
      "padding": null,
      "right": null,
      "top": null,
      "visibility": null,
      "width": null
     }
    },
    "df643f0f204743bc86cc8422c70a5e28": {
     "model_module": "@jupyter-widgets/base",
     "model_module_version": "1.2.0",
     "model_name": "LayoutModel",
     "state": {
      "_model_module": "@jupyter-widgets/base",
      "_model_module_version": "1.2.0",
      "_model_name": "LayoutModel",
      "_view_count": null,
      "_view_module": "@jupyter-widgets/base",
      "_view_module_version": "1.2.0",
      "_view_name": "LayoutView",
      "align_content": null,
      "align_items": null,
      "align_self": null,
      "border": null,
      "bottom": null,
      "display": null,
      "flex": null,
      "flex_flow": null,
      "grid_area": null,
      "grid_auto_columns": null,
      "grid_auto_flow": null,
      "grid_auto_rows": null,
      "grid_column": null,
      "grid_gap": null,
      "grid_row": null,
      "grid_template_areas": null,
      "grid_template_columns": null,
      "grid_template_rows": null,
      "height": null,
      "justify_content": null,
      "justify_items": null,
      "left": null,
      "margin": null,
      "max_height": null,
      "max_width": null,
      "min_height": null,
      "min_width": null,
      "object_fit": null,
      "object_position": null,
      "order": null,
      "overflow": null,
      "overflow_x": null,
      "overflow_y": null,
      "padding": null,
      "right": null,
      "top": null,
      "visibility": null,
      "width": null
     }
    },
    "fa4230ece982473db082945bb2261e53": {
     "model_module": "@jupyter-widgets/controls",
     "model_module_version": "1.5.0",
     "model_name": "FloatProgressModel",
     "state": {
      "_dom_classes": [],
      "_model_module": "@jupyter-widgets/controls",
      "_model_module_version": "1.5.0",
      "_model_name": "FloatProgressModel",
      "_view_count": null,
      "_view_module": "@jupyter-widgets/controls",
      "_view_module_version": "1.5.0",
      "_view_name": "ProgressView",
      "bar_style": "success",
      "description": "",
      "description_tooltip": null,
      "layout": "IPY_MODEL_4619e77327fe42b3bb0f03649e0aab10",
      "max": 112,
      "min": 0,
      "orientation": "horizontal",
      "style": "IPY_MODEL_bbb172c08a0f4816a03f2f3c63fc8bef",
      "value": 112
     }
    },
    "fade7edf49c34c99806811294b7a1338": {
     "model_module": "@jupyter-widgets/controls",
     "model_module_version": "1.5.0",
     "model_name": "DescriptionStyleModel",
     "state": {
      "_model_module": "@jupyter-widgets/controls",
      "_model_module_version": "1.5.0",
      "_model_name": "DescriptionStyleModel",
      "_view_count": null,
      "_view_module": "@jupyter-widgets/base",
      "_view_module_version": "1.2.0",
      "_view_name": "StyleView",
      "description_width": ""
     }
    },
    "fc1dc02e83864aa4a42e218e459a721a": {
     "model_module": "@jupyter-widgets/base",
     "model_module_version": "1.2.0",
     "model_name": "LayoutModel",
     "state": {
      "_model_module": "@jupyter-widgets/base",
      "_model_module_version": "1.2.0",
      "_model_name": "LayoutModel",
      "_view_count": null,
      "_view_module": "@jupyter-widgets/base",
      "_view_module_version": "1.2.0",
      "_view_name": "LayoutView",
      "align_content": null,
      "align_items": null,
      "align_self": null,
      "border": null,
      "bottom": null,
      "display": null,
      "flex": null,
      "flex_flow": null,
      "grid_area": null,
      "grid_auto_columns": null,
      "grid_auto_flow": null,
      "grid_auto_rows": null,
      "grid_column": null,
      "grid_gap": null,
      "grid_row": null,
      "grid_template_areas": null,
      "grid_template_columns": null,
      "grid_template_rows": null,
      "height": null,
      "justify_content": null,
      "justify_items": null,
      "left": null,
      "margin": null,
      "max_height": null,
      "max_width": null,
      "min_height": null,
      "min_width": null,
      "object_fit": null,
      "object_position": null,
      "order": null,
      "overflow": null,
      "overflow_x": null,
      "overflow_y": null,
      "padding": null,
      "right": null,
      "top": null,
      "visibility": null,
      "width": null
     }
    },
    "fe7d06a47448400bb6b134e2c4432eee": {
     "model_module": "@jupyter-widgets/controls",
     "model_module_version": "1.5.0",
     "model_name": "FloatProgressModel",
     "state": {
      "_dom_classes": [],
      "_model_module": "@jupyter-widgets/controls",
      "_model_module_version": "1.5.0",
      "_model_name": "FloatProgressModel",
      "_view_count": null,
      "_view_module": "@jupyter-widgets/controls",
      "_view_module_version": "1.5.0",
      "_view_name": "ProgressView",
      "bar_style": "success",
      "description": "",
      "description_tooltip": null,
      "layout": "IPY_MODEL_196a4532c0af4119af6c4cca39920260",
      "max": 655812184,
      "min": 0,
      "orientation": "horizontal",
      "style": "IPY_MODEL_7d6b81b60a0341a2b7eac62b59e56548",
      "value": 655812184
     }
    }
   }
  }
 },
 "nbformat": 4,
 "nbformat_minor": 1
}
